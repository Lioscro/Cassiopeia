{
 "cells": [
  {
   "cell_type": "code",
   "execution_count": 1,
   "metadata": {},
   "outputs": [],
   "source": [
    "import math\n",
    "import numpy as np\n",
    "import scipy.optimize\n",
    "import pickle as pic\n",
    "import matplotlib.pyplot as plt\n",
    "import statistics\n",
    "import itertools\n",
    "import networkx as nx\n",
    "import pandas as pd"
   ]
  },
  {
   "cell_type": "code",
   "execution_count": 2,
   "metadata": {},
   "outputs": [],
   "source": [
    "def f_h(vec1, vec2, T, birth_rate, death_rate, p, q_map):\n",
    "    def d_log_g(h):\n",
    "        return birth_rate/2\n",
    "\n",
    "    def d_log_d(h):\n",
    "        return -death_rate\n",
    "\n",
    "    def d_log_both_zero(h):\n",
    "        return -p\n",
    "\n",
    "    def d_log_equal(h, q):\n",
    "        return (p*((q-1)*math.exp(2*p*h)-q))/((q-1)*math.exp(2*p*h)+(math.exp(p*T)-2*q)*math.exp(p*h)+q)\n",
    "\n",
    "    def d_log_unequal_nonzero(h):\n",
    "        return p/(math.exp(p*h)-1)\n",
    "\n",
    "    def d_log_unequal_onezero(h):\n",
    "        return (p*math.exp(p*h)+p)/(math.exp(p*h)-1)\n",
    "    \n",
    "    def dummy(h):\n",
    "        return 0\n",
    "    \n",
    "    funcs = []\n",
    "    func_flags = []\n",
    "    \n",
    "#     vec1 = node1.char_vec\n",
    "#     vec2 = node2.char_vec\n",
    "    \n",
    "    for i in range(len(vec1)):\n",
    "        if vec1[i] == -1 or vec2[i] == -1: #or vec1[i] == '-' or vec2[i] == '-':\n",
    "            funcs.append(dummy)\n",
    "            func_flags.append(0)\n",
    "        elif vec1[i] == 0 and vec2[i] == 0:\n",
    "            funcs.append(d_log_both_zero)\n",
    "            func_flags.append(0)\n",
    "        elif vec1[i] == vec2[i]:\n",
    "            funcs.append(d_log_equal)\n",
    "            func_flags.append(1)\n",
    "        elif vec1[i] == 0 or vec2[i] == 0:\n",
    "            funcs.append(d_log_unequal_onezero)\n",
    "            func_flags.append(0)\n",
    "        else:\n",
    "            funcs.append(d_log_unequal_nonzero)\n",
    "            func_flags.append(0)\n",
    "            \n",
    "    def final_func(h, q_map = q_map):\n",
    "        final = 0 #d_log_g(h) + d_log_d(h)\n",
    "        for i in range(len(funcs)):\n",
    "            if func_flags[i]:\n",
    "                final += funcs[i](h, q_map[i][str(vec1[i])])\n",
    "            else:\n",
    "                final += funcs[i](h)\n",
    "        return -final\n",
    "    \n",
    "    ret = scipy.optimize.fsolve(final_func, 0.00001)[0]\n",
    "    if ret > T:\n",
    "        return T\n",
    "    elif ret < 0:\n",
    "        return 0\n",
    "    else:\n",
    "        return ret"
   ]
  },
  {
   "cell_type": "code",
   "execution_count": 22,
   "metadata": {},
   "outputs": [],
   "source": [
    "def longest_path(network, node, total, ans):\n",
    "    if network.out_degree(node) == 0:\n",
    "        if total > ans[0]:\n",
    "            ans[0] = total\n",
    "    \n",
    "    total += network.nodes[node]['parent_lifespan']\n",
    "    for i in network.successors(node):\n",
    "#         print(network.nodes[i]['parent_lifespan'])\n",
    "        longest_path(network, i, total, ans)"
   ]
  },
  {
   "cell_type": "code",
   "execution_count": 23,
   "metadata": {},
   "outputs": [
    {
     "ename": "NameError",
     "evalue": "name 'find_children' is not defined",
     "output_type": "error",
     "traceback": [
      "\u001b[0;31m---------------------------------------------------------------------------\u001b[0m",
      "\u001b[0;31mNameError\u001b[0m                                 Traceback (most recent call last)",
      "\u001b[0;32m<ipython-input-23-038fd6d523ca>\u001b[0m in \u001b[0;36m<module>\u001b[0;34m\u001b[0m\n\u001b[1;32m     24\u001b[0m \u001b[0;34m\u001b[0m\u001b[0m\n\u001b[1;32m     25\u001b[0m     \u001b[0mroot\u001b[0m \u001b[0;34m=\u001b[0m \u001b[0;34m[\u001b[0m\u001b[0mn\u001b[0m \u001b[0;32mfor\u001b[0m \u001b[0mn\u001b[0m \u001b[0;32min\u001b[0m \u001b[0mTt\u001b[0m \u001b[0;32mif\u001b[0m \u001b[0mTt\u001b[0m\u001b[0;34m.\u001b[0m\u001b[0min_degree\u001b[0m\u001b[0;34m(\u001b[0m\u001b[0mn\u001b[0m\u001b[0;34m)\u001b[0m \u001b[0;34m==\u001b[0m \u001b[0;36m0\u001b[0m\u001b[0;34m]\u001b[0m\u001b[0;34m[\u001b[0m\u001b[0;36m0\u001b[0m\u001b[0;34m]\u001b[0m\u001b[0;34m\u001b[0m\u001b[0;34m\u001b[0m\u001b[0m\n\u001b[0;32m---> 26\u001b[0;31m     \u001b[0mfind_children\u001b[0m\u001b[0;34m(\u001b[0m\u001b[0mroot\u001b[0m\u001b[0;34m,\u001b[0m \u001b[0;36m0\u001b[0m\u001b[0;34m)\u001b[0m\u001b[0;34m\u001b[0m\u001b[0;34m\u001b[0m\u001b[0m\n\u001b[0m\u001b[1;32m     27\u001b[0m \u001b[0;34m\u001b[0m\u001b[0m\n\u001b[1;32m     28\u001b[0m     \u001b[0mpriors\u001b[0m \u001b[0;34m=\u001b[0m \u001b[0mpic\u001b[0m\u001b[0;34m.\u001b[0m\u001b[0mload\u001b[0m\u001b[0;34m(\u001b[0m\u001b[0mopen\u001b[0m\u001b[0;34m(\u001b[0m\u001b[0mpath\u001b[0m \u001b[0;34m+\u001b[0m \u001b[0;34m\"priors\"\u001b[0m \u001b[0;34m+\u001b[0m \u001b[0mstr\u001b[0m\u001b[0;34m(\u001b[0m\u001b[0mnum\u001b[0m\u001b[0;34m)\u001b[0m \u001b[0;34m+\u001b[0m \u001b[0;34m\".pkl\"\u001b[0m\u001b[0;34m,\u001b[0m \u001b[0;34m'rb'\u001b[0m\u001b[0;34m)\u001b[0m\u001b[0;34m)\u001b[0m\u001b[0;34m\u001b[0m\u001b[0;34m\u001b[0m\u001b[0m\n",
      "\u001b[0;31mNameError\u001b[0m: name 'find_children' is not defined"
     ]
    }
   ],
   "source": [
    "folder = \"400cells_base_time\"\n",
    "path = \"/data/yosef2/users/richardz/projects/benchmarking/\" + folder + \"/\"\n",
    "\n",
    "true_heights = []\n",
    "estimated_hs = []\n",
    "\n",
    "for num in range(50):\n",
    "    t_h = []\n",
    "    est_h = []\n",
    "    net = pic.load(open(path + \"dropout_net\" + str(num) + \".pkl\", 'rb'))\n",
    "    Tt = net.network\n",
    "    \n",
    "#     root = [n for n in Tt if Tt.in_degree(n) == 0][0]\n",
    "#     ans = [0]\n",
    "#     longest_path(Tt, root, 0, ans)\n",
    "\n",
    "    ans = [100]\n",
    "\n",
    "    bin_size = 10\n",
    "    # sample_size\n",
    "    children = {}\n",
    "    node_times = {}\n",
    "    nodes_at_depth = {}\n",
    "\n",
    "    root = [n for n in Tt if Tt.in_degree(n) == 0][0]\n",
    "    find_children(root, 0)\n",
    "\n",
    "    priors = pic.load(open(path + \"priors\" + str(num) + \".pkl\", 'rb'))\n",
    "\n",
    "    for i in nodes_at_depth:\n",
    "        chosen = np.random.choice(nodes_at_depth[i], 10)\n",
    "        for n in chosen:\n",
    "            L, R = list(Tt.neighbors(n))[0], list(Tt.neighbors(n))[1]\n",
    "            L_child = np.random.choice(children[L])\n",
    "            R_child = np.random.choice(children[R])\n",
    "            est_h.append(f_h(L_child.char_vec, R_child.char_vec, ans[0], 0.07673309837740516, 0.011509964756610773, np.log(1 - .53)/(-1 * ans[0]), priors))\n",
    "#             t_h.append((node_times[L_child] - node_times[n] + node_times[R_child] - node_times[n])/2)\n",
    "            t_h.append(ans[0] - node_times[n])\n",
    "\n",
    "#     if sum([n > 100 for n in t_h]) > 0:\n",
    "#         continue\n",
    "    \n",
    "    true_heights.extend(t_h)\n",
    "    estimated_hs.extend(est_h)\n"
   ]
  },
  {
   "cell_type": "code",
   "execution_count": null,
   "metadata": {},
   "outputs": [],
   "source": [
    "true_heights_p = []\n",
    "estimated_hs_p = []\n",
    "\n",
    "for i in range(len(estimated_hs)):\n",
    "    if true_heights[i] > 0:\n",
    "        true_heights_p.append(true_heights[i])\n",
    "        estimated_hs_p.append(estimated_hs[i])"
   ]
  },
  {
   "cell_type": "code",
   "execution_count": null,
   "metadata": {},
   "outputs": [],
   "source": [
    "len(estimated_hs)"
   ]
  },
  {
   "cell_type": "code",
   "execution_count": null,
   "metadata": {},
   "outputs": [],
   "source": [
    "plt.scatter(true_heights_p, estimated_hs_p)\n",
    "plt.plot([0,100],[0,100], color = 'red')"
   ]
  },
  {
   "cell_type": "code",
   "execution_count": null,
   "metadata": {},
   "outputs": [],
   "source": [
    "resids = [estimated_hs_p[i] - true_heights_p[i] for i in range(len(estimated_hs_p))]"
   ]
  },
  {
   "cell_type": "code",
   "execution_count": null,
   "metadata": {},
   "outputs": [],
   "source": [
    "plt.scatter(true_heights_p, resids)\n",
    "plt.plot([0, 100], [0, 0], color = 'red')"
   ]
  },
  {
   "cell_type": "code",
   "execution_count": null,
   "metadata": {},
   "outputs": [],
   "source": [
    "statistics.mean(resids)"
   ]
  },
  {
   "cell_type": "code",
   "execution_count": null,
   "metadata": {},
   "outputs": [],
   "source": [
    "statistics.median(resids)"
   ]
  },
  {
   "cell_type": "code",
   "execution_count": null,
   "metadata": {},
   "outputs": [],
   "source": [
    "min({0: 2, 1: 2})"
   ]
  },
  {
   "cell_type": "code",
   "execution_count": 3,
   "metadata": {},
   "outputs": [],
   "source": [
    "def build_tree_nj(samples, time, birth_rate, death_rate, p, q_map, subset = None):\n",
    "    if not subset:\n",
    "        subset = list(range(len(samples)))\n",
    "    else:\n",
    "        subset = list(subset)\n",
    "    subset = remove_duplicates(samples, subset)\n",
    "#     print(subset)\n",
    "    T = nx.DiGraph()\n",
    "    unique = len(subset)\n",
    "#     print(unique)\n",
    "    \n",
    "    def get_distances(samples, subset):\n",
    "        distances = {}\n",
    "        for comb in list(itertools.combinations(subset, 2)):\n",
    "#             print(comb)\n",
    "            dist = f_h(samples[comb[0]].chars, samples[comb[1]].chars, time, birth_rate, death_rate, p, q_map)\n",
    "            distances[dist] = comb\n",
    "        return distances\n",
    "    \n",
    "    while len(subset) > 1:\n",
    "        dists = get_distances(samples, subset)\n",
    "        comb = dists[min(dists)]\n",
    "        vec1 = samples[comb[0]].chars\n",
    "        vec2 = samples[comb[1]].chars\n",
    "        anc_vec = []\n",
    "        for i in range(len(vec1)):\n",
    "            if vec1[i] == vec2[i]:\n",
    "                anc_vec.append(vec1[i])\n",
    "            elif vec1[i] == '-1':\n",
    "                anc_vec.append(vec2[i])\n",
    "            elif vec2[i] == '-1':\n",
    "                anc_vec.append(vec1[i])\n",
    "            else:\n",
    "                anc_vec.append('0')\n",
    "        node = Node(anc_vec, samples[0].num_states, parent=None, left=None, right=None)\n",
    "        samples.append(node)\n",
    "        subset.add(unique)\n",
    "        unique += 1\n",
    "        subset.remove(comb[0])\n",
    "        subset.remove(comb[1])\n",
    "        T.add_node(node)\n",
    "        T.add_node(samples[comb[0]])\n",
    "        T.add_node(samples[comb[1]])\n",
    "        T.add_edge(node, samples[comb[0]])\n",
    "        T.add_edge(node, samples[comb[1]])\n",
    "        print(len(subset))\n",
    "    return T\n",
    "        \n",
    "        "
   ]
  },
  {
   "cell_type": "code",
   "execution_count": 4,
   "metadata": {},
   "outputs": [],
   "source": [
    "class Node:\n",
    "    \n",
    "    def __init__(self, char_list, num_states, parent=None, left=None, right=None):\n",
    "        # num_states includes the 0 state. For example, if the possible states are 0 or 1, then num_states=2\n",
    "        self.chars = char_list\n",
    "        self.parent = parent\n",
    "        self.left = left\n",
    "        self.right = right\n",
    "        self.num_chars = len(self.chars)\n",
    "        self.num_states = num_states\n",
    "        \n",
    "    def is_leaf(self):\n",
    "        return not (self.left or self.right)\n",
    "\n",
    "    def duplicate(self, p, q=None, dropout_rate=0):\n",
    "        assert len(p) == len(self.chars), \"invalid p vector\"\n",
    "        if q:\n",
    "            for i in range(len(p)):\n",
    "                assert len(q[i]) + 1 == self.num_states, \"invalid q[\" + str(i) + \"] vector\"\n",
    "                \n",
    "        new_chars = []\n",
    "        if not q:\n",
    "            q = [None for i in self.chars]\n",
    "\n",
    "        for l in range(len(self.chars)):\n",
    "            if self.chars[l] != 0:\n",
    "                new_chars.append(self.chars[l])\n",
    "            else:\n",
    "                if np.random.random() < p[l]:\n",
    "                    new_chars.append(np.random.choice(np.arange(1, self.num_states), 1, p=q[l])[0])\n",
    "                else:\n",
    "                    new_chars.append(self.chars[l])\n",
    "        \n",
    "        return Node(new_chars, self.num_states)\n",
    "    \n",
    "    def __str__(self):\n",
    "        s = ''\n",
    "        for x in self.chars:\n",
    "            s += str(x) + '|'\n",
    "        return s[:-1]\n",
    "    \n",
    "def remove_duplicates(nodes, indices):\n",
    "    indices = list(indices)\n",
    "    indices.sort(key=lambda i: nodes[i].chars)\n",
    "    final_set = set()\n",
    "    i = 0\n",
    "    j = 1\n",
    "    while j < len(indices):\n",
    "        if nodes[indices[i]].chars != nodes[indices[j]].chars:\n",
    "            final_set.add(indices[i])\n",
    "            i = j\n",
    "        j += 1\n",
    "    final_set.add(indices[i])\n",
    "    return final_set\n",
    "            "
   ]
  },
  {
   "cell_type": "code",
   "execution_count": 87,
   "metadata": {},
   "outputs": [
    {
     "data": {
      "text/plain": [
       "3"
      ]
     },
     "execution_count": 87,
     "metadata": {},
     "output_type": "execute_result"
    }
   ],
   "source": [
    "vec1 = ['1','0','2','0','1']\n",
    "vec2 = ['0','1','2','0','1']\n",
    "vec3 = ['0','0','2','1','1']\n",
    "vecs = [vec1, vec2, vec3]\n",
    "\n",
    "samples = []\n",
    "for row in vecs:\n",
    "    node = Node(list(row), 3, parent=None, left=None, right=None)\n",
    "    samples.append(node)\n",
    "    \n",
    "q_map = {}\n",
    "for i in range(len(vec1)):\n",
    "    q_map[i] = {'1': 0.5, '2': 0.5}\n",
    "\n",
    "len(samples)"
   ]
  },
  {
   "cell_type": "code",
   "execution_count": 88,
   "metadata": {},
   "outputs": [
    {
     "name": "stdout",
     "output_type": "stream",
     "text": [
      "{0, 1, 2}\n",
      "3\n",
      "(0, 1)\n",
      "(0, 2)\n",
      "(1, 2)\n",
      "(0, 3)\n"
     ]
    }
   ],
   "source": [
    "net = build_tree_nj(samples, 100, 0.07673309837740516, 0.011509964756610773, np.log(1 - .53)/(-1 * 100), q_map, subset = None)"
   ]
  },
  {
   "cell_type": "code",
   "execution_count": 89,
   "metadata": {},
   "outputs": [
    {
     "name": "stdout",
     "output_type": "stream",
     "text": [
      "{<__main__.Node object at 0x7f9951045320>: ['0', '0', '2', '0', '1'], <__main__.Node object at 0x7f9951045240>: ['0', '1', '2', '0', '1'], <__main__.Node object at 0x7f9951045198>: ['0', '0', '2', '1', '1'], <__main__.Node object at 0x7f9951045ef0>: ['0', '0', '2', '0', '1'], <__main__.Node object at 0x7f9951045588>: ['1', '0', '2', '0', '1']}\n"
     ]
    },
    {
     "ename": "ValueError",
     "evalue": "too many values to unpack (expected 2)",
     "output_type": "error",
     "traceback": [
      "\u001b[0;31m---------------------------------------------------------------------------\u001b[0m",
      "\u001b[0;31mTypeError\u001b[0m                                 Traceback (most recent call last)",
      "\u001b[0;32m~/.local/lib/python3.6/site-packages/networkx/classes/digraph.py\u001b[0m in \u001b[0;36madd_nodes_from\u001b[0;34m(self, nodes_for_adding, **attr)\u001b[0m\n\u001b[1;32m    476\u001b[0m             \u001b[0;32mtry\u001b[0m\u001b[0;34m:\u001b[0m\u001b[0;34m\u001b[0m\u001b[0;34m\u001b[0m\u001b[0m\n\u001b[0;32m--> 477\u001b[0;31m                 \u001b[0;32mif\u001b[0m \u001b[0mn\u001b[0m \u001b[0;32mnot\u001b[0m \u001b[0;32min\u001b[0m \u001b[0mself\u001b[0m\u001b[0;34m.\u001b[0m\u001b[0m_succ\u001b[0m\u001b[0;34m:\u001b[0m\u001b[0;34m\u001b[0m\u001b[0;34m\u001b[0m\u001b[0m\n\u001b[0m\u001b[1;32m    478\u001b[0m                     \u001b[0mself\u001b[0m\u001b[0;34m.\u001b[0m\u001b[0m_succ\u001b[0m\u001b[0;34m[\u001b[0m\u001b[0mn\u001b[0m\u001b[0;34m]\u001b[0m \u001b[0;34m=\u001b[0m \u001b[0mself\u001b[0m\u001b[0;34m.\u001b[0m\u001b[0madjlist_inner_dict_factory\u001b[0m\u001b[0;34m(\u001b[0m\u001b[0;34m)\u001b[0m\u001b[0;34m\u001b[0m\u001b[0;34m\u001b[0m\u001b[0m\n",
      "\u001b[0;31mTypeError\u001b[0m: unhashable type: 'list'",
      "\nDuring handling of the above exception, another exception occurred:\n",
      "\u001b[0;31mValueError\u001b[0m                                Traceback (most recent call last)",
      "\u001b[0;32m<ipython-input-89-0c5bdc0c9d27>\u001b[0m in \u001b[0;36m<module>\u001b[0;34m\u001b[0m\n\u001b[1;32m      5\u001b[0m \u001b[0;34m\u001b[0m\u001b[0m\n\u001b[1;32m      6\u001b[0m \u001b[0mprint\u001b[0m\u001b[0;34m(\u001b[0m\u001b[0mrdict\u001b[0m\u001b[0;34m)\u001b[0m\u001b[0;34m\u001b[0m\u001b[0;34m\u001b[0m\u001b[0m\n\u001b[0;32m----> 7\u001b[0;31m \u001b[0mnet\u001b[0m \u001b[0;34m=\u001b[0m \u001b[0mnx\u001b[0m\u001b[0;34m.\u001b[0m\u001b[0mrelabel_nodes\u001b[0m\u001b[0;34m(\u001b[0m\u001b[0mnet\u001b[0m\u001b[0;34m,\u001b[0m \u001b[0mrdict\u001b[0m\u001b[0;34m)\u001b[0m\u001b[0;34m\u001b[0m\u001b[0;34m\u001b[0m\u001b[0m\n\u001b[0m\u001b[1;32m      8\u001b[0m \u001b[0;31m# pos = nx.nx_agraph.graphviz_layout(net, prog = \"dot\")\u001b[0m\u001b[0;34m\u001b[0m\u001b[0;34m\u001b[0m\u001b[0;34m\u001b[0m\u001b[0m\n\u001b[1;32m      9\u001b[0m \u001b[0;31m# nx.draw(net, pos = pos, with_labels = True)\u001b[0m\u001b[0;34m\u001b[0m\u001b[0;34m\u001b[0m\u001b[0;34m\u001b[0m\u001b[0m\n",
      "\u001b[0;32m~/.local/lib/python3.6/site-packages/networkx/relabel.py\u001b[0m in \u001b[0;36mrelabel_nodes\u001b[0;34m(G, mapping, copy)\u001b[0m\n\u001b[1;32m     95\u001b[0m         \u001b[0mm\u001b[0m \u001b[0;34m=\u001b[0m \u001b[0mmapping\u001b[0m\u001b[0;34m\u001b[0m\u001b[0;34m\u001b[0m\u001b[0m\n\u001b[1;32m     96\u001b[0m     \u001b[0;32mif\u001b[0m \u001b[0mcopy\u001b[0m\u001b[0;34m:\u001b[0m\u001b[0;34m\u001b[0m\u001b[0;34m\u001b[0m\u001b[0m\n\u001b[0;32m---> 97\u001b[0;31m         \u001b[0;32mreturn\u001b[0m \u001b[0m_relabel_copy\u001b[0m\u001b[0;34m(\u001b[0m\u001b[0mG\u001b[0m\u001b[0;34m,\u001b[0m \u001b[0mm\u001b[0m\u001b[0;34m)\u001b[0m\u001b[0;34m\u001b[0m\u001b[0;34m\u001b[0m\u001b[0m\n\u001b[0m\u001b[1;32m     98\u001b[0m     \u001b[0;32melse\u001b[0m\u001b[0;34m:\u001b[0m\u001b[0;34m\u001b[0m\u001b[0;34m\u001b[0m\u001b[0m\n\u001b[1;32m     99\u001b[0m         \u001b[0;32mreturn\u001b[0m \u001b[0m_relabel_inplace\u001b[0m\u001b[0;34m(\u001b[0m\u001b[0mG\u001b[0m\u001b[0;34m,\u001b[0m \u001b[0mm\u001b[0m\u001b[0;34m)\u001b[0m\u001b[0;34m\u001b[0m\u001b[0;34m\u001b[0m\u001b[0m\n",
      "\u001b[0;32m~/.local/lib/python3.6/site-packages/networkx/relabel.py\u001b[0m in \u001b[0;36m_relabel_copy\u001b[0;34m(G, mapping)\u001b[0m\n\u001b[1;32m    153\u001b[0m \u001b[0;32mdef\u001b[0m \u001b[0m_relabel_copy\u001b[0m\u001b[0;34m(\u001b[0m\u001b[0mG\u001b[0m\u001b[0;34m,\u001b[0m \u001b[0mmapping\u001b[0m\u001b[0;34m)\u001b[0m\u001b[0;34m:\u001b[0m\u001b[0;34m\u001b[0m\u001b[0;34m\u001b[0m\u001b[0m\n\u001b[1;32m    154\u001b[0m     \u001b[0mH\u001b[0m \u001b[0;34m=\u001b[0m \u001b[0mG\u001b[0m\u001b[0;34m.\u001b[0m\u001b[0m__class__\u001b[0m\u001b[0;34m(\u001b[0m\u001b[0;34m)\u001b[0m\u001b[0;34m\u001b[0m\u001b[0;34m\u001b[0m\u001b[0m\n\u001b[0;32m--> 155\u001b[0;31m     \u001b[0mH\u001b[0m\u001b[0;34m.\u001b[0m\u001b[0madd_nodes_from\u001b[0m\u001b[0;34m(\u001b[0m\u001b[0mmapping\u001b[0m\u001b[0;34m.\u001b[0m\u001b[0mget\u001b[0m\u001b[0;34m(\u001b[0m\u001b[0mn\u001b[0m\u001b[0;34m,\u001b[0m \u001b[0mn\u001b[0m\u001b[0;34m)\u001b[0m \u001b[0;32mfor\u001b[0m \u001b[0mn\u001b[0m \u001b[0;32min\u001b[0m \u001b[0mG\u001b[0m\u001b[0;34m)\u001b[0m\u001b[0;34m\u001b[0m\u001b[0;34m\u001b[0m\u001b[0m\n\u001b[0m\u001b[1;32m    156\u001b[0m     \u001b[0mH\u001b[0m\u001b[0;34m.\u001b[0m\u001b[0m_node\u001b[0m\u001b[0;34m.\u001b[0m\u001b[0mupdate\u001b[0m\u001b[0;34m(\u001b[0m\u001b[0;34m(\u001b[0m\u001b[0mmapping\u001b[0m\u001b[0;34m.\u001b[0m\u001b[0mget\u001b[0m\u001b[0;34m(\u001b[0m\u001b[0mn\u001b[0m\u001b[0;34m,\u001b[0m \u001b[0mn\u001b[0m\u001b[0;34m)\u001b[0m\u001b[0;34m,\u001b[0m \u001b[0md\u001b[0m\u001b[0;34m.\u001b[0m\u001b[0mcopy\u001b[0m\u001b[0;34m(\u001b[0m\u001b[0;34m)\u001b[0m\u001b[0;34m)\u001b[0m \u001b[0;32mfor\u001b[0m \u001b[0mn\u001b[0m\u001b[0;34m,\u001b[0m \u001b[0md\u001b[0m \u001b[0;32min\u001b[0m \u001b[0mG\u001b[0m\u001b[0;34m.\u001b[0m\u001b[0mnodes\u001b[0m\u001b[0;34m.\u001b[0m\u001b[0mitems\u001b[0m\u001b[0;34m(\u001b[0m\u001b[0;34m)\u001b[0m\u001b[0;34m)\u001b[0m\u001b[0;34m\u001b[0m\u001b[0;34m\u001b[0m\u001b[0m\n\u001b[1;32m    157\u001b[0m     \u001b[0;32mif\u001b[0m \u001b[0mG\u001b[0m\u001b[0;34m.\u001b[0m\u001b[0mis_multigraph\u001b[0m\u001b[0;34m(\u001b[0m\u001b[0;34m)\u001b[0m\u001b[0;34m:\u001b[0m\u001b[0;34m\u001b[0m\u001b[0;34m\u001b[0m\u001b[0m\n",
      "\u001b[0;32m~/.local/lib/python3.6/site-packages/networkx/classes/digraph.py\u001b[0m in \u001b[0;36madd_nodes_from\u001b[0;34m(self, nodes_for_adding, **attr)\u001b[0m\n\u001b[1;32m    483\u001b[0m                     \u001b[0mself\u001b[0m\u001b[0;34m.\u001b[0m\u001b[0m_node\u001b[0m\u001b[0;34m[\u001b[0m\u001b[0mn\u001b[0m\u001b[0;34m]\u001b[0m\u001b[0;34m.\u001b[0m\u001b[0mupdate\u001b[0m\u001b[0;34m(\u001b[0m\u001b[0mattr\u001b[0m\u001b[0;34m)\u001b[0m\u001b[0;34m\u001b[0m\u001b[0;34m\u001b[0m\u001b[0m\n\u001b[1;32m    484\u001b[0m             \u001b[0;32mexcept\u001b[0m \u001b[0mTypeError\u001b[0m\u001b[0;34m:\u001b[0m\u001b[0;34m\u001b[0m\u001b[0;34m\u001b[0m\u001b[0m\n\u001b[0;32m--> 485\u001b[0;31m                 \u001b[0mnn\u001b[0m\u001b[0;34m,\u001b[0m \u001b[0mndict\u001b[0m \u001b[0;34m=\u001b[0m \u001b[0mn\u001b[0m\u001b[0;34m\u001b[0m\u001b[0;34m\u001b[0m\u001b[0m\n\u001b[0m\u001b[1;32m    486\u001b[0m                 \u001b[0;32mif\u001b[0m \u001b[0mnn\u001b[0m \u001b[0;32mnot\u001b[0m \u001b[0;32min\u001b[0m \u001b[0mself\u001b[0m\u001b[0;34m.\u001b[0m\u001b[0m_succ\u001b[0m\u001b[0;34m:\u001b[0m\u001b[0;34m\u001b[0m\u001b[0;34m\u001b[0m\u001b[0m\n\u001b[1;32m    487\u001b[0m                     \u001b[0mself\u001b[0m\u001b[0;34m.\u001b[0m\u001b[0m_succ\u001b[0m\u001b[0;34m[\u001b[0m\u001b[0mnn\u001b[0m\u001b[0;34m]\u001b[0m \u001b[0;34m=\u001b[0m \u001b[0mself\u001b[0m\u001b[0;34m.\u001b[0m\u001b[0madjlist_inner_dict_factory\u001b[0m\u001b[0;34m(\u001b[0m\u001b[0;34m)\u001b[0m\u001b[0;34m\u001b[0m\u001b[0;34m\u001b[0m\u001b[0m\n",
      "\u001b[0;31mValueError\u001b[0m: too many values to unpack (expected 2)"
     ]
    }
   ],
   "source": [
    "rdict = {}\n",
    "for n in net.nodes():\n",
    "    nn = n.chars\n",
    "    rdict[n] = nn\n",
    "       \n",
    "print(rdict)\n",
    "net = nx.relabel_nodes(net, rdict)\n",
    "# pos = nx.nx_agraph.graphviz_layout(net, prog = \"dot\")\n",
    "# nx.draw(net, pos = pos, with_labels = True)"
   ]
  },
  {
   "cell_type": "code",
   "execution_count": 79,
   "metadata": {},
   "outputs": [
    {
     "name": "stdout",
     "output_type": "stream",
     "text": [
      "['0', '0', '2', '0', '1']\n",
      "['0', '0', '2', '2', '1']\n",
      "['0', '0', '2', '1', '1']\n",
      "['0', '0', '2', '0', '1']\n",
      "['0', '0', '2', '0', '1']\n"
     ]
    }
   ],
   "source": [
    "for node in tree.nodes():\n",
    "    print(node.chars)"
   ]
  },
  {
   "cell_type": "code",
   "execution_count": 5,
   "metadata": {},
   "outputs": [
    {
     "name": "stderr",
     "output_type": "stream",
     "text": [
      "/home/eecs/richardyz98/.local/lib/python3.6/site-packages/scipy/optimize/minpack.py:162: RuntimeWarning: The iteration is not making good progress, as measured by the \n",
      "  improvement from the last ten iterations.\n",
      "  warnings.warn(msg, RuntimeWarning)\n",
      "/home/eecs/richardyz98/.local/lib/python3.6/site-packages/scipy/optimize/minpack.py:162: RuntimeWarning: The number of calls to function has reached maxfev = 400.\n",
      "  warnings.warn(msg, RuntimeWarning)\n",
      "/home/eecs/richardyz98/.local/lib/python3.6/site-packages/scipy/optimize/minpack.py:162: RuntimeWarning: The iteration is not making good progress, as measured by the \n",
      "  improvement from the last five Jacobian evaluations.\n",
      "  warnings.warn(msg, RuntimeWarning)\n"
     ]
    },
    {
     "ename": "KeyboardInterrupt",
     "evalue": "",
     "output_type": "error",
     "traceback": [
      "\u001b[0;31m---------------------------------------------------------------------------\u001b[0m",
      "\u001b[0;31mKeyboardInterrupt\u001b[0m                         Traceback (most recent call last)",
      "\u001b[0;32m<ipython-input-5-39a2e347d974>\u001b[0m in \u001b[0;36m<module>\u001b[0;34m\u001b[0m\n\u001b[1;32m     46\u001b[0m \u001b[0;34m\u001b[0m\u001b[0m\n\u001b[1;32m     47\u001b[0m     \u001b[0mq_map\u001b[0m \u001b[0;34m=\u001b[0m \u001b[0mpic\u001b[0m\u001b[0;34m.\u001b[0m\u001b[0mload\u001b[0m\u001b[0;34m(\u001b[0m\u001b[0mopen\u001b[0m\u001b[0;34m(\u001b[0m\u001b[0mpath\u001b[0m \u001b[0;34m+\u001b[0m \u001b[0;34m\"priors\"\u001b[0m \u001b[0;34m+\u001b[0m \u001b[0mstr\u001b[0m\u001b[0;34m(\u001b[0m\u001b[0mnum\u001b[0m\u001b[0;34m)\u001b[0m \u001b[0;34m+\u001b[0m \u001b[0;34m\".pkl\"\u001b[0m\u001b[0;34m,\u001b[0m \u001b[0;34m'rb'\u001b[0m\u001b[0;34m)\u001b[0m\u001b[0;34m)\u001b[0m\u001b[0;34m\u001b[0m\u001b[0;34m\u001b[0m\u001b[0m\n\u001b[0;32m---> 48\u001b[0;31m     \u001b[0mrecon\u001b[0m \u001b[0;34m=\u001b[0m \u001b[0mbuild_tree_nj\u001b[0m\u001b[0;34m(\u001b[0m\u001b[0msamples\u001b[0m\u001b[0;34m,\u001b[0m \u001b[0;36m100\u001b[0m\u001b[0;34m,\u001b[0m \u001b[0;36m0.07673309837740516\u001b[0m\u001b[0;34m,\u001b[0m \u001b[0;36m0.011509964756610773\u001b[0m\u001b[0;34m,\u001b[0m \u001b[0mnp\u001b[0m\u001b[0;34m.\u001b[0m\u001b[0mlog\u001b[0m\u001b[0;34m(\u001b[0m\u001b[0;36m1\u001b[0m \u001b[0;34m-\u001b[0m \u001b[0;36m.53\u001b[0m\u001b[0;34m)\u001b[0m\u001b[0;34m/\u001b[0m\u001b[0;34m(\u001b[0m\u001b[0;34m-\u001b[0m\u001b[0;36m1\u001b[0m \u001b[0;34m*\u001b[0m \u001b[0;36m100\u001b[0m\u001b[0;34m)\u001b[0m\u001b[0;34m,\u001b[0m \u001b[0mq_map\u001b[0m\u001b[0;34m,\u001b[0m \u001b[0msubset\u001b[0m \u001b[0;34m=\u001b[0m \u001b[0;32mNone\u001b[0m\u001b[0;34m)\u001b[0m\u001b[0;34m\u001b[0m\u001b[0;34m\u001b[0m\u001b[0m\n\u001b[0m\u001b[1;32m     49\u001b[0m \u001b[0;34m\u001b[0m\u001b[0m\n\u001b[1;32m     50\u001b[0m     \u001b[0mtrip2\u001b[0m \u001b[0;34m=\u001b[0m \u001b[0mtriplets_correct_at_depth_sep\u001b[0m\u001b[0;34m(\u001b[0m\u001b[0mrecon\u001b[0m\u001b[0;34m,\u001b[0m \u001b[0mground\u001b[0m\u001b[0;34m,\u001b[0m \u001b[0;34m'all'\u001b[0m\u001b[0;34m)\u001b[0m\u001b[0;34m\u001b[0m\u001b[0;34m\u001b[0m\u001b[0m\n",
      "\u001b[0;32m<ipython-input-3-2e0b93560ec5>\u001b[0m in \u001b[0;36mbuild_tree_nj\u001b[0;34m(samples, time, birth_rate, death_rate, p, q_map, subset)\u001b[0m\n\u001b[1;32m     19\u001b[0m \u001b[0;34m\u001b[0m\u001b[0m\n\u001b[1;32m     20\u001b[0m     \u001b[0;32mwhile\u001b[0m \u001b[0mlen\u001b[0m\u001b[0;34m(\u001b[0m\u001b[0msubset\u001b[0m\u001b[0;34m)\u001b[0m \u001b[0;34m>\u001b[0m \u001b[0;36m1\u001b[0m\u001b[0;34m:\u001b[0m\u001b[0;34m\u001b[0m\u001b[0;34m\u001b[0m\u001b[0m\n\u001b[0;32m---> 21\u001b[0;31m         \u001b[0mdists\u001b[0m \u001b[0;34m=\u001b[0m \u001b[0mget_distances\u001b[0m\u001b[0;34m(\u001b[0m\u001b[0msamples\u001b[0m\u001b[0;34m,\u001b[0m \u001b[0msubset\u001b[0m\u001b[0;34m)\u001b[0m\u001b[0;34m\u001b[0m\u001b[0;34m\u001b[0m\u001b[0m\n\u001b[0m\u001b[1;32m     22\u001b[0m         \u001b[0mcomb\u001b[0m \u001b[0;34m=\u001b[0m \u001b[0mdists\u001b[0m\u001b[0;34m[\u001b[0m\u001b[0mmin\u001b[0m\u001b[0;34m(\u001b[0m\u001b[0mdists\u001b[0m\u001b[0;34m)\u001b[0m\u001b[0;34m]\u001b[0m\u001b[0;34m\u001b[0m\u001b[0;34m\u001b[0m\u001b[0m\n\u001b[1;32m     23\u001b[0m         \u001b[0mvec1\u001b[0m \u001b[0;34m=\u001b[0m \u001b[0msamples\u001b[0m\u001b[0;34m[\u001b[0m\u001b[0mcomb\u001b[0m\u001b[0;34m[\u001b[0m\u001b[0;36m0\u001b[0m\u001b[0;34m]\u001b[0m\u001b[0;34m]\u001b[0m\u001b[0;34m.\u001b[0m\u001b[0mchars\u001b[0m\u001b[0;34m\u001b[0m\u001b[0;34m\u001b[0m\u001b[0m\n",
      "\u001b[0;32m<ipython-input-3-2e0b93560ec5>\u001b[0m in \u001b[0;36mget_distances\u001b[0;34m(samples, subset)\u001b[0m\n\u001b[1;32m     14\u001b[0m         \u001b[0;32mfor\u001b[0m \u001b[0mcomb\u001b[0m \u001b[0;32min\u001b[0m \u001b[0mlist\u001b[0m\u001b[0;34m(\u001b[0m\u001b[0mitertools\u001b[0m\u001b[0;34m.\u001b[0m\u001b[0mcombinations\u001b[0m\u001b[0;34m(\u001b[0m\u001b[0msubset\u001b[0m\u001b[0;34m,\u001b[0m \u001b[0;36m2\u001b[0m\u001b[0;34m)\u001b[0m\u001b[0;34m)\u001b[0m\u001b[0;34m:\u001b[0m\u001b[0;34m\u001b[0m\u001b[0;34m\u001b[0m\u001b[0m\n\u001b[1;32m     15\u001b[0m \u001b[0;31m#             print(comb)\u001b[0m\u001b[0;34m\u001b[0m\u001b[0;34m\u001b[0m\u001b[0;34m\u001b[0m\u001b[0m\n\u001b[0;32m---> 16\u001b[0;31m             \u001b[0mdist\u001b[0m \u001b[0;34m=\u001b[0m \u001b[0mf_h\u001b[0m\u001b[0;34m(\u001b[0m\u001b[0msamples\u001b[0m\u001b[0;34m[\u001b[0m\u001b[0mcomb\u001b[0m\u001b[0;34m[\u001b[0m\u001b[0;36m0\u001b[0m\u001b[0;34m]\u001b[0m\u001b[0;34m]\u001b[0m\u001b[0;34m.\u001b[0m\u001b[0mchars\u001b[0m\u001b[0;34m,\u001b[0m \u001b[0msamples\u001b[0m\u001b[0;34m[\u001b[0m\u001b[0mcomb\u001b[0m\u001b[0;34m[\u001b[0m\u001b[0;36m1\u001b[0m\u001b[0;34m]\u001b[0m\u001b[0;34m]\u001b[0m\u001b[0;34m.\u001b[0m\u001b[0mchars\u001b[0m\u001b[0;34m,\u001b[0m \u001b[0mtime\u001b[0m\u001b[0;34m,\u001b[0m \u001b[0mbirth_rate\u001b[0m\u001b[0;34m,\u001b[0m \u001b[0mdeath_rate\u001b[0m\u001b[0;34m,\u001b[0m \u001b[0mp\u001b[0m\u001b[0;34m,\u001b[0m \u001b[0mq_map\u001b[0m\u001b[0;34m)\u001b[0m\u001b[0;34m\u001b[0m\u001b[0;34m\u001b[0m\u001b[0m\n\u001b[0m\u001b[1;32m     17\u001b[0m             \u001b[0mdistances\u001b[0m\u001b[0;34m[\u001b[0m\u001b[0mdist\u001b[0m\u001b[0;34m]\u001b[0m \u001b[0;34m=\u001b[0m \u001b[0mcomb\u001b[0m\u001b[0;34m\u001b[0m\u001b[0;34m\u001b[0m\u001b[0m\n\u001b[1;32m     18\u001b[0m         \u001b[0;32mreturn\u001b[0m \u001b[0mdistances\u001b[0m\u001b[0;34m\u001b[0m\u001b[0;34m\u001b[0m\u001b[0m\n",
      "\u001b[0;32m<ipython-input-2-93783708c7d9>\u001b[0m in \u001b[0;36mf_h\u001b[0;34m(vec1, vec2, T, birth_rate, death_rate, p, q_map)\u001b[0m\n\u001b[1;32m     53\u001b[0m         \u001b[0;32mreturn\u001b[0m \u001b[0;34m-\u001b[0m\u001b[0mfinal\u001b[0m\u001b[0;34m\u001b[0m\u001b[0;34m\u001b[0m\u001b[0m\n\u001b[1;32m     54\u001b[0m \u001b[0;34m\u001b[0m\u001b[0m\n\u001b[0;32m---> 55\u001b[0;31m     \u001b[0mret\u001b[0m \u001b[0;34m=\u001b[0m \u001b[0mscipy\u001b[0m\u001b[0;34m.\u001b[0m\u001b[0moptimize\u001b[0m\u001b[0;34m.\u001b[0m\u001b[0mfsolve\u001b[0m\u001b[0;34m(\u001b[0m\u001b[0mfinal_func\u001b[0m\u001b[0;34m,\u001b[0m \u001b[0;36m0.00001\u001b[0m\u001b[0;34m)\u001b[0m\u001b[0;34m[\u001b[0m\u001b[0;36m0\u001b[0m\u001b[0;34m]\u001b[0m\u001b[0;34m\u001b[0m\u001b[0;34m\u001b[0m\u001b[0m\n\u001b[0m\u001b[1;32m     56\u001b[0m     \u001b[0;32mif\u001b[0m \u001b[0mret\u001b[0m \u001b[0;34m>\u001b[0m \u001b[0mT\u001b[0m\u001b[0;34m:\u001b[0m\u001b[0;34m\u001b[0m\u001b[0;34m\u001b[0m\u001b[0m\n\u001b[1;32m     57\u001b[0m         \u001b[0;32mreturn\u001b[0m \u001b[0mT\u001b[0m\u001b[0;34m\u001b[0m\u001b[0;34m\u001b[0m\u001b[0m\n",
      "\u001b[0;32m~/.local/lib/python3.6/site-packages/scipy/optimize/minpack.py\u001b[0m in \u001b[0;36mfsolve\u001b[0;34m(func, x0, args, fprime, full_output, col_deriv, xtol, maxfev, band, epsfcn, factor, diag)\u001b[0m\n\u001b[1;32m    145\u001b[0m                'diag': diag}\n\u001b[1;32m    146\u001b[0m \u001b[0;34m\u001b[0m\u001b[0m\n\u001b[0;32m--> 147\u001b[0;31m     \u001b[0mres\u001b[0m \u001b[0;34m=\u001b[0m \u001b[0m_root_hybr\u001b[0m\u001b[0;34m(\u001b[0m\u001b[0mfunc\u001b[0m\u001b[0;34m,\u001b[0m \u001b[0mx0\u001b[0m\u001b[0;34m,\u001b[0m \u001b[0margs\u001b[0m\u001b[0;34m,\u001b[0m \u001b[0mjac\u001b[0m\u001b[0;34m=\u001b[0m\u001b[0mfprime\u001b[0m\u001b[0;34m,\u001b[0m \u001b[0;34m**\u001b[0m\u001b[0moptions\u001b[0m\u001b[0;34m)\u001b[0m\u001b[0;34m\u001b[0m\u001b[0;34m\u001b[0m\u001b[0m\n\u001b[0m\u001b[1;32m    148\u001b[0m     \u001b[0;32mif\u001b[0m \u001b[0mfull_output\u001b[0m\u001b[0;34m:\u001b[0m\u001b[0;34m\u001b[0m\u001b[0;34m\u001b[0m\u001b[0m\n\u001b[1;32m    149\u001b[0m         \u001b[0mx\u001b[0m \u001b[0;34m=\u001b[0m \u001b[0mres\u001b[0m\u001b[0;34m[\u001b[0m\u001b[0;34m'x'\u001b[0m\u001b[0;34m]\u001b[0m\u001b[0;34m\u001b[0m\u001b[0;34m\u001b[0m\u001b[0m\n",
      "\u001b[0;32m~/.local/lib/python3.6/site-packages/scipy/optimize/minpack.py\u001b[0m in \u001b[0;36m_root_hybr\u001b[0;34m(func, x0, args, jac, col_deriv, xtol, maxfev, band, eps, factor, diag, **unknown_options)\u001b[0m\n\u001b[1;32m    223\u001b[0m             \u001b[0mmaxfev\u001b[0m \u001b[0;34m=\u001b[0m \u001b[0;36m200\u001b[0m \u001b[0;34m*\u001b[0m \u001b[0;34m(\u001b[0m\u001b[0mn\u001b[0m \u001b[0;34m+\u001b[0m \u001b[0;36m1\u001b[0m\u001b[0;34m)\u001b[0m\u001b[0;34m\u001b[0m\u001b[0;34m\u001b[0m\u001b[0m\n\u001b[1;32m    224\u001b[0m         retval = _minpack._hybrd(func, x0, args, 1, xtol, maxfev,\n\u001b[0;32m--> 225\u001b[0;31m                                  ml, mu, epsfcn, factor, diag)\n\u001b[0m\u001b[1;32m    226\u001b[0m     \u001b[0;32melse\u001b[0m\u001b[0;34m:\u001b[0m\u001b[0;34m\u001b[0m\u001b[0;34m\u001b[0m\u001b[0m\n\u001b[1;32m    227\u001b[0m         \u001b[0m_check_func\u001b[0m\u001b[0;34m(\u001b[0m\u001b[0;34m'fsolve'\u001b[0m\u001b[0;34m,\u001b[0m \u001b[0;34m'fprime'\u001b[0m\u001b[0;34m,\u001b[0m \u001b[0mDfun\u001b[0m\u001b[0;34m,\u001b[0m \u001b[0mx0\u001b[0m\u001b[0;34m,\u001b[0m \u001b[0margs\u001b[0m\u001b[0;34m,\u001b[0m \u001b[0mn\u001b[0m\u001b[0;34m,\u001b[0m \u001b[0;34m(\u001b[0m\u001b[0mn\u001b[0m\u001b[0;34m,\u001b[0m \u001b[0mn\u001b[0m\u001b[0;34m)\u001b[0m\u001b[0;34m)\u001b[0m\u001b[0;34m\u001b[0m\u001b[0;34m\u001b[0m\u001b[0m\n",
      "\u001b[0;32m<ipython-input-2-93783708c7d9>\u001b[0m in \u001b[0;36mfinal_func\u001b[0;34m(h, q_map)\u001b[0m\n\u001b[1;32m     50\u001b[0m                 \u001b[0mfinal\u001b[0m \u001b[0;34m+=\u001b[0m \u001b[0mfuncs\u001b[0m\u001b[0;34m[\u001b[0m\u001b[0mi\u001b[0m\u001b[0;34m]\u001b[0m\u001b[0;34m(\u001b[0m\u001b[0mh\u001b[0m\u001b[0;34m,\u001b[0m \u001b[0mq_map\u001b[0m\u001b[0;34m[\u001b[0m\u001b[0mi\u001b[0m\u001b[0;34m]\u001b[0m\u001b[0;34m[\u001b[0m\u001b[0mstr\u001b[0m\u001b[0;34m(\u001b[0m\u001b[0mvec1\u001b[0m\u001b[0;34m[\u001b[0m\u001b[0mi\u001b[0m\u001b[0;34m]\u001b[0m\u001b[0;34m)\u001b[0m\u001b[0;34m]\u001b[0m\u001b[0;34m)\u001b[0m\u001b[0;34m\u001b[0m\u001b[0;34m\u001b[0m\u001b[0m\n\u001b[1;32m     51\u001b[0m             \u001b[0;32melse\u001b[0m\u001b[0;34m:\u001b[0m\u001b[0;34m\u001b[0m\u001b[0;34m\u001b[0m\u001b[0m\n\u001b[0;32m---> 52\u001b[0;31m                 \u001b[0mfinal\u001b[0m \u001b[0;34m+=\u001b[0m \u001b[0mfuncs\u001b[0m\u001b[0;34m[\u001b[0m\u001b[0mi\u001b[0m\u001b[0;34m]\u001b[0m\u001b[0;34m(\u001b[0m\u001b[0mh\u001b[0m\u001b[0;34m)\u001b[0m\u001b[0;34m\u001b[0m\u001b[0;34m\u001b[0m\u001b[0m\n\u001b[0m\u001b[1;32m     53\u001b[0m         \u001b[0;32mreturn\u001b[0m \u001b[0;34m-\u001b[0m\u001b[0mfinal\u001b[0m\u001b[0;34m\u001b[0m\u001b[0;34m\u001b[0m\u001b[0m\n\u001b[1;32m     54\u001b[0m \u001b[0;34m\u001b[0m\u001b[0m\n",
      "\u001b[0;32m<ipython-input-2-93783708c7d9>\u001b[0m in \u001b[0;36md_log_unequal_nonzero\u001b[0;34m(h)\u001b[0m\n\u001b[1;32m     13\u001b[0m \u001b[0;34m\u001b[0m\u001b[0m\n\u001b[1;32m     14\u001b[0m     \u001b[0;32mdef\u001b[0m \u001b[0md_log_unequal_nonzero\u001b[0m\u001b[0;34m(\u001b[0m\u001b[0mh\u001b[0m\u001b[0;34m)\u001b[0m\u001b[0;34m:\u001b[0m\u001b[0;34m\u001b[0m\u001b[0;34m\u001b[0m\u001b[0m\n\u001b[0;32m---> 15\u001b[0;31m         \u001b[0;32mreturn\u001b[0m \u001b[0mp\u001b[0m\u001b[0;34m/\u001b[0m\u001b[0;34m(\u001b[0m\u001b[0mmath\u001b[0m\u001b[0;34m.\u001b[0m\u001b[0mexp\u001b[0m\u001b[0;34m(\u001b[0m\u001b[0mp\u001b[0m\u001b[0;34m*\u001b[0m\u001b[0mh\u001b[0m\u001b[0;34m)\u001b[0m\u001b[0;34m-\u001b[0m\u001b[0;36m1\u001b[0m\u001b[0;34m)\u001b[0m\u001b[0;34m\u001b[0m\u001b[0;34m\u001b[0m\u001b[0m\n\u001b[0m\u001b[1;32m     16\u001b[0m \u001b[0;34m\u001b[0m\u001b[0m\n\u001b[1;32m     17\u001b[0m     \u001b[0;32mdef\u001b[0m \u001b[0md_log_unequal_onezero\u001b[0m\u001b[0;34m(\u001b[0m\u001b[0mh\u001b[0m\u001b[0;34m)\u001b[0m\u001b[0;34m:\u001b[0m\u001b[0;34m\u001b[0m\u001b[0;34m\u001b[0m\u001b[0m\n",
      "\u001b[0;31mKeyboardInterrupt\u001b[0m: "
     ]
    }
   ],
   "source": [
    "folder = \"400cells_base_time\"\n",
    "path = \"/data/yosef2/users/richardz/projects/benchmarking/\" + folder + \"/\"\n",
    "nums = []\n",
    "#     triplets = []\n",
    "triplets_new = []\n",
    "colless = []\n",
    "types = []\n",
    "methods = []\n",
    "\n",
    "\n",
    "for num in range(0, 10):\n",
    "    dropout_cm = pd.read_csv(path + \"dropout_cm\" + str(num) + \".txt\", sep = '\\t', index_col = 0)\n",
    "    dropout_cm = dropout_cm.applymap(str)\n",
    "\n",
    "    samples = []\n",
    "    for index, row in dropout_cm.iterrows():\n",
    "        node = Node(list(row), 1001, parent=None, left=None, right=None)\n",
    "        samples.append(node)\n",
    "\n",
    "    subset = list(range(len(samples)))\n",
    "    prune_samples = remove_duplicates(samples, subset)\n",
    "\n",
    "    node_map = {}\n",
    "    for i in prune_samples:\n",
    "        node_map[i] = list(dropout_cm.iloc[i,:])\n",
    "\n",
    "    net = pic.load(open(path + \"dropout_net\" + str(num) + \".pkl\", 'rb'))\n",
    "    ground = net.network\n",
    "    leaves = [n for n in ground if ground.out_degree(n) == 0 and ground.in_degree(n) == 1]\n",
    "    ground_net_map = {}\n",
    "    for i in node_map:\n",
    "        for j in leaves:\n",
    "            if node_map[i] == j.char_vec:\n",
    "                ground_net_map[j] = i\n",
    "                break\n",
    "    ground = nx.relabel_nodes(ground, ground_net_map)\n",
    "\n",
    "    dropout_cm = dropout_cm.replace(\"-\", -1)\n",
    "    dropout_cm = dropout_cm.replace(\"*\", -1)\n",
    "    dropout_cm = dropout_cm.apply(pd.to_numeric)\n",
    "\n",
    "    samples = []\n",
    "    for index, row in dropout_cm.iterrows():\n",
    "        node = Node(list(row), 1001, parent=None, left=None, right=None)\n",
    "        samples.append(node)\n",
    "\n",
    "    q_map = pic.load(open(path + \"priors\" + str(num) + \".pkl\", 'rb'))\n",
    "    subsample = []\n",
    "    for i in range(2**9):\n",
    "        if np.random.random() < 0.2:\n",
    "            subsample.append(i)\n",
    "    recon = build_tree_nj(samples, 100, 0.07673309837740516, 0.011509964756610773, np.log(1 - .53)/(-1 * 100), q_map, subset = subsample)\n",
    "\n",
    "    trip2 = triplets_correct_at_depth_sep(recon, ground, 'all')\n",
    "    print(num, trip2, method)\n",
    "\n",
    "    triplets_new.append(trip2)\n",
    "    nums.append(num)\n",
    "    colless.append(get_colless(ground)[0])\n",
    "    types.append(folder)\n",
    "    methods.append(method)\n",
    "\n",
    "data = [nums, triplets_new, colless, methods, types]\n",
    "df = pd.DataFrame(data)\n",
    "df = df.T\n",
    "df = df.rename(columns = {0: 'Run', 1: 'TripletsCorrect', 2:'Colless', 3:'Method', 4: 'Type'})\n",
    "# df.to_csv(path + 'methods_triplets.txt', sep = '\\t', index = False)"
   ]
  },
  {
   "cell_type": "code",
   "execution_count": null,
   "metadata": {},
   "outputs": [],
   "source": []
  }
 ],
 "metadata": {
  "kernelspec": {
   "display_name": "Python 3",
   "language": "python",
   "name": "python3"
  },
  "language_info": {
   "codemirror_mode": {
    "name": "ipython",
    "version": 3
   },
   "file_extension": ".py",
   "mimetype": "text/x-python",
   "name": "python",
   "nbconvert_exporter": "python",
   "pygments_lexer": "ipython3",
   "version": "3.6.10"
  }
 },
 "nbformat": 4,
 "nbformat_minor": 2
}
