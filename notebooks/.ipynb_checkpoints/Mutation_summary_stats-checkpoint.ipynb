{
 "cells": [
  {
   "cell_type": "code",
   "execution_count": 1,
   "metadata": {},
   "outputs": [],
   "source": [
    "import sys \n",
    "import networkx as nx\n",
    "import pandas as pd\n",
    "import numpy as np\n",
    "import pickle as pic\n",
    "import random\n",
    "\n",
    "import cassiopeia.TreeSolver.simulation_tools.simulation_utils as sim_utils\n",
    "import cassiopeia.TreeSolver.simulation_tools.dataset_generation as data_gen\n",
    "import cassiopeia.TreeSolver.simulation_tools.Yule_utils as Yule\n",
    "from cassiopeia.TreeSolver.Node import Node\n",
    "from cassiopeia.TreeSolver.Cassiopeia_Tree import Cassiopeia_Tree\n",
    "import statistics as stat\n",
    "import scipy.stats as stats\n",
    "\n",
    "from tqdm import tqdm_notebook\n",
    "import matplotlib.pyplot as plt\n",
    "\n",
    "import subprocess\n",
    "\n",
    "from Bio import Phylo\n",
    "\n",
    "#import seaborn as sns\n",
    "import os"
   ]
  },
  {
   "cell_type": "code",
   "execution_count": 2,
   "metadata": {},
   "outputs": [],
   "source": [
    "def states_per_char(cm):\n",
    "    unique_chars = [0 for n in range(0, cm.shape[1])]\n",
    "    seen = [[] for n in range(0, cm.shape[1])]\n",
    "    for j in range(0, cm.shape[1]):\n",
    "        for i in range(0,cm.shape[0]):\n",
    "            val = cm.iloc[i, j]\n",
    "            if val != '0' and val != '-' and val not in seen[j]:\n",
    "                unique_chars[j] += 1\n",
    "                seen[j].append(val)\n",
    "    return unique_chars\n",
    "\n",
    "def frange(start, stop, step):\n",
    "    res, n = start, 1\n",
    "\n",
    "    while res < stop:\n",
    "        yield res\n",
    "        res = start + n * step\n",
    "        n += 1"
   ]
  },
  {
   "cell_type": "code",
   "execution_count": 3,
   "metadata": {},
   "outputs": [],
   "source": [
    "# path = \"/data/yosef2/users/mattjones/projects/scLineages/IVLT-2B/lg_output_final/\"\n",
    "\n",
    "# drop_perc_i = []\n",
    "# max_spc_i = []\n",
    "# avg_spc_i = []\n",
    "# samples_i = []\n",
    "# num_chars_i = []\n",
    "\n",
    "# for i in range(2, 12):\n",
    "#     cm = pd.read_csv(path + 'lg' + str(i) + '_character_matrix.txt', sep = '\\t', index_col = 0)\n",
    "#     num_dropped = 0\n",
    "#     for k in range(cm.shape[0]):\n",
    "#         for j in range(cm.shape[1]):\n",
    "#             if cm.iloc[k,j] == \"-\" or cm.iloc[k,j] == \"*\":\n",
    "#                 num_dropped += 1\n",
    "#     drop_perc_i.append(num_dropped/(cm.shape[0] * cm.shape[1]))\n",
    "    \n",
    "#     spc = states_per_char(cm)\n",
    "#     avg_spc_i.append(sum(spc)/len(spc))\n",
    "#     max_spc_i.append(max(spc))\n",
    "    \n",
    "#     samples_i.append(cm.shape[0])\n",
    "#     num_chars_i.append(cm.shape[1])"
   ]
  },
  {
   "cell_type": "code",
   "execution_count": 93,
   "metadata": {},
   "outputs": [],
   "source": [
    "path = \"/data/yosef2/users/mattjones/projects/metastasis/JQ19/5k/trees/\"\n",
    "\n",
    "drop_perc_i = []\n",
    "max_spc_i = []\n",
    "avg_spc_i = []\n",
    "size_i = []\n",
    "num_chars_i = []\n",
    "\n",
    "for i in range(1, 100):\n",
    "    cm = pd.read_csv(path + 'lg' + str(i) + '/lg' + str(i) + '_character_matrix.txt', sep = '\\t', index_col = 0)\n",
    "    num_dropped = 0\n",
    "    for k in range(cm.shape[0]):\n",
    "        for j in range(cm.shape[1]):\n",
    "            if cm.iloc[k,j] == \"-\" or cm.iloc[k,j] == \"*\":\n",
    "                num_dropped += 1\n",
    "    drop_perc_i.append(num_dropped/(cm.shape[0] * cm.shape[1]))\n",
    "    \n",
    "    spc = states_per_char(cm)\n",
    "    avg_spc_i.append(sum(spc)/len(spc))\n",
    "    max_spc_i.append(max(spc))\n",
    "    \n",
    "    size_i.append(cm.shape[0])\n",
    "    num_chars_i.append(cm.shape[1])"
   ]
  },
  {
   "cell_type": "code",
   "execution_count": 275,
   "metadata": {},
   "outputs": [
    {
     "name": "stdout",
     "output_type": "stream",
     "text": [
      "0.016 0.007 0\n",
      "size\n",
      "stat: 0.17725752508361203 p-value: 0.01605282035861022\n",
      "0.017 0.008 0\n",
      "size\n",
      "stat: 0.16411607715955542 p-value: 0.031714905621065936\n",
      "0.016 0.007 0.005\n",
      "size\n",
      "stat: 0.15719063545150502 p-value: 0.04438860615896856\n",
      "0.017 0.008 0.005\n",
      "size\n",
      "stat: 0.15719063545150502 p-value: 0.04438860615896856\n",
      "0.015 0.006 0.01\n",
      "size\n",
      "stat: 0.17725752508361203 p-value: 0.01605282035861022\n",
      "0.016 0.007 0.01\n",
      "size\n",
      "stat: 0.17725752508361203 p-value: 0.01605282035861022\n",
      "0.015 0.006 0.02\n",
      "size\n",
      "stat: 0.1705685618729097 p-value: 0.02283893223640243\n",
      "0.016 0.007 0.02\n",
      "size\n",
      "stat: 0.15384615384615385 p-value: 0.05197028791110858\n",
      "0.015 0.006 0.025\n",
      "size\n",
      "stat: 0.1755008276747407 p-value: 0.017418866358558716\n",
      "0.016 0.008 0.025\n",
      "size\n",
      "stat: 0.17391304347826086 p-value: 0.019180111532963395\n",
      "0.017 0.008 0.025\n",
      "size\n",
      "stat: 0.18553427249079424 p-value: 0.010002779234815184\n",
      "0.015 0.007 0.045\n",
      "size\n",
      "stat: 0.18394648829431437 p-value: 0.01113052204681364\n",
      "0.016 0.008 0.05\n",
      "size\n",
      "stat: 0.17725752508361203 p-value: 0.01605282035861022\n"
     ]
    }
   ],
   "source": [
    "timesteps = 500\n",
    "division_rate = 0.7\n",
    "#U = lambda: np.random.exponential(1, 1),\n",
    "fitness_rate = 0.000\n",
    "epsilon = 0.001\n",
    "cell_death = 0.1\n",
    "mutation_rate = 0.00\n",
    "cassette_size = 3\n",
    "\n",
    "# for mutation_rate in frange(0.0025, 0.00451, 0.0001):\n",
    "for fitness_rate in frange(0, 0.11, 0.005):       \n",
    "    for division_rate in frange(0.014, 0.0171, 0.001):\n",
    "        for cell_death in frange(0.006, 0.0101, 0.001):\n",
    "\n",
    "            # drop_perc = []\n",
    "            # max_spc = []\n",
    "            avg_spc = []\n",
    "            size = []\n",
    "            # num_chars = []\n",
    "\n",
    "            for i in range(1, 300):\n",
    "                out, leaves = Yule.phylo_forward_pass(timesteps = timesteps, \n",
    "                                                      min_division_rate = division_rate, \n",
    "                                                      fitness_rate = fitness_rate, \n",
    "                                                      epsilon = epsilon, \n",
    "                                                      cell_death = cell_death)\n",
    "                while len(leaves) == 0:\n",
    "                    out, leaves = Yule.phylo_forward_pass(timesteps = timesteps, \n",
    "                                                          min_division_rate = division_rate, \n",
    "                                                          fitness_rate = fitness_rate, \n",
    "                                                          epsilon = epsilon,\n",
    "                                                          cell_death = cell_death)\n",
    "\n",
    "            #     prior_probabilities = Yule.compute_priors(30, 300, mutation_rate, 5, 0.5, skew_factor=0.0, num_skew=1)[0]\n",
    "            #     Yule.overlay_mutation(out.network, prior_probabilities.copy(), (mutation_rate), cassette_size)\n",
    "            #     Yule.overlay_heritable_dropout(out.network)\n",
    "            #     cm = Yule.get_character_matrix(leaves)\n",
    "            #     num_dropped = 0\n",
    "            #     for k in range(cm.shape[0]):\n",
    "            #         for j in range(cm.shape[1]):\n",
    "            #             if cm.iloc[k,j] == \"-\" or cm.iloc[k,j] == \"*\":\n",
    "            #                 num_dropped += 1\n",
    "            #     drop_perc.append(num_dropped/(cm.shape[0] * cm.shape[1]))\n",
    "\n",
    "            #     spc = states_per_char(cm)\n",
    "            #     avg_spc.append(sum(spc)/len(spc))\n",
    "            #     max_spc.append(max(spc))\n",
    "\n",
    "                size.append(len(leaves))\n",
    "                    #     num_chars.append(cm.shape[1])\n",
    "\n",
    "                #         if stats.ks_2samp(size, size_i)[1] > .05:\n",
    "            # print(mutation_rate)\n",
    "            # print(\"avg_spc\")\n",
    "            # print(\"stat: \" + str(stats.ks_2samp(avg_spc, avg_spc_i)[0]), \"p-value: \" + str(stats.ks_2samp(avg_spc, avg_spc_i)[1]))\n",
    "            if stats.ks_2samp(size, size_i)[1] > .01:\n",
    "                print(division_rate, cell_death, fitness_rate)\n",
    "                print(\"size\")\n",
    "                print(\"stat: \" + str(stats.ks_2samp(size, size_i)[0]), \"p-value: \" + str(stats.ks_2samp(size, size_i)[1]))\n"
   ]
  },
  {
   "cell_type": "code",
   "execution_count": null,
   "metadata": {},
   "outputs": [],
   "source": [
    "# path = \"/data/yosef2/users/richardz/projects/Yule/ivlt_like/\"\n",
    "\n",
    "# drop_perc = []\n",
    "# max_spc = []\n",
    "# avg_spc = []\n",
    "# samples = []\n",
    "# num_chars = []\n",
    "\n",
    "# for i in range(1, 11):\n",
    "#     cm = pd.read_csv(path + 'dropout_cm' + str(i) + '.txt', sep = '\\t', index_col = 0)\n",
    "#     num_dropped = 0\n",
    "#     for k in range(cm.shape[0]):\n",
    "#         for j in range(cm.shape[1]):\n",
    "#             if cm.iloc[k,j] == \"-\" or cm.iloc[k,j] == \"*\":\n",
    "#                 num_dropped += 1\n",
    "#     drop_perc.append(num_dropped/(cm.shape[0] * cm.shape[1]))\n",
    "    \n",
    "#     spc = states_per_char(cm)\n",
    "#     avg_spc.append(sum(spc)/len(spc))\n",
    "#     max_spc.append(max(spc))\n",
    "    \n",
    "#     samples.append(cm.shape[0])\n",
    "#     num_chars.append(cm.shape[1])"
   ]
  },
  {
   "cell_type": "code",
   "execution_count": 287,
   "metadata": {},
   "outputs": [],
   "source": [
    "path = \"/data/yosef2/users/richardz/projects/Yule/fitness/t500\"\n",
    "if os.path.exists(path) == False:\n",
    "    os.mkdir(path)  \n",
    "\n",
    "timesteps = 500\n",
    "division_rate = 0.015\n",
    "fitness_rate = 0.0025\n",
    "epsilon = 0.001\n",
    "cell_death = 0.006\n",
    "mutation_rate = 0.0045\n",
    "cassette_size = 3\n",
    "\n",
    "drop_perc = []\n",
    "max_spc = []\n",
    "avg_spc = []\n",
    "size = []\n",
    "num_chars = []\n",
    "\n",
    "for i in range(1, 100):\n",
    "    out, leaves = Yule.phylo_forward_pass(timesteps = timesteps, \n",
    "                                          min_division_rate = division_rate, \n",
    "                                          fitness_rate = fitness_rate, \n",
    "                                          epsilon = epsilon, \n",
    "                                          cell_death = cell_death)\n",
    "    while len(leaves) == 0:\n",
    "        out, leaves = Yule.phylo_forward_pass(timesteps = timesteps, \n",
    "                                              min_division_rate = division_rate, \n",
    "                                              fitness_rate = fitness_rate, \n",
    "                                              epsilon = epsilon,\n",
    "                                              cell_death = cell_death)\n",
    "\n",
    "    prior_probabilities = Yule.compute_priors(30, 300, mutation_rate, 5, 0.5, skew_factor=0.0, num_skew=1)[0]\n",
    "    \n",
    "    pic.dump(prior_probabilities, open(path + '/priors' + str(i) + '.pkl', 'wb'))\n",
    "    \n",
    "    Yule.overlay_mutation(out.network, prior_probabilities.copy(), (mutation_rate), cassette_size)\n",
    "    ground_cm = Yule.get_character_matrix(leaves)\n",
    "    ground_cm.to_csv(path + '/ground_truth_cm' + str(i) + '.txt', sep = '\\t')\n",
    "    \n",
    "    Yule.overlay_heritable_dropout(out.network)\n",
    "    dropout_cm = Yule.get_character_matrix(leaves)\n",
    "    dropout_cm = dropout_cm.astype(str)\n",
    "    row_names = ['c' + str(i) for i in range(dropout_cm.shape[0])]\n",
    "    dropout_cm.index = row_names\n",
    "    dropout_cm.to_csv(path + '/dropout_cm' + str(i) + '.txt', sep = '\\t')\n",
    "    pic.dump(out, open(path + '/net' + str(i) + '.pkl', 'wb'))\n",
    "    \n",
    "    num_dropped = 0\n",
    "    for k in range(dropout_cm.shape[0]):\n",
    "        for j in range(dropout_cm.shape[1]):\n",
    "            if dropout_cm.iloc[k,j] == \"-\" or dropout_cm.iloc[k,j] == \"*\":\n",
    "                num_dropped += 1\n",
    "    drop_perc.append(num_dropped/(dropout_cm.shape[0] * dropout_cm.shape[1]))\n",
    "\n",
    "    spc = states_per_char(dropout_cm)\n",
    "    avg_spc.append(sum(spc)/len(spc))\n",
    "    max_spc.append(max(spc))\n",
    "\n",
    "    size.append(len(leaves))"
   ]
  },
  {
   "cell_type": "code",
   "execution_count": 288,
   "metadata": {},
   "outputs": [
    {
     "data": {
      "image/png": "[encoded data removed]",
      "text/plain": [
       "<Figure size 432x288 with 1 Axes>"
      ]
     },
     "metadata": {
      "needs_background": "light"
     },
     "output_type": "display_data"
    }
   ],
   "source": [
    "plt.scatter(sorted(size)[:-5], sorted(size_i)[:-5])\n",
    "plt.plot(range(min(sorted(size_i)[:-5]),max(sorted(size_i)[:-5]) + 1), range(min(sorted(size_i)[:-5]),max(sorted(size_i)[:-5]) + 1), 'b')\n",
    "# plt.plot([0, 30], [0, 30], 'b')\n",
    "plt.title(\"Sample Size (Number of Leaves)\")\n",
    "plt.xlabel(\"Simulated Trees\")\n",
    "plt.ylabel(\"Ground Truth Trees\")\n",
    "plt.show()"
   ]
  },
  {
   "cell_type": "code",
   "execution_count": 289,
   "metadata": {},
   "outputs": [
    {
     "data": {
      "image/png": "[encoded data removed]",
      "text/plain": [
       "<Figure size 432x288 with 1 Axes>"
      ]
     },
     "metadata": {
      "needs_background": "light"
     },
     "output_type": "display_data"
    }
   ],
   "source": [
    "plt.scatter(sorted(avg_spc)[:-5], sorted(avg_spc_i)[:-5])\n",
    "plt.plot([min(sorted(avg_spc_i)[:-5]),max(sorted(avg_spc_i)[:-5])], [min(sorted(avg_spc_i)[:-5]),max(sorted(avg_spc_i)[:-5])], 'b')\n",
    "# plt.plot([0, 30], [0, 30], 'b')\n",
    "plt.title(\"Mean Unique Samples per Character\")\n",
    "plt.xlabel(\"Simulated Trees\")\n",
    "plt.ylabel(\"Ground Truth Trees\")\n",
    "plt.show()"
   ]
  },
  {
   "cell_type": "code",
   "execution_count": 316,
   "metadata": {},
   "outputs": [],
   "source": [
    "path = \"/data/yosef2/users/richardz/projects/dropout_testing/stochastic_only/1500cells/20percent\"\n",
    "\n",
    "drop_perc = []\n",
    "max_spc = []\n",
    "avg_spc = []\n",
    "size = []\n",
    "num_chars = []\n",
    "\n",
    "for i in range(0, 50):\n",
    "    cm = pd.read_csv(path + '/dropout_cm' + str(i) + '.txt', sep = '\\t', index_col = 0)\n",
    "    num_dropped = 0\n",
    "    for k in range(cm.shape[0]):\n",
    "        for j in range(cm.shape[1]):\n",
    "            if cm.iloc[k,j] == \"-\" or cm.iloc[k,j] == \"*\":\n",
    "                num_dropped += 1\n",
    "    drop_perc.append(num_dropped/(cm.shape[0] * cm.shape[1]))\n",
    "    \n",
    "    spc = states_per_char(cm)\n",
    "    avg_spc.append(sum(spc)/len(spc))\n",
    "    max_spc.append(max(spc))\n",
    "    \n",
    "    size.append(cm.shape[0])\n",
    "    num_chars.append(cm.shape[1])"
   ]
  },
  {
   "cell_type": "code",
   "execution_count": 291,
   "metadata": {},
   "outputs": [
    {
     "name": "stdout",
     "output_type": "stream",
     "text": [
      "avg_spc\n",
      "stat: 0.09090909090909091 p-value: 0.8106273549443583\n",
      "size\n",
      "stat: 0.12121212121212122 p-value: 0.4630101136905197\n"
     ]
    }
   ],
   "source": [
    "print(\"avg_spc\")\n",
    "print(\"stat: \" + str(stats.ks_2samp(avg_spc, avg_spc_i)[0]), \"p-value: \" + str(stats.ks_2samp(avg_spc, avg_spc_i)[1]))\n",
    "\n",
    "print(\"size\")\n",
    "print(\"stat: \" + str(stats.ks_2samp(size, size_i)[0]), \"p-value: \" + str(stats.ks_2samp(size, size_i)[1]))\n"
   ]
  },
  {
   "cell_type": "code",
   "execution_count": 317,
   "metadata": {},
   "outputs": [
    {
     "data": {
      "text/plain": [
       "22.6735"
      ]
     },
     "execution_count": 317,
     "metadata": {},
     "output_type": "execute_result"
    }
   ],
   "source": [
    "stat.mean(avg_spc)"
   ]
  },
  {
   "cell_type": "code",
   "execution_count": 318,
   "metadata": {},
   "outputs": [
    {
     "data": {
      "text/plain": [
       "22.737499999999997"
      ]
     },
     "execution_count": 318,
     "metadata": {},
     "output_type": "execute_result"
    }
   ],
   "source": [
    "stat.median(avg_spc)"
   ]
  },
  {
   "cell_type": "code",
   "execution_count": 308,
   "metadata": {},
   "outputs": [
    {
     "data": {
      "text/plain": [
       "27"
      ]
     },
     "execution_count": 308,
     "metadata": {},
     "output_type": "execute_result"
    }
   ],
   "source": [
    "min(sorted(size_i)[:-5])"
   ]
  },
  {
   "cell_type": "code",
   "execution_count": null,
   "metadata": {},
   "outputs": [],
   "source": []
  }
 ],
 "metadata": {
  "kernelspec": {
   "display_name": "Python 3",
   "language": "python",
   "name": "python3"
  },
  "language_info": {
   "codemirror_mode": {
    "name": "ipython",
    "version": 3
   },
   "file_extension": ".py",
   "mimetype": "text/x-python",
   "name": "python",
   "nbconvert_exporter": "python",
   "pygments_lexer": "ipython3",
   "version": "3.6.9"
  }
 },
 "nbformat": 4,
 "nbformat_minor": 2
}
