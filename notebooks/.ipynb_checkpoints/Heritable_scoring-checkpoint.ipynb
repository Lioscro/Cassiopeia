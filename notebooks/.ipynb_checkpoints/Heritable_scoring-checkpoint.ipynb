{
 "cells": [
  {
   "cell_type": "code",
   "execution_count": 1,
   "metadata": {},
   "outputs": [],
   "source": [
    "import sys \n",
    "import networkx as nx\n",
    "import pandas as pd\n",
    "import numpy as np\n",
    "import pickle as pic\n",
    "import random\n",
    "import scipy.stats as stats\n",
    "import statistics\n",
    "\n",
    "import cassiopeia.TreeSolver.simulation_tools.simulation_utils as sim_utils\n",
    "import cassiopeia.TreeSolver.simulation_tools.dataset_generation as data_gen\n",
    "import cassiopeia.TreeSolver.simulation_tools.birthdeath_utils as bd\n",
    "from cassiopeia.TreeSolver.Node import Node\n",
    "from cassiopeia.TreeSolver.Cassiopeia_Tree import Cassiopeia_Tree\n",
    "\n",
    "\n",
    "from tqdm import tqdm_notebook\n",
    "import matplotlib.pyplot as plt\n",
    "\n",
    "import os"
   ]
  },
  {
   "cell_type": "code",
   "execution_count": 2,
   "metadata": {},
   "outputs": [],
   "source": [
    "def degree_dist_leaves(network): #returns num of leaf descendants of each node\n",
    "    root = [n for n in network if network.in_degree(n) == 0][0]\n",
    "    dist = {}\n",
    "    leaves_dist_helper(network, root, dist)\n",
    "    return dist\n",
    "    \n",
    "def leaves_dist_helper(network, node, dist):\n",
    "    if network.out_degree(node) == 0:\n",
    "        dist[node] = 1\n",
    "        return 1\n",
    "    else:\n",
    "        total_leaves = 0\n",
    "        for i in network.successors(node):\n",
    "            total_leaves += leaves_dist_helper(network, i, dist)\n",
    "        dist[node] = total_leaves\n",
    "        return(total_leaves)            \n",
    "            \n",
    "def record_heritable_dropouts(network):\n",
    "    drops = {}\n",
    "    dist = degree_dist_leaves(network)\n",
    "    root = [n for n in network if network.in_degree(n) == 0][0]\n",
    "\n",
    "    def record_h_helper(network, node, prev_drops, drops, total_time):\n",
    "        curr_drops = network.nodes[node]['dropout']\n",
    "        t = network.nodes[node]['parent_lifespan']\n",
    "        to_add = list(set(curr_drops) - set(prev_drops))\n",
    "        if len(to_add) > 0:\n",
    "            for i in to_add:\n",
    "                if i in drops:\n",
    "                    drops[i].append((dist[node], t + total_time))\n",
    "                else:\n",
    "                    drops[i] = [(dist[node], t + total_time)]\n",
    "        if network.out_degree(node) > 0:\n",
    "            for j in network.successors(node):\n",
    "                record_h_helper(network, j, curr_drops, drops, total_time + t)\n",
    "    \n",
    "    record_h_helper(network, root, [], drops, 0)\n",
    "    return drops\n",
    "            \n",
    "def post_process_tree(network):\n",
    "    root = [n for n in network if network.in_degree(n) == 0][0]\n",
    "    if network.out_degree(root) > 0:\n",
    "        for node in network.successors(root):\n",
    "            post_process_helper(network, node, root)\n",
    "    \n",
    "def post_process_helper(network, node, parent):\n",
    "    succs = []\n",
    "    for i in network.successors(node):\n",
    "        succs.append(i)\n",
    "    if len(succs) == 1:\n",
    "        t = network.nodes[node]['parent_lifespan']\n",
    "        network.remove_node(node)\n",
    "        for i in succs:\n",
    "            network.add_edge(parent, i)\n",
    "            network.nodes[i]['parent_lifespan'] += t\n",
    "            post_process_helper(network, i, parent)\n",
    "    else:\n",
    "        for i in succs:\n",
    "            post_process_helper(network, i, node)\n",
    "            \n",
    "def degree_dist(network): #returns dist of out degrees, and average out degree\n",
    "    out_degrees = []\n",
    "    for i in network.nodes:\n",
    "        out_degrees.append(network.out_degree(i))\n",
    "    fullness = out_degrees.count(1)/len(out_degrees)\n",
    "    return out_degrees, sum(out_degrees)/len(out_degrees), fullness\n",
    "\n",
    "def longest_path(network, node, ans):\n",
    "    ans[0] += network.nodes[node]['parent_lifespan']\n",
    "    for i in network.successors(node):\n",
    "#         print(network.nodes[i]['parent_lifespan'])\n",
    "        longest_path(network, i, ans)\n",
    "        break"
   ]
  },
  {
   "cell_type": "code",
   "execution_count": 52,
   "metadata": {},
   "outputs": [],
   "source": [
    "num_cells = 400\n",
    "num_chars = 30\n",
    "num_states = 1000\n",
    "\n",
    "mut_perc = 0.53\n",
    "sampling_prop = 0.5\n",
    "epsilon = 25\n",
    "stoch_dropout = 0.15\n",
    "silence_rate = 0 \n",
    "\n",
    "running_time = 100\n",
    "ratio = 0.15\n",
    "cassette_size = 3"
   ]
  },
  {
   "cell_type": "code",
   "execution_count": 53,
   "metadata": {},
   "outputs": [
    {
     "name": "stdout",
     "output_type": "stream",
     "text": [
      "/data/yosef2/users/richardz/projects/benchmarking/400htest/\n"
     ]
    }
   ],
   "source": [
    "path = \"/data/yosef2/users/richardz/projects/benchmarking/\" + str(num_cells) + \"htest/\"\n",
    "print(path)\n",
    "if os.path.exists(path) == False:\n",
    "    os.mkdir(path)\n",
    "\n",
    "mut_rate = np.log(1 - mut_perc)/(-1 * running_time)\n",
    "samp_scale = 1/sampling_prop\n",
    "vals = bd.get_net_div(100, round(num_cells * samp_scale), ratio)\n",
    "\n",
    "for num in range(0, 50):\n",
    "\n",
    "    prior_probabilities = bd.compute_priors(num_chars, num_states, mut_rate, 5, 0.5, skew_factor=0.0, num_skew=1)[0]\n",
    "\n",
    "    tree, leaves = bd.construct_topology(num_chars, vals[0], vals[1], num_leaves = round(num_cells * samp_scale))\n",
    "    network = tree.network\n",
    "    bd.overlay_mutation_continuous(network, prior_probabilities, mut_rate, cassette_size, epsilon, silence_rate = silence_rate)\n",
    "\n",
    "    sel_leaves = np.random.choice(leaves, round(sampling_prop * len(leaves)), replace = False)\n",
    "\n",
    "    to_remove = list(set(leaves) - set(sel_leaves))\n",
    "    for node in to_remove:\n",
    "        bd.remove_and_prune(node, network)\n",
    "    post_process_tree(network)\n",
    "\n",
    "    #     pic.dump(tree, open(path + 'ground_truth_tree' + str(num) + '.pkl', 'wb'))\n",
    "    pic.dump(prior_probabilities, open(path + 'priors' + str(num) + '.pkl', 'wb'))\n",
    "\n",
    "    ground_cm = bd.get_character_matrix(sel_leaves)\n",
    "    ground_cm.to_csv(path + 'ground_truth_cm' + str(num) + '.txt', sep = '\\t')\n",
    "\n",
    "    bd.overlay_heritable_dropout(network)\n",
    "    drops = record_heritable_dropouts(network)\n",
    "    pic.dump(drops, open(path + 'drops' + str(num) + '.pkl', 'wb'))\n",
    "    bd.add_stochastic_leaves(sel_leaves, stoch_dropout, cassette_size)\n",
    "\n",
    "    dropout_cm = bd.get_character_matrix(sel_leaves)\n",
    "    dropout_cm = dropout_cm.astype(str)\n",
    "\n",
    "    row_names = ['c' + str(i) for i in range(dropout_cm.shape[0])]\n",
    "    dropout_cm.index = row_names\n",
    "    dropout_cm.to_csv(path + '/dropout_cm' + str(num) + '.txt', sep = '\\t')\n",
    "    # dropout_cm.replace(\"*\", \"-\").to_csv(path + '/dropout_cm_edit' + str(num) + '.txt', sep = '\\t')\n",
    "    pic.dump(tree, open(path + '/dropout_net' + str(num) + '.pkl', 'wb'))"
   ]
  },
  {
   "cell_type": "code",
   "execution_count": 870,
   "metadata": {},
   "outputs": [
    {
     "data": {
      "text/plain": [
       "{0: [(2, 0), (3, 0), (2, 0)],\n",
       " 1: [(0, 0)],\n",
       " 2: [(0, 0)],\n",
       " 3: [(5, 1), (4, 0), (20, 0), (2, 0), (12, 1), (4, 0)],\n",
       " 4: [(5, 1), (7, 0), (13, 0), (12, 1)],\n",
       " 5: [(5, 1), (7, 0), (13, 0), (12, 1)],\n",
       " 6: [(2, 0), (15, 0), (18, 0), (2, 0), (27, 0), (7, 0)],\n",
       " 7: [(15, 0), (14, 0), (27, 0), (7, 0)],\n",
       " 8: [(15, 0), (14, 0), (27, 0), (7, 0)],\n",
       " 9: [(37, 0), (70, 0), (4, 0)],\n",
       " 10: [(37, 0), (70, 0)],\n",
       " 11: [(37, 0), (70, 0)],\n",
       " 12: [(12, 0)],\n",
       " 13: [(0, 0)],\n",
       " 14: [(0, 0)],\n",
       " 15: [(361, 0)],\n",
       " 16: [(361, 0)],\n",
       " 17: [(361, 0)],\n",
       " 18: [(8, 0), (92, 4)],\n",
       " 19: [(7, 0), (92, 4)],\n",
       " 20: [(7, 0), (92, 4)],\n",
       " 21: [(0, 2), (1, 1), (4, 0), (13, 0), (6, 1)],\n",
       " 22: [(13, 0), (6, 1)],\n",
       " 23: [(13, 0), (6, 1)],\n",
       " 24: [(1, 1), (4, 0), (2, 1), (4, 0)],\n",
       " 25: [(0, 0)],\n",
       " 26: [(0, 0)],\n",
       " 27: [(8, 0), (3, 1), (15, 2), (3, 0), (3, 0), (2, 2), (6, 0), (1, 1)],\n",
       " 28: [(16, 2), (6, 0)],\n",
       " 29: [(7, 0), (6, 0)]}"
      ]
     },
     "execution_count": 870,
     "metadata": {},
     "output_type": "execute_result"
    }
   ],
   "source": [
    "recon_drops = pic.load(open(\"/data/yosef2/users/richardz/projects/benchmarking/400cells_base_m/avg_h/dropout_cm0_avg_h_hdrops.pkl\", 'rb'))\n",
    "\n",
    "# recon_drops_p = {}\n",
    "# for i in range(30):\n",
    "#     if i in recon_drops:\n",
    "#         recon_drops_p[i] = (sum(recon_drops[i]))\n",
    "#     else:\n",
    "#         recon_drops_p[i] = 0\n",
    "\n",
    "recon_drops_sorted = {}\n",
    "for i in range(30):\n",
    "    if i in recon_drops:\n",
    "        recon_drops_sorted[i] = [(h[0], h[1]) for h in recon_drops[i] if sum(h) > 1]\n",
    "    else:\n",
    "        recon_drops_sorted[i] = [(0,0)]\n",
    "        \n",
    "recon_drops_num = {}\n",
    "for i in np.arange(0, 30):\n",
    "    if i in recon_drops:\n",
    "        recon_drops_num[i] = len(recon_drops[i])\n",
    "    else:\n",
    "        recon_drops_num[i] = 0\n",
    "\n",
    "recon_drops_sorted"
   ]
  },
  {
   "cell_type": "code",
   "execution_count": 871,
   "metadata": {},
   "outputs": [
    {
     "data": {
      "text/plain": [
       "{0: [3, 3, 3],\n",
       " 1: [3, 3, 3],\n",
       " 2: [3, 3, 3],\n",
       " 3: [22, 8, 6, 19, 2, 4, 18],\n",
       " 4: [22, 8, 6, 6, 19, 2, 4, 18],\n",
       " 5: [22, 8, 6, 6, 19, 2, 4, 18],\n",
       " 6: [3, 17, 2, 2, 2, 5, 3, 46, 4],\n",
       " 7: [3, 17, 2, 2, 2, 5, 3, 46, 4],\n",
       " 8: [3, 17, 2, 2, 5, 3, 46, 4],\n",
       " 9: [145, 3, 5],\n",
       " 10: [145, 3, 5],\n",
       " 11: [145, 5],\n",
       " 12: [15],\n",
       " 13: [15],\n",
       " 14: [15],\n",
       " 15: [400],\n",
       " 16: [400],\n",
       " 17: [400],\n",
       " 18: [11, 2, 15, 2, 5, 2, 2, 22, 7, 11, 4, 9, 7, 5, 4],\n",
       " 19: [11, 2, 15, 2, 5, 2, 2, 22, 7, 11, 4, 9, 7, 5, 4],\n",
       " 20: [11, 2, 15, 2, 5, 2, 2, 22, 7, 11, 4, 9, 7, 5, 4],\n",
       " 21: [3, 16, 2, 2, 2],\n",
       " 22: [3, 16, 2, 2, 2],\n",
       " 23: [3, 16, 2, 2, 2],\n",
       " 24: [3, 3, 2, 5, 2, 4, 2, 3, 4],\n",
       " 25: [3, 3, 2, 5, 2, 4, 2, 3, 4],\n",
       " 26: [3, 3, 2, 5, 2, 4, 2, 3, 4],\n",
       " 27: [3, 8, 4, 4, 7, 3, 4, 2, 9, 7, 3, 2, 2],\n",
       " 28: [3, 8, 4, 4, 7, 3, 4, 2, 9, 2, 7, 3, 2, 2],\n",
       " 29: [3, 8, 4, 4, 7, 3, 4, 2, 9, 2, 7, 3, 2, 2]}"
      ]
     },
     "execution_count": 871,
     "metadata": {},
     "output_type": "execute_result"
    }
   ],
   "source": [
    "drops = pic.load(open(\"/data/yosef2/users/richardz/projects/benchmarking/400cells_base_m/drops0.pkl\", 'rb'))\n",
    "\n",
    "# drops_p = {}\n",
    "# for i in range(30):\n",
    "#     if i in drops:\n",
    "#         drops_p[i] = (sum(drops[i]))\n",
    "#     else:\n",
    "#         drops_p[i] = 0\n",
    "    \n",
    "drops_sorted = {}\n",
    "for i in range(30):\n",
    "    if i in drops:\n",
    "        drops_sorted[i] = [n for n in drops[i] if n > 1]\n",
    "    else:\n",
    "        drops_sorted[i] = [0]\n",
    "        \n",
    "drops_num = {}\n",
    "for i in np.arange(0, 30):\n",
    "    if i in drops:\n",
    "        drops_num[i] = len(drops[i])\n",
    "    else:\n",
    "        drops_num[i] = 0\n",
    "\n",
    "drops_sorted"
   ]
  },
  {
   "cell_type": "code",
   "execution_count": 872,
   "metadata": {},
   "outputs": [],
   "source": [
    "# drops_diff = {}\n",
    "# for i in range(30):\n",
    "#     recon_sum = 0\n",
    "#     base_sum = 0\n",
    "#     if i in recon_drops_p:\n",
    "#         recon_sum = recon_drops_p[i]\n",
    "#     if i in drops_p:\n",
    "#         base_sum = drops_p[i]\n",
    "#     drops_diff[i] = (recon_sum - base_sum)/(base_sum + 1)\n",
    "# drops_diff"
   ]
  },
  {
   "cell_type": "code",
   "execution_count": 873,
   "metadata": {},
   "outputs": [
    {
     "data": {
      "text/plain": [
       "0.5724949907303992"
      ]
     },
     "execution_count": 873,
     "metadata": {},
     "output_type": "execute_result"
    }
   ],
   "source": [
    "precisions = {}\n",
    "for i in range(30):\n",
    "    if sum(drops_sorted[i]) == 0:\n",
    "        if sum([h[0] for h in recon_drops_sorted[i]]) != 0:\n",
    "            precisions[i] = 'overcounted'\n",
    "        else:\n",
    "            precisions[i] = 0.0\n",
    "    else:\n",
    "        precisions[i] = sum([h[0] for h in recon_drops_sorted[i]])/sum(drops_sorted[i])\n",
    "\n",
    "# for i in range(30):\n",
    "#     if i % cassette_size == 0:\n",
    "#         if precisions[i + 1] < precisions[i] and precisions[i + 2] < precisions[i]:\n",
    "#             precisions.pop(i + 1)\n",
    "#             precisions.pop(i + 2)\n",
    "\n",
    "statistics.mean(precisions.values())"
   ]
  },
  {
   "cell_type": "code",
   "execution_count": 874,
   "metadata": {},
   "outputs": [
    {
     "data": {
      "text/plain": [
       "0.9638663302094338"
      ]
     },
     "execution_count": 874,
     "metadata": {},
     "output_type": "execute_result"
    }
   ],
   "source": [
    "recalls = {}\n",
    "for i in range(30):\n",
    "    if sum([h[0] for h in recon_drops_sorted[i]]) + sum([h[1] for h in recon_drops_sorted[i]]) != 0:\n",
    "        recalls[i] = sum([h[0] for h in recon_drops_sorted[i]])/(sum([h[0] for h in recon_drops_sorted[i]]) + sum([h[1] for h in recon_drops_sorted[i]]))\n",
    "statistics.mean(recalls.values())"
   ]
  },
  {
   "cell_type": "code",
   "execution_count": 853,
   "metadata": {},
   "outputs": [
    {
     "data": {
      "text/plain": [
       "0.46793612930877865"
      ]
     },
     "execution_count": 853,
     "metadata": {},
     "output_type": "execute_result"
    }
   ],
   "source": [
    "ks = {}\n",
    "for i in range(30):\n",
    "    ks[i] = stats.ks_2samp(drops_sorted[i], [sum(h) for h in recon_drops_sorted[i]])[1]\n",
    "statistics.mean(ks.values())"
   ]
  },
  {
   "cell_type": "code",
   "execution_count": 910,
   "metadata": {},
   "outputs": [
    {
     "data": {
      "text/plain": [
       "{0: ([1, 2],\n",
       "  [(0, 1), (0, 1), (0, 1), (0, 1), (0, 1), (2, 1), (0, 1), (0, 1), (0, 1)]),\n",
       " 1: ([1, 2], [(0, 0)]),\n",
       " 2: ([0], [(0, 0)]),\n",
       " 3: ([1, 1, 1, 1, 22, 4, 12, 1, 4, 1, 2, 1, 65, 1, 1, 1, 3],\n",
       "  [(1, 2), (2, 0), (105, 12)]),\n",
       " 4: ([1, 1, 1, 1, 22, 3, 4, 12, 1, 4, 1, 2, 1, 65, 1, 1, 1, 3], [(108, 12)]),\n",
       " 5: ([1, 1, 1, 1, 22, 3, 4, 12, 1, 4, 1, 2, 1, 65, 1, 1, 1, 3], [(108, 12)]),\n",
       " 6: ([41, 2, 3, 2],\n",
       "  [(0, 1),\n",
       "   (0, 1),\n",
       "   (13, 1),\n",
       "   (0, 1),\n",
       "   (0, 1),\n",
       "   (3, 0),\n",
       "   (1, 0),\n",
       "   (2, 1),\n",
       "   (22, 2),\n",
       "   (0, 1),\n",
       "   (0, 1)]),\n",
       " 7: ([41, 2, 1, 3, 2, 1], [(13, 1), (23, 2)]),\n",
       " 8: ([41, 1, 2, 1], [(13, 1), (21, 2)]),\n",
       " 9: ([6, 1, 1, 2, 1, 3, 1, 1, 1, 1, 1, 2, 3, 1],\n",
       "  [(0, 1),\n",
       "   (1, 0),\n",
       "   (1, 0),\n",
       "   (0, 1),\n",
       "   (1, 0),\n",
       "   (0, 1),\n",
       "   (1, 1),\n",
       "   (3, 0),\n",
       "   (0, 1),\n",
       "   (0, 1),\n",
       "   (0, 1),\n",
       "   (0, 1),\n",
       "   (1, 0),\n",
       "   (4, 0),\n",
       "   (0, 1),\n",
       "   (0, 1)]),\n",
       " 10: ([6, 1, 1, 2, 1, 3, 1, 1, 1, 1, 1, 2, 3, 1], [(0, 0)]),\n",
       " 11: ([6, 1, 1, 2, 1, 3, 1, 1, 1, 1, 1, 2, 3, 1], [(0, 0)]),\n",
       " 12: ([1, 1, 2],\n",
       "  [(0, 1), (0, 1), (1, 0), (0, 1), (1, 0), (2, 2), (0, 1), (0, 1)]),\n",
       " 13: ([1, 1, 2], [(0, 0)]),\n",
       " 14: ([1, 1, 2], [(0, 0)]),\n",
       " 15: ([28, 1, 3, 1], [(0, 1), (0, 1), (3, 0), (0, 1), (25, 1), (0, 1)]),\n",
       " 16: ([28, 1, 3, 1, 1], [(25, 1)]),\n",
       " 17: ([28, 1, 3, 1, 1], [(25, 1)]),\n",
       " 18: ([1,\n",
       "   1,\n",
       "   2,\n",
       "   11,\n",
       "   3,\n",
       "   1,\n",
       "   10,\n",
       "   2,\n",
       "   10,\n",
       "   7,\n",
       "   1,\n",
       "   1,\n",
       "   2,\n",
       "   1,\n",
       "   1,\n",
       "   2,\n",
       "   1,\n",
       "   1,\n",
       "   1,\n",
       "   3,\n",
       "   1,\n",
       "   1,\n",
       "   1,\n",
       "   3,\n",
       "   8],\n",
       "  [(7, 0),\n",
       "   (6, 0),\n",
       "   (2, 0),\n",
       "   (1, 0),\n",
       "   (7, 0),\n",
       "   (6, 0),\n",
       "   (8, 0),\n",
       "   (4, 0),\n",
       "   (1, 0),\n",
       "   (0, 1)]),\n",
       " 19: ([1,\n",
       "   1,\n",
       "   2,\n",
       "   11,\n",
       "   3,\n",
       "   1,\n",
       "   10,\n",
       "   2,\n",
       "   10,\n",
       "   7,\n",
       "   1,\n",
       "   1,\n",
       "   2,\n",
       "   1,\n",
       "   1,\n",
       "   2,\n",
       "   1,\n",
       "   1,\n",
       "   1,\n",
       "   3,\n",
       "   1,\n",
       "   1,\n",
       "   1,\n",
       "   3,\n",
       "   8],\n",
       "  [(7, 0), (6, 0), (7, 0), (6, 0), (6, 0)]),\n",
       " 20: ([1,\n",
       "   1,\n",
       "   2,\n",
       "   11,\n",
       "   3,\n",
       "   1,\n",
       "   10,\n",
       "   2,\n",
       "   10,\n",
       "   7,\n",
       "   1,\n",
       "   1,\n",
       "   2,\n",
       "   1,\n",
       "   1,\n",
       "   2,\n",
       "   1,\n",
       "   1,\n",
       "   1,\n",
       "   3,\n",
       "   1,\n",
       "   1,\n",
       "   1,\n",
       "   3,\n",
       "   8],\n",
       "  [(7, 0), (6, 0), (7, 0), (6, 0), (6, 0)]),\n",
       " 21: ([1, 1, 2, 2, 1, 2, 1, 3, 2, 1, 1, 1, 1, 1, 5, 2, 6, 1, 1, 31, 2],\n",
       "  [(26, 0), (2, 0), (1, 0), (1, 0), (0, 2), (1, 0), (0, 1), (5, 0), (8, 0)]),\n",
       " 22: ([1, 1, 2, 2, 1, 2, 1, 3, 2, 1, 1, 1, 1, 1, 5, 2, 6, 1, 56],\n",
       "  [(7, 0), (38, 0)]),\n",
       " 23: ([1, 1, 2, 2, 1, 2, 1, 3, 2, 1, 1, 1, 1, 1, 5, 2, 6, 1, 56],\n",
       "  [(7, 0), (38, 0)]),\n",
       " 24: ([3, 1, 2, 2, 8, 1, 1, 5, 3, 2, 1, 2, 2, 13],\n",
       "  [(10, 2), (6, 0), (1, 0), (0, 1), (0, 1), (10, 1), (3, 2)]),\n",
       " 25: ([3, 1, 2, 2, 8, 1, 1, 5, 3, 2, 1, 2, 2, 13], [(5, 1), (6, 0)]),\n",
       " 26: ([3, 1, 2, 2, 8, 1, 1, 5, 2, 1, 2, 2, 13], [(5, 1), (6, 0), (7, 1)]),\n",
       " 27: ([1, 1, 1, 1, 2, 1, 1, 1, 4, 1, 1, 1, 10, 3, 1, 1, 1, 1, 1, 1, 1, 1],\n",
       "  [(1, 0), (1, 0), (1, 0), (0, 1), (1, 0), (6, 3), (0, 3), (1, 1), (6, 0)]),\n",
       " 28: ([1, 1, 1, 1, 2, 1, 1, 1, 4, 1, 1, 1, 10, 3, 1, 1, 1, 1, 1, 1, 1, 1],\n",
       "  [(4, 2), (6, 0)]),\n",
       " 29: ([1, 1, 1, 1, 2, 1, 1, 1, 4, 1, 1, 1, 10, 3, 1, 1, 1, 1, 1, 1, 1, 1],\n",
       "  [(4, 2), (6, 0)])}"
      ]
     },
     "execution_count": 910,
     "metadata": {},
     "output_type": "execute_result"
    }
   ],
   "source": [
    "drops_comp = {}\n",
    "for i in np.arange(30):\n",
    "    drops_comp[i] = (drops_sorted[i], recon_drops_sorted[i])\n",
    "drops_comp"
   ]
  },
  {
   "cell_type": "code",
   "execution_count": 6,
   "metadata": {},
   "outputs": [],
   "source": [
    "num_chars = 30\n",
    "heritable_sizes = []\n",
    "recon_sizes = []\n",
    "avg_depth = []\n",
    "silences = []\n",
    "recall = []\n",
    "precision = []\n",
    "ks_p = []\n",
    "\n",
    "for num in range(0, 100):\n",
    "    recon_drops = pic.load(open(\"/data/yosef2/users/richardz/projects/benchmarking/400cells_base_m/avg_h/dropout_cm\" + str(num) + \"_avg_h_hdrops.pkl\", 'rb'))\n",
    "    drops = pic.load(open(\"/data/yosef2/users/richardz/projects/benchmarking/400cells_base_m/drops\" + str(num) + \".pkl\", 'rb'))\n",
    "    rates = pic.load(open(\"/data/yosef2/users/richardz/projects/benchmarking/400cells_base_m/silence_rates\" + str(num) + \".pkl\", 'rb'))\n",
    "    \n",
    "    drops_sorted = {}\n",
    "    for i in range(num_chars):\n",
    "        if i in drops:\n",
    "            heritable_sizes.extend(drops[i])\n",
    "            drops_sorted[i] = drops[i]\n",
    "        else:\n",
    "            drops_sorted[i] = [0]\n",
    "\n",
    "    recon_drops_sorted = {}\n",
    "    for i in range(num_chars):\n",
    "        if i in recon_drops:\n",
    "            recon_sizes.extend([sum(n) for n in recon_drops[i]])\n",
    "            recon_drops_sorted[i] = recon_drops[i]\n",
    "        else:\n",
    "            recon_drops_sorted[i] = [(0,0)]\n",
    "            \n",
    "    silences.extend([val for val in rates for _ in range(0, 3)])\n",
    "\n",
    "#     avg_depths = {}\n",
    "#     for i in range(num_chars):\n",
    "#         avg_depths[i] = statistics.mean([h[1] for h in drops_sorted[i]])\n",
    "#     avg_depth.extend(avg_depths.values())\n",
    "    \n",
    "    recalls = {}\n",
    "    for i in range(num_chars):\n",
    "        if sum([n for n in drops_sorted[i]]) == 0:\n",
    "            if sum([h[0] for h in recon_drops_sorted[i]]) != 0:\n",
    "                recalls[i] = 0.0\n",
    "            else:\n",
    "                recalls[i] = 1.0\n",
    "        else:\n",
    "            recalls[i] = sum([h[0] for h in recon_drops_sorted[i]])/sum([n for n in drops_sorted[i]])\n",
    "\n",
    "    recall.extend(recalls.values())\n",
    "    \n",
    "    precisions = {}\n",
    "    for i in range(30):\n",
    "        if sum([h[0] for h in recon_drops_sorted[i]]) + sum([h[1] for h in recon_drops_sorted[i]]) != 0:\n",
    "            precisions[i] = sum([h[0] for h in recon_drops_sorted[i]])/(sum([h[0] for h in recon_drops_sorted[i]]) + sum([h[1] for h in recon_drops_sorted[i]]))\n",
    "    precision.extend(precisions.values())\n",
    "    \n",
    "    ks = {}\n",
    "    for i in range(30):\n",
    "        ks[i] = stats.ks_2samp([h for h in drops_sorted[i]], [sum(h) for h in recon_drops_sorted[i]])[1]\n",
    "    ks_p.extend(ks.values())"
   ]
  },
  {
   "cell_type": "code",
   "execution_count": 4,
   "metadata": {},
   "outputs": [
    {
     "ename": "StatisticsError",
     "evalue": "mean requires at least one data point",
     "output_type": "error",
     "traceback": [
      "\u001b[0;31m---------------------------------------------------------------------------\u001b[0m",
      "\u001b[0;31mStatisticsError\u001b[0m                           Traceback (most recent call last)",
      "\u001b[0;32m<ipython-input-4-1ecb1295a20c>\u001b[0m in \u001b[0;36m<module>\u001b[0;34m\u001b[0m\n\u001b[1;32m      2\u001b[0m \u001b[0mplt\u001b[0m\u001b[0;34m.\u001b[0m\u001b[0mtitle\u001b[0m\u001b[0;34m(\u001b[0m\u001b[0;34m\"Average Depth\"\u001b[0m\u001b[0;34m)\u001b[0m\u001b[0;34m\u001b[0m\u001b[0;34m\u001b[0m\u001b[0m\n\u001b[1;32m      3\u001b[0m \u001b[0mplt\u001b[0m\u001b[0;34m.\u001b[0m\u001b[0mshow\u001b[0m\u001b[0;34m\u001b[0m\u001b[0;34m\u001b[0m\u001b[0m\n\u001b[0;32m----> 4\u001b[0;31m \u001b[0mprint\u001b[0m\u001b[0;34m(\u001b[0m\u001b[0mstatistics\u001b[0m\u001b[0;34m.\u001b[0m\u001b[0mmean\u001b[0m\u001b[0;34m(\u001b[0m\u001b[0mavg_depth\u001b[0m\u001b[0;34m)\u001b[0m\u001b[0;34m)\u001b[0m\u001b[0;34m\u001b[0m\u001b[0;34m\u001b[0m\u001b[0m\n\u001b[0m",
      "\u001b[0;32m/data/yosef2/users/richardz/anaconda2/envs/python3_6/lib/python3.6/statistics.py\u001b[0m in \u001b[0;36mmean\u001b[0;34m(data)\u001b[0m\n\u001b[1;32m    309\u001b[0m     \u001b[0mn\u001b[0m \u001b[0;34m=\u001b[0m \u001b[0mlen\u001b[0m\u001b[0;34m(\u001b[0m\u001b[0mdata\u001b[0m\u001b[0;34m)\u001b[0m\u001b[0;34m\u001b[0m\u001b[0;34m\u001b[0m\u001b[0m\n\u001b[1;32m    310\u001b[0m     \u001b[0;32mif\u001b[0m \u001b[0mn\u001b[0m \u001b[0;34m<\u001b[0m \u001b[0;36m1\u001b[0m\u001b[0;34m:\u001b[0m\u001b[0;34m\u001b[0m\u001b[0;34m\u001b[0m\u001b[0m\n\u001b[0;32m--> 311\u001b[0;31m         \u001b[0;32mraise\u001b[0m \u001b[0mStatisticsError\u001b[0m\u001b[0;34m(\u001b[0m\u001b[0;34m'mean requires at least one data point'\u001b[0m\u001b[0;34m)\u001b[0m\u001b[0;34m\u001b[0m\u001b[0;34m\u001b[0m\u001b[0m\n\u001b[0m\u001b[1;32m    312\u001b[0m     \u001b[0mT\u001b[0m\u001b[0;34m,\u001b[0m \u001b[0mtotal\u001b[0m\u001b[0;34m,\u001b[0m \u001b[0mcount\u001b[0m \u001b[0;34m=\u001b[0m \u001b[0m_sum\u001b[0m\u001b[0;34m(\u001b[0m\u001b[0mdata\u001b[0m\u001b[0;34m)\u001b[0m\u001b[0;34m\u001b[0m\u001b[0;34m\u001b[0m\u001b[0m\n\u001b[1;32m    313\u001b[0m     \u001b[0;32massert\u001b[0m \u001b[0mcount\u001b[0m \u001b[0;34m==\u001b[0m \u001b[0mn\u001b[0m\u001b[0;34m\u001b[0m\u001b[0;34m\u001b[0m\u001b[0m\n",
      "\u001b[0;31mStatisticsError\u001b[0m: mean requires at least one data point"
     ]
    },
    {
     "data": {
      "image/png": "[encoded data removed]",
      "text/plain": [
       "<Figure size 432x288 with 1 Axes>"
      ]
     },
     "metadata": {
      "needs_background": "light"
     },
     "output_type": "display_data"
    }
   ],
   "source": [
    "plt.hist(avg_depth)\n",
    "plt.title(\"Average Depth\")\n",
    "plt.show\n",
    "print(statistics.mean(avg_depth))"
   ]
  },
  {
   "cell_type": "code",
   "execution_count": 14,
   "metadata": {},
   "outputs": [
    {
     "name": "stdout",
     "output_type": "stream",
     "text": [
      "7 21.8587219343696\n"
     ]
    },
    {
     "data": {
      "text/plain": [
       "21449"
      ]
     },
     "execution_count": 14,
     "metadata": {},
     "output_type": "execute_result"
    },
    {
     "data": {
      "image/png": "[encoded data removed]",
      "text/plain": [
       "<Figure size 432x288 with 1 Axes>"
      ]
     },
     "metadata": {
      "needs_background": "light"
     },
     "output_type": "display_data"
    }
   ],
   "source": [
    "plt.hist([n for n in recon_sizes if n > 1])\n",
    "plt.title(\"Size of Reconstructed Heritable Events\")\n",
    "plt.show\n",
    "print(statistics.median([n for n in recon_sizes if n > 1]), statistics.mean([n for n in recon_sizes if n > 1]))\n",
    "len([n for n in heritable_sizes if n > 1])"
   ]
  },
  {
   "cell_type": "code",
   "execution_count": null,
   "metadata": {},
   "outputs": [],
   "source": [
    "plt.hist(precision)\n",
    "plt.title(\"Precision\")\n",
    "plt.show\n",
    "print(statistics.median(precision))"
   ]
  },
  {
   "cell_type": "code",
   "execution_count": 913,
   "metadata": {},
   "outputs": [
    {
     "name": "stdout",
     "output_type": "stream",
     "text": [
      "0.56\n"
     ]
    },
    {
     "data": {
      "image/png": "[encoded data removed]",
      "text/plain": [
       "<Figure size 432x288 with 1 Axes>"
      ]
     },
     "metadata": {
      "needs_background": "light"
     },
     "output_type": "display_data"
    }
   ],
   "source": [
    "plt.hist(recall)\n",
    "plt.title(\"Recall\")\n",
    "plt.show\n",
    "print(statistics.median(recall))"
   ]
  },
  {
   "cell_type": "code",
   "execution_count": 914,
   "metadata": {},
   "outputs": [
    {
     "name": "stdout",
     "output_type": "stream",
     "text": [
      "0.2857142857142857\n"
     ]
    },
    {
     "data": {
      "image/png": "[encoded data removed]",
      "text/plain": [
       "<Figure size 432x288 with 1 Axes>"
      ]
     },
     "metadata": {
      "needs_background": "light"
     },
     "output_type": "display_data"
    }
   ],
   "source": [
    "plt.hist(ks_p)\n",
    "plt.title(\"KS P-values\")\n",
    "plt.show\n",
    "print(statistics.median(ks_p))"
   ]
  },
  {
   "cell_type": "code",
   "execution_count": 915,
   "metadata": {},
   "outputs": [
    {
     "data": {
      "text/plain": [
       "0.15449714705862638"
      ]
     },
     "execution_count": 915,
     "metadata": {},
     "output_type": "execute_result"
    }
   ],
   "source": [
    "from sklearn.linear_model import LinearRegression\n",
    "model = LinearRegression()\n",
    "model.fit(np.array(silences).reshape(-1, 1), np.array(recall))\n",
    "r_sq = model.score(np.array(silences).reshape(-1, 1), np.array(recall))\n",
    "r_sq"
   ]
  },
  {
   "cell_type": "code",
   "execution_count": 916,
   "metadata": {},
   "outputs": [
    {
     "name": "stdout",
     "output_type": "stream",
     "text": [
      "0.42330288173778713\n"
     ]
    },
    {
     "data": {
      "image/png": "[encoded data removed]",
      "text/plain": [
       "<Figure size 432x288 with 1 Axes>"
      ]
     },
     "metadata": {
      "needs_background": "light"
     },
     "output_type": "display_data"
    }
   ],
   "source": [
    "plt.scatter(np.array(silences).reshape(-1, 1), np.array(recall))\n",
    "plt.title(\"Silence Rate vs. Recall\")\n",
    "plt.show\n",
    "print(statistics.mean(ks_p))"
   ]
  },
  {
   "cell_type": "code",
   "execution_count": 454,
   "metadata": {},
   "outputs": [
    {
     "ename": "NameError",
     "evalue": "name 'num_cells' is not defined",
     "output_type": "error",
     "traceback": [
      "\u001b[0;31m---------------------------------------------------------------------------\u001b[0m",
      "\u001b[0;31mNameError\u001b[0m                                 Traceback (most recent call last)",
      "\u001b[0;32m<ipython-input-454-c8ec246445a1>\u001b[0m in \u001b[0;36m<module>\u001b[0;34m\u001b[0m\n\u001b[0;32m----> 1\u001b[0;31m \u001b[0mpath\u001b[0m \u001b[0;34m=\u001b[0m \u001b[0;34m\"/data/yosef2/users/richardz/projects/benchmarking/\"\u001b[0m \u001b[0;34m+\u001b[0m \u001b[0mstr\u001b[0m\u001b[0;34m(\u001b[0m\u001b[0mnum_cells\u001b[0m\u001b[0;34m)\u001b[0m \u001b[0;34m+\u001b[0m \u001b[0;34m\"htest/\"\u001b[0m\u001b[0;34m\u001b[0m\u001b[0;34m\u001b[0m\u001b[0m\n\u001b[0m\u001b[1;32m      2\u001b[0m \u001b[0;31m# path = \"/data/yosef2/users/mattjones/projects/metastasis/JQ19/5k/trees/\"\u001b[0m\u001b[0;34m\u001b[0m\u001b[0;34m\u001b[0m\u001b[0;34m\u001b[0m\u001b[0m\n\u001b[1;32m      3\u001b[0m \u001b[0;34m\u001b[0m\u001b[0m\n\u001b[1;32m      4\u001b[0m \u001b[0mdrop_perc_i\u001b[0m \u001b[0;34m=\u001b[0m \u001b[0;34m[\u001b[0m\u001b[0;34m]\u001b[0m\u001b[0;34m\u001b[0m\u001b[0;34m\u001b[0m\u001b[0m\n\u001b[1;32m      5\u001b[0m \u001b[0mstoch_perc_i\u001b[0m \u001b[0;34m=\u001b[0m \u001b[0;34m[\u001b[0m\u001b[0;34m]\u001b[0m\u001b[0;34m\u001b[0m\u001b[0;34m\u001b[0m\u001b[0m\n",
      "\u001b[0;31mNameError\u001b[0m: name 'num_cells' is not defined"
     ]
    }
   ],
   "source": [
    "path = \"/data/yosef2/users/richardz/projects/benchmarking/\" + str(num_cells) + \"htest/\"\n",
    "# path = \"/data/yosef2/users/mattjones/projects/metastasis/JQ19/5k/trees/\"\n",
    "\n",
    "drop_perc_i = []\n",
    "stoch_perc_i = []\n",
    "herit_perc_i = []\n",
    "mut_perc_i = []\n",
    "max_spc_i = []\n",
    "avg_spc_i = []\n",
    "size_i = []\n",
    "num_chars_i = []\n",
    "\n",
    "# for i in range(1, 101):\n",
    "for i in range(0, 50):\n",
    "    cm = pd.read_csv(path + 'dropout_cm' + str(i) + '.txt', sep = '\\t', index_col = 0)\n",
    "#     cm = pd.read_csv(path + 'lg' + str(i) + '/lg' + str(i) + '_character_matrix.txt', sep = '\\t', index_col = 0)\n",
    "    num_dropped = 0\n",
    "    num_mut = 0\n",
    "    num_dropped = (cm.values == '-').sum() + (cm.values == '*').sum()\n",
    "    stoch_perc_i.append((cm.values == '-').sum()/num_dropped)\n",
    "    herit_perc_i.append((cm.values == '*').sum()/num_dropped)\n",
    "    num_mut = cm.shape[0] * cm.shape[1] - num_dropped - (cm.values == '0').sum()\n",
    "    drop_perc_i.append(num_dropped/(cm.shape[0] * cm.shape[1]))\n",
    "    mut_perc_i.append(num_mut/(cm.shape[0] * cm.shape[1] - num_dropped))\n",
    "    \n",
    "    spc = bd.states_per_char(cm)\n",
    "    avg_spc_i.append(sum(spc)/len(spc))\n",
    "    max_spc_i.append(max(spc))\n",
    "    \n",
    "    size_i.append(cm.shape[0])\n",
    "    num_chars_i.append(cm.shape[1])"
   ]
  },
  {
   "cell_type": "code",
   "execution_count": 455,
   "metadata": {},
   "outputs": [
    {
     "ename": "NameError",
     "evalue": "name 'stoch_perc_i' is not defined",
     "output_type": "error",
     "traceback": [
      "\u001b[0;31m---------------------------------------------------------------------------\u001b[0m",
      "\u001b[0;31mNameError\u001b[0m                                 Traceback (most recent call last)",
      "\u001b[0;32m<ipython-input-455-4c097f923d1e>\u001b[0m in \u001b[0;36m<module>\u001b[0;34m\u001b[0m\n\u001b[0;32m----> 1\u001b[0;31m \u001b[0mplt\u001b[0m\u001b[0;34m.\u001b[0m\u001b[0mhist\u001b[0m\u001b[0;34m(\u001b[0m\u001b[0mstoch_perc_i\u001b[0m\u001b[0;34m)\u001b[0m\u001b[0;34m\u001b[0m\u001b[0;34m\u001b[0m\u001b[0m\n\u001b[0m\u001b[1;32m      2\u001b[0m \u001b[0mplt\u001b[0m\u001b[0;34m.\u001b[0m\u001b[0mtitle\u001b[0m\u001b[0;34m(\u001b[0m\u001b[0;34m\"Percentage of Dropouts that are Stochastic for Trees of Size 400\"\u001b[0m\u001b[0;34m)\u001b[0m\u001b[0;34m\u001b[0m\u001b[0;34m\u001b[0m\u001b[0m\n\u001b[1;32m      3\u001b[0m \u001b[0mplt\u001b[0m\u001b[0;34m.\u001b[0m\u001b[0mshow\u001b[0m\u001b[0;34m\u001b[0m\u001b[0;34m\u001b[0m\u001b[0m\n",
      "\u001b[0;31mNameError\u001b[0m: name 'stoch_perc_i' is not defined"
     ]
    }
   ],
   "source": [
    "plt.hist(stoch_perc_i)\n",
    "plt.title(\"Percentage of Dropouts that are Stochastic for Trees of Size 400\")\n",
    "plt.show"
   ]
  },
  {
   "cell_type": "code",
   "execution_count": 456,
   "metadata": {},
   "outputs": [
    {
     "ename": "NameError",
     "evalue": "name 'herit_perc_i' is not defined",
     "output_type": "error",
     "traceback": [
      "\u001b[0;31m---------------------------------------------------------------------------\u001b[0m",
      "\u001b[0;31mNameError\u001b[0m                                 Traceback (most recent call last)",
      "\u001b[0;32m<ipython-input-456-a23fc19fcf81>\u001b[0m in \u001b[0;36m<module>\u001b[0;34m\u001b[0m\n\u001b[0;32m----> 1\u001b[0;31m \u001b[0mprint\u001b[0m\u001b[0;34m(\u001b[0m\u001b[0mstatistics\u001b[0m\u001b[0;34m.\u001b[0m\u001b[0mmean\u001b[0m\u001b[0;34m(\u001b[0m\u001b[0mherit_perc_i\u001b[0m\u001b[0;34m)\u001b[0m\u001b[0;34m)\u001b[0m\u001b[0;34m\u001b[0m\u001b[0;34m\u001b[0m\u001b[0m\n\u001b[0m\u001b[1;32m      2\u001b[0m \u001b[0mprint\u001b[0m\u001b[0;34m(\u001b[0m\u001b[0mstatistics\u001b[0m\u001b[0;34m.\u001b[0m\u001b[0mmean\u001b[0m\u001b[0;34m(\u001b[0m\u001b[0mdrop_perc_i\u001b[0m\u001b[0;34m)\u001b[0m\u001b[0;34m)\u001b[0m\u001b[0;34m\u001b[0m\u001b[0;34m\u001b[0m\u001b[0m\n",
      "\u001b[0;31mNameError\u001b[0m: name 'herit_perc_i' is not defined"
     ]
    }
   ],
   "source": [
    "print(statistics.mean(herit_perc_i))\n",
    "print(statistics.mean(drop_perc_i))"
   ]
  },
  {
   "cell_type": "code",
   "execution_count": 617,
   "metadata": {},
   "outputs": [
    {
     "ename": "NameError",
     "evalue": "name 'vals' is not defined",
     "output_type": "error",
     "traceback": [
      "\u001b[0;31m---------------------------------------------------------------------------\u001b[0m",
      "\u001b[0;31mNameError\u001b[0m                                 Traceback (most recent call last)",
      "\u001b[0;32m<ipython-input-617-44f33757dce3>\u001b[0m in \u001b[0;36m<module>\u001b[0;34m\u001b[0m\n\u001b[0;32m----> 1\u001b[0;31m \u001b[0mvals\u001b[0m\u001b[0;34m\u001b[0m\u001b[0;34m\u001b[0m\u001b[0m\n\u001b[0m",
      "\u001b[0;31mNameError\u001b[0m: name 'vals' is not defined"
     ]
    }
   ],
   "source": [
    "vals"
   ]
  },
  {
   "cell_type": "code",
   "execution_count": 39,
   "metadata": {},
   "outputs": [
    {
     "name": "stdout",
     "output_type": "stream",
     "text": [
      "Ks_2sampResult(statistic=0.07298089171974523, pvalue=0.00010770705257756585)\n"
     ]
    }
   ],
   "source": [
    "def reject_outliers(data, m=2):\n",
    "    return [n for n in data if abs(n - np.mean(data)) < m * np.std(data)]\n",
    "\n",
    "for s_drop in range(4,5):\n",
    "\n",
    "    path = \"/data/yosef2/users/richardz/projects/heritable_prop_exp/400cells_exp_\" + str(s_drop) + \"/\"\n",
    "    cm_list = []\n",
    "    drop_perc = []\n",
    "\n",
    "    counter = 0\n",
    "    for num in range(0, 50):\n",
    "        cm = pd.read_csv(path + \"dropout_cm\" + str(num) + \".txt\", sep = '\\t', index_col = 0)\n",
    "        for i in range(cm.shape[1]):\n",
    "            val = ((cm.iloc[:,i] == '-').sum() + (cm.iloc[:,i] == '*').sum())/cm.shape[0]\n",
    "            if val <= 1:\n",
    "                cm_list.append(val)\n",
    "            else:\n",
    "                counter += 1\n",
    "\n",
    "        num_dropped = (cm.values == '-').sum() + (cm.values == '*').sum()\n",
    "        drop_perc.append(num_dropped/(cm.shape[0] * cm.shape[1]))\n",
    "\n",
    "    drop_perc = reject_outliers(drop_perc)\n",
    "\n",
    "    path = \"/data/yosef2/users/mattjones/projects/metastasis/JQ19/5k/trees/\"\n",
    "\n",
    "    cm_list_g = []\n",
    "    drop_perc_g = []\n",
    "    accepted = 0\n",
    "\n",
    "    for i in range(1, 101):\n",
    "        cm = pd.read_csv(path + 'lg' + str(i) + '/lg' + str(i) + '_character_matrix.txt', sep = '\\t', index_col = 0)\n",
    "\n",
    "        num_dropped = (cm.values == '-').sum() + (cm.values == '*').sum()\n",
    "        if num_dropped/(cm.shape[0] * cm.shape[1]) > min(drop_perc) and num_dropped/(cm.shape[0] * cm.shape[1]) < max(drop_perc):\n",
    "            accepted += 1\n",
    "            for i in range(cm.shape[1]):\n",
    "                cm_list_g.append((cm.iloc[:,i] == '-').sum()/cm.shape[0])\n",
    "                drop_perc_g.append(num_dropped/(cm.shape[0] * cm.shape[1]))\n",
    "\n",
    "    print(stats.ks_2samp(cm_list, cm_list_g, alternative = 'two-sided'))\n",
    "\n",
    "# cm_list_f = []\n",
    "# drop_perc_f = []\n",
    "# accepted = 0\n",
    "\n",
    "# for i in range(1, 101):\n",
    "#     cm = pd.read_csv(path + 'lg' + str(i) + '/lg' + str(i) + '_character_matrix.txt', sep = '\\t', index_col = 0)\n",
    "    \n",
    "#     num_dropped = (cm.values == '-').sum() + (cm.values == '*').sum()\n",
    "#     if num_dropped/(cm.shape[0] * cm.shape[1]) > 0 and num_dropped/(cm.shape[0] * cm.shape[1]) < 1:\n",
    "#         accepted += 1\n",
    "#         for i in range(cm.shape[1]):\n",
    "#             cm_list_f.append((cm.iloc[:,i] == '-').sum()/cm.shape[0])\n",
    "#             drop_perc_f.append(num_dropped/(cm.shape[0] * cm.shape[1]))\n",
    "    "
   ]
  },
  {
   "cell_type": "code",
   "execution_count": 40,
   "metadata": {},
   "outputs": [
    {
     "data": {
      "text/plain": [
       "<function matplotlib.pyplot.show(*args, **kw)>"
      ]
     },
     "execution_count": 40,
     "metadata": {},
     "output_type": "execute_result"
    },
    {
     "data": {
      "image/png": "[encoded data removed]",
      "text/plain": [
       "<Figure size 432x288 with 1 Axes>"
      ]
     },
     "metadata": {
      "needs_background": "light"
     },
     "output_type": "display_data"
    }
   ],
   "source": [
    "plt.hist(drop_perc)\n",
    "plt.title(\"Simulated Data Percentage of Dropouts\")\n",
    "plt.show"
   ]
  },
  {
   "cell_type": "code",
   "execution_count": 41,
   "metadata": {},
   "outputs": [
    {
     "data": {
      "text/plain": [
       "<function matplotlib.pyplot.show(*args, **kw)>"
      ]
     },
     "execution_count": 41,
     "metadata": {},
     "output_type": "execute_result"
    },
    {
     "data": {
      "image/png": "[encoded data removed]",
      "text/plain": [
       "<Figure size 432x288 with 1 Axes>"
      ]
     },
     "metadata": {
      "needs_background": "light"
     },
     "output_type": "display_data"
    }
   ],
   "source": [
    "plt.hist(drop_perc_g)\n",
    "plt.title(\"Metastasis Data Percentage of Dropouts\")\n",
    "plt.show"
   ]
  },
  {
   "cell_type": "code",
   "execution_count": 42,
   "metadata": {},
   "outputs": [
    {
     "data": {
      "text/plain": [
       "<function matplotlib.pyplot.show(*args, **kw)>"
      ]
     },
     "execution_count": 42,
     "metadata": {},
     "output_type": "execute_result"
    },
    {
     "data": {
      "image/png": "[encoded data removed]",
      "text/plain": [
       "<Figure size 432x288 with 1 Axes>"
      ]
     },
     "metadata": {
      "needs_background": "light"
     },
     "output_type": "display_data"
    }
   ],
   "source": [
    "plt.hist(cm_list_g)\n",
    "plt.title(\"Simulated Data Dist Size of Heritable Events\")\n",
    "plt.show\n",
    "plt.hist(cm_list)\n",
    "plt.title(\"Metastasis Data Dist Size of Heritable Events\")\n",
    "plt.show"
   ]
  },
  {
   "cell_type": "code",
   "execution_count": 43,
   "metadata": {},
   "outputs": [
    {
     "data": {
      "text/plain": [
       "Ks_2sampResult(statistic=0.07298089171974523, pvalue=0.00010770705257756585)"
      ]
     },
     "execution_count": 43,
     "metadata": {},
     "output_type": "execute_result"
    }
   ],
   "source": [
    "stats.ks_2samp(cm_list, cm_list_g, alternative = 'two-sided')"
   ]
  },
  {
   "cell_type": "code",
   "execution_count": 44,
   "metadata": {},
   "outputs": [
    {
     "data": {
      "text/plain": [
       "<function matplotlib.pyplot.show(*args, **kw)>"
      ]
     },
     "execution_count": 44,
     "metadata": {},
     "output_type": "execute_result"
    },
    {
     "data": {
      "image/png": "[encoded data removed]",
      "text/plain": [
       "<Figure size 432x288 with 1 Axes>"
      ]
     },
     "metadata": {
      "needs_background": "light"
     },
     "output_type": "display_data"
    }
   ],
   "source": [
    "plt.hist(cm_list_g, 50, density=True, histtype='step', cumulative=True)\n",
    "plt.hist(cm_list, 50, density=True, histtype='step', cumulative=True)\n",
    "plt.show"
   ]
  },
  {
   "cell_type": "code",
   "execution_count": null,
   "metadata": {},
   "outputs": [],
   "source": []
  }
 ],
 "metadata": {
  "kernelspec": {
   "display_name": "Python 3",
   "language": "python",
   "name": "python3"
  },
  "language_info": {
   "codemirror_mode": {
    "name": "ipython",
    "version": 3
   },
   "file_extension": ".py",
   "mimetype": "text/x-python",
   "name": "python",
   "nbconvert_exporter": "python",
   "pygments_lexer": "ipython3",
   "version": "3.6.10"
  }
 },
 "nbformat": 4,
 "nbformat_minor": 2
}
