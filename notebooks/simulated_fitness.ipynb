{
 "cells": [
  {
   "cell_type": "code",
   "execution_count": 26,
   "metadata": {},
   "outputs": [],
   "source": [
    "import networkx as nx\n",
    "import numpy as np\n",
    "import random\n",
    "from tqdm import tqdm\n",
    "import sys\n",
    "import seaborn as sns\n",
    "import matplotlib.pyplot as plt \n",
    "\n",
    "from cassiopeia.TreeSolver.simulation_tools.simulation_utils import node_to_string, get_leaves_of_tree\n",
    "from cassiopeia.TreeSolver.Node import Node\n",
    "from cassiopeia.TreeSolver.Cassiopeia_Tree import Cassiopeia_Tree\n",
    "\n",
    "from cassiopeia.TreeSolver.simulation_tools import dataset_generation as data_gen\n",
    "\n",
    "from cassiopeia.TreeSolver import utilities as util\n",
    "import pandas as pd \n",
    "\n",
    "sys.path.append(\"/data/yosef2/users/mattjones/projects/kptc/jungle/\") # specify path to jungle\n",
    "import jungle as jg"
   ]
  },
  {
   "cell_type": "code",
   "execution_count": 2,
   "metadata": {},
   "outputs": [],
   "source": [
    "def compute_priors(C, S, p, mean=0.01, disp=0.1, empirical = np.array([])):\n",
    "    \n",
    "    sp = {}\n",
    "    prior_probabilities = {}\n",
    "    for i in range(0, C):\n",
    "        if len(empirical) > 0:\n",
    "            sampled_probabilities = sorted(empirical)\n",
    "        else:\n",
    "            sampled_probabilities = sorted([np.random.negative_binomial(mean,disp) for _ in range(1,S+1)])\n",
    "        mut_rate = p\n",
    "        prior_probabilities[i] = {'0': (1-mut_rate)}\n",
    "        total = np.sum(sampled_probabilities)\n",
    "\n",
    "        sampled_probabilities = list(map(lambda x: x / (1.0 * total), sampled_probabilities))\n",
    "            \n",
    "        for j in range(1, S+1):\n",
    "            prior_probabilities[i][str(j)] = (mut_rate)*sampled_probabilities[j-1]\n",
    "\n",
    "    return prior_probabilities, sp \n"
   ]
  },
  {
   "cell_type": "code",
   "execution_count": 33,
   "metadata": {},
   "outputs": [],
   "source": [
    "def phylo_forward_sim(\n",
    "    mutation_prob_map,\n",
    "    variable_dropout_prob_map,\n",
    "    characters=10,\n",
    "    dropout=True, # perform dropout on cells \n",
    "    min_alpha = 0.0, # minimum baseline mutation rate\n",
    "    U = lambda: np.random.exponential(1, 1),\n",
    "    depth = 11, # depth of tree, or number of time steps\n",
    "    beta = 0, # extinction rate,\n",
    "    mu = 0.05, # mutation rate \n",
    "):\n",
    "\n",
    "    alpha = min_alpha+((1-min_alpha)*np.random.random()) # probability that cell will double per time-step (between 0.75 and 1.0)\n",
    "\n",
    "\n",
    "    network = nx.DiGraph()\n",
    "    current_depth = [Node('state-node', character_vec=[\"0\" for _ in range(0, characters)])]\n",
    "    \n",
    "    network.add_node(current_depth[0])\n",
    "    network.node[current_depth[0]][\"fitness\"] = 1.0\n",
    "    uniq = 1\n",
    "\n",
    "    for i in tqdm(range(0, depth), desc=\"Generating cells at each level in tree\"):\n",
    "        temp_current_depth = []\n",
    "        \n",
    "        fs = [network.nodes[n]['fitness'] for n in current_depth]\n",
    "        norm = np.max(fs)\n",
    "        \n",
    "        for node in current_depth:\n",
    "            \n",
    "            fitness = network.node[node]['fitness']\n",
    "            \n",
    "            # cell death\n",
    "            if np.random.random() < beta:\n",
    "                \n",
    "                anc = list(network.predecessors(node))[0]\n",
    "                network.remove_node(node)\n",
    "                while network.out_degree(anc) == 0:\n",
    "                    node = anc\n",
    "                    anc = list(network.predecessors(node))[0]\n",
    "                    network.remove_node(node)\n",
    "                \n",
    "            else:\n",
    "                if np.random.random() < alpha * (fitness / norm):\n",
    "                    for _ in range(0, 2):\n",
    "\n",
    "                        # simulate indel information for node\n",
    "                        child_node = data_gen.simulate_mutation(node.char_vec, mutation_prob_map)\n",
    "                        #child_node = []\n",
    "                        if i == depth - 1:\n",
    "                            child_node = data_gen.simulate_dropout(child_node, variable_dropout_prob_map)\n",
    "\n",
    "                        child_node = Node('state-node', character_vec = child_node)\n",
    "\n",
    "                        temp_current_depth.append(child_node)\n",
    "                        network.add_edge(\n",
    "                            node, child_node\n",
    "                        )\n",
    "                        \n",
    "                        if i == depth - 1:\n",
    "                            network.node[child_node]['fitness'] = fitness\n",
    "                        else:\n",
    "                            # adding a mutation with some selection coefficient\n",
    "                            if np.random.random() < mu:\n",
    "\n",
    "                                s = max(1e-20, U()[0])\n",
    "                                _fitness = fitness * s\n",
    "                                network.node[child_node]['fitness'] = _fitness\n",
    "\n",
    "                            else: \n",
    "                                network.node[child_node]['fitness'] = fitness\n",
    "\n",
    "                            uniq += 1\n",
    "                else:\n",
    "\n",
    "                    _new_charstring = data_gen.simulate_mutation(node.char_vec, mutation_prob_map)\n",
    "                    if i == depth - 1:\n",
    "                        _new_charstring = data_gen.simulate_dropout(_new_charstring, variable_dropout_prob_map)\n",
    "                    # _new_charstring = []\n",
    "                    node.char_string = \"|\".join(_new_charstring)\n",
    "                    node.character_vec = _new_charstring \n",
    "\n",
    "                    temp_current_depth.append(node)\n",
    "                \n",
    "        current_depth = temp_current_depth\n",
    "\n",
    "    # rename nodes for easy lookup later \n",
    "    i = 0\n",
    "    for n in network.nodes:\n",
    "        n.name = 'StateNode' + str(i)\n",
    "        i += 1\n",
    "\n",
    "    tree = Cassiopeia_Tree(\"simulated\", network=network)\n",
    "    return tree\n",
    "\n",
    "def collapse_tree(tree, root):\n",
    "    \n",
    "    to_collapse = []\n",
    "    for child in tree.successors(root):\n",
    "        if not tree.out_degree(child) == 0:\n",
    "            collapse_tree(tree, child)\n",
    "            if child.char_string == root.char_string:\n",
    "                to_collapse.append(child)\n",
    "                \n",
    "    for child in to_collapse:\n",
    "        tree.add_edges_from([(root, sd) for sd in tree.successors(child)])\n",
    "        tree.remove_node(child)\n",
    "        "
   ]
  },
  {
   "cell_type": "code",
   "execution_count": 54,
   "metadata": {},
   "outputs": [],
   "source": [
    "### no_mut_rate = 0.985\n",
    "mut_rate = 0.01\n",
    "number_of_states = 40\n",
    "dropout = 0.17\n",
    "depth = 8\n",
    "number_of_characters = 40\n",
    "\n",
    "pp, sp = compute_priors(number_of_characters, number_of_states, mut_rate, mean=1, disp=0.1)"
   ]
  },
  {
   "cell_type": "code",
   "execution_count": 61,
   "metadata": {},
   "outputs": [],
   "source": [
    "N_clones = 100 #number of clones to simulate\n",
    "mu = 0.01 # max mutation rate for fitness simulations\n",
    "min_alpha = 0.2 # min rate of doubling\n",
    "beta = 0.1 #extinction rate"
   ]
  },
  {
   "cell_type": "code",
   "execution_count": 62,
   "metadata": {},
   "outputs": [
    {
     "name": "stderr",
     "output_type": "stream",
     "text": [
      "Generating cells at each level in tree: 100%|██████████| 100/100 [01:59<00:00,  1.19s/it]\n"
     ]
    }
   ],
   "source": [
    "tree = phylo_forward_sim(\n",
    "    pp,\n",
    "    [dropout] * number_of_characters,\n",
    "    characters=number_of_characters,\n",
    "    dropout=True, # perform dropout on cells \n",
    "    min_alpha = min_alpha, # minimum baseline mutation rate\n",
    "    U = lambda: 1.0 + np.random.exponential(1, 1),\n",
    "    depth = 100, # depth of tree, or number of time steps\n",
    "    beta = beta, # extinction rate,\n",
    "    mu = 0.01, # mutation rate\n",
    ")"
   ]
  },
  {
   "cell_type": "code",
   "execution_count": 63,
   "metadata": {},
   "outputs": [],
   "source": [
    "nw = util.convert_network_to_newick_format(tree.network)\n",
    "with open('test_sim.nw', 'w') as f:\n",
    "    f.write(nw)\n",
    "\n",
    "_tree = tree.network.copy()\n",
    "root = [n for n in _tree if _tree.in_degree(n) == 0][0]\n",
    "collapse_tree(_tree, root)\n",
    "\n",
    "\n",
    "redges = 0\n",
    "for e in _tree.edges():\n",
    "    if e[0].char_string == e[1].char_string:\n",
    "        redges += 1\n",
    "        \n",
    "nw = util.convert_network_to_newick_format(_tree)\n",
    "with open('test_sim.collapsed.nw', 'w') as f:\n",
    "    f.write(nw)"
   ]
  },
  {
   "cell_type": "code",
   "execution_count": 64,
   "metadata": {},
   "outputs": [
    {
     "name": "stdout",
     "output_type": "stream",
     "text": [
      "1 trees\n",
      "Size of trees:\n",
      "1236 leaves\n",
      "node_ranking: inferring ancestral fitness... \n",
      "done in 57.21s\n",
      "node_ranking: calculating alternative rankings...\n",
      "done in 2.32s\n"
     ]
    },
    {
     "data": {
      "image/png": "[encoded data removed]",
      "text/plain": [
       "<Figure size 432x288 with 1 Axes>"
      ]
     },
     "metadata": {
      "needs_background": "light"
     },
     "output_type": "display_data"
    },
    {
     "data": {
      "image/png": "[encoded data removed]",
      "text/plain": [
       "<Figure size 432x288 with 1 Axes>"
      ]
     },
     "metadata": {
      "needs_background": "light"
     },
     "output_type": "display_data"
    }
   ],
   "source": [
    "net = _tree\n",
    "\n",
    "nw = util.convert_network_to_newick_format(net)\n",
    "\n",
    "infiles = [nw]\n",
    "F_empirical = jg.Forest.from_newick(infiles)\n",
    "\n",
    "print(str(len(F_empirical)) + \" trees\")\n",
    "\n",
    "print(\"Size of trees:\")\n",
    "for t in F_empirical.trees:\n",
    "    print(str(len(t)) + \" leaves\")\n",
    "    \n",
    "names_trees = [\"sim_net\"]\n",
    "\n",
    "F_empirical.annotate_standard_node_features()\n",
    "F_empirical.infer_fitness(params={})\n",
    "\n",
    "processed_tree = F_empirical.trees[0]\n",
    "inf_fit = {}\n",
    "for node in processed_tree.T.traverse():\n",
    "    if node.is_leaf():\n",
    "        inf_fit[node.name] = node.mean_fitness\n",
    "        \n",
    "leaves = [n for n in net if net.out_degree(n) == 0]\n",
    "fs = dict(zip([n.name for n in net], [net.nodes[n]['fitness'] for n in net]))\n",
    "\n",
    "sns.kdeplot([n for n in fs.values()], label = 'groundtruth')\n",
    "plt.xlabel('Ground Truth Fitnesses')\n",
    "plt.show()\n",
    "\n",
    "sns.scatterplot([inf_fit[n.name] for n in leaves], [fs[n.name] for n in leaves])\n",
    "plt.xlabel('Inferred Fitness')\n",
    "plt.ylabel('Ground Truth Fitness')\n",
    "plt.show()\n"
   ]
  },
  {
   "cell_type": "code",
   "execution_count": 52,
   "metadata": {},
   "outputs": [],
   "source": [
    "with open('test_sim.nw', 'w') as f:\n",
    "    f.write(nw)\n",
    "    \n",
    "test_sim_df = pd.DataFrame.from_dict(inf_fit, columns = ['Inferred'], orient='index')\n",
    "test_sim_df['GroundTruth'] = test_sim_df.apply(lambda x: fs[x.name], axis=1)\n",
    "test_sim_df['NormGroundTruth'] = test_sim_df.apply(lambda x: x.GroundTruth / np.max(test_sim_df['GroundTruth'].values), axis=1)\n",
    "test_sim_df.to_csv('test_sim_fitnesses.txt', sep='\\t')"
   ]
  },
  {
   "cell_type": "code",
   "execution_count": 53,
   "metadata": {},
   "outputs": [
    {
     "data": {
      "text/html": [
       "<div>\n",
       "<style scoped>\n",
       "    .dataframe tbody tr th:only-of-type {\n",
       "        vertical-align: middle;\n",
       "    }\n",
       "\n",
       "    .dataframe tbody tr th {\n",
       "        vertical-align: top;\n",
       "    }\n",
       "\n",
       "    .dataframe thead th {\n",
       "        text-align: right;\n",
       "    }\n",
       "</style>\n",
       "<table border=\"1\" class=\"dataframe\">\n",
       "  <thead>\n",
       "    <tr style=\"text-align: right;\">\n",
       "      <th></th>\n",
       "      <th>Inferred</th>\n",
       "      <th>GroundTruth</th>\n",
       "      <th>NormGroundTruth</th>\n",
       "    </tr>\n",
       "  </thead>\n",
       "  <tbody>\n",
       "    <tr>\n",
       "      <th>StateNode83</th>\n",
       "      <td>0.634073</td>\n",
       "      <td>35.587014</td>\n",
       "      <td>0.000072</td>\n",
       "    </tr>\n",
       "    <tr>\n",
       "      <th>StateNode75</th>\n",
       "      <td>0.136646</td>\n",
       "      <td>35.587014</td>\n",
       "      <td>0.000072</td>\n",
       "    </tr>\n",
       "    <tr>\n",
       "      <th>StateNode186</th>\n",
       "      <td>0.856371</td>\n",
       "      <td>82.223875</td>\n",
       "      <td>0.000167</td>\n",
       "    </tr>\n",
       "    <tr>\n",
       "      <th>StateNode187</th>\n",
       "      <td>0.856371</td>\n",
       "      <td>82.223875</td>\n",
       "      <td>0.000167</td>\n",
       "    </tr>\n",
       "    <tr>\n",
       "      <th>StateNode85</th>\n",
       "      <td>0.029315</td>\n",
       "      <td>35.587014</td>\n",
       "      <td>0.000072</td>\n",
       "    </tr>\n",
       "  </tbody>\n",
       "</table>\n",
       "</div>"
      ],
      "text/plain": [
       "              Inferred  GroundTruth  NormGroundTruth\n",
       "StateNode83   0.634073    35.587014         0.000072\n",
       "StateNode75   0.136646    35.587014         0.000072\n",
       "StateNode186  0.856371    82.223875         0.000167\n",
       "StateNode187  0.856371    82.223875         0.000167\n",
       "StateNode85   0.029315    35.587014         0.000072"
      ]
     },
     "execution_count": 53,
     "metadata": {},
     "output_type": "execute_result"
    }
   ],
   "source": [
    "test_sim_df.head(5)"
   ]
  },
  {
   "cell_type": "code",
   "execution_count": null,
   "metadata": {},
   "outputs": [],
   "source": []
  }
 ],
 "metadata": {
  "kernelspec": {
   "display_name": "Python 3",
   "language": "python",
   "name": "python3"
  },
  "language_info": {
   "codemirror_mode": {
    "name": "ipython",
    "version": 3
   },
   "file_extension": ".py",
   "mimetype": "text/x-python",
   "name": "python",
   "nbconvert_exporter": "python",
   "pygments_lexer": "ipython3",
   "version": "3.6.9"
  }
 },
 "nbformat": 4,
 "nbformat_minor": 4
}
