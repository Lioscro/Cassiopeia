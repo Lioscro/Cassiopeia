{
 "cells": [
  {
   "cell_type": "code",
   "execution_count": 1,
   "metadata": {},
   "outputs": [],
   "source": [
    "import sys \n",
    "import networkx as nx\n",
    "import pandas as pd\n",
    "import numpy as np\n",
    "import pickle as pic\n",
    "import scipy.stats as stats\n",
    "import random\n",
    "\n",
    "import cassiopeia.TreeSolver.simulation_tools.simulation_utils as sim_utils\n",
    "import cassiopeia.TreeSolver.simulation_tools.Yule_utils as Yule\n",
    "import cassiopeia.TreeSolver.simulation_tools.dataset_generation as data_gen\n",
    "from cassiopeia.TreeSolver.Node import Node\n",
    "from cassiopeia.TreeSolver.Cassiopeia_Tree import Cassiopeia_Tree\n",
    "\n",
    "from tqdm import tqdm_notebook\n",
    "import matplotlib.pyplot as plt\n",
    "\n",
    "import subprocess\n",
    "\n",
    "from Bio import Phylo\n",
    "\n",
    "#import seaborn as sns\n",
    "import os"
   ]
  },
  {
   "cell_type": "code",
   "execution_count": 2,
   "metadata": {},
   "outputs": [],
   "source": [
    "def maxDepth(network, node): #tree height\n",
    "    if network.out_degree(node) == 0:\n",
    "        return 1\n",
    "    else:\n",
    "        depths = []\n",
    "        for i in network.successors(node):\n",
    "            depths.append(maxDepth(network, i))\n",
    "        return max(depths) + 1\n",
    "    \n",
    "def all_depths(network):\n",
    "    root = [n for n in network if network.in_degree(n) == 0][0]\n",
    "    depths = all_depths_helper(network, root)\n",
    "    return depths, sum(depths)/len(depths)\n",
    "    \n",
    "def all_depths_helper(network, node):\n",
    "    if (network.out_degree(node) == 0):\n",
    "        return [1]\n",
    "    else:\n",
    "        depths = []\n",
    "        for i in network.successors(node):\n",
    "            depths.extend(all_depths_helper(network, i))\n",
    "        return [x + 1 for x in depths]\n",
    "    \n",
    "def diameter(network): #tree diameter\n",
    "    root = [n for n in network if network.in_degree(n) == 0][0]\n",
    "    if (network.out_degree(root) == 0):  \n",
    "        return 1\n",
    "    ans = [-1]\n",
    "    height_of_tree = maxDepth_help(network, root, ans)  \n",
    "    return ans[0]\n",
    "\n",
    "def maxDepth_help(network, node, ans): #tree_height helper for tree diameter\n",
    "    if network.out_degree(node) == 0:\n",
    "        ans[0] = max(ans[0], 1)\n",
    "        return 1\n",
    "    else:\n",
    "        depths = []\n",
    "        for i in network.successors(node):\n",
    "            depths.append(maxDepth_help(network, i, ans))\n",
    "        ans[0] = max(ans[0], 1 + sum(depths))  \n",
    "        return max(depths) + 1\n",
    "\n",
    "def degree_dist(network): #returns dist of out degrees, and average out degree\n",
    "    out_degrees = []\n",
    "    for i in network.nodes:\n",
    "        out_degrees.append(network.out_degree(i))\n",
    "    fullness = out_degrees.count(1)/len(out_degrees)\n",
    "    return out_degrees, sum(out_degrees)/len(out_degrees), fullness\n",
    "\n",
    "def degree_dist_leaves(network): #returns dist of leaf descendants of each node\n",
    "    root = [n for n in network if network.in_degree(n) == 0][0]\n",
    "    dist = []\n",
    "    leaves_dist_helper(network, root, dist)\n",
    "    return dist, sum(dist)/len(dist)\n",
    "    \n",
    "def leaves_dist_helper(network, node, dist):\n",
    "    if network.out_degree(node) == 0:\n",
    "        dist.append(0)\n",
    "        return 1\n",
    "    else:\n",
    "        total_leaves = 0\n",
    "        for i in network.successors(node):\n",
    "            total_leaves += leaves_dist_helper(network, i, dist)\n",
    "        dist.append(total_leaves)\n",
    "        return(total_leaves)\n",
    "    \n",
    "def get_character_matrix(nodes):\n",
    "    \n",
    "    char_arrays = []\n",
    "    for n in nodes:\n",
    "        chars = n.char_string.split(\"_\")[0].split(\"|\")\n",
    "        char_arrays.append(chars)\n",
    "        \n",
    "    return pd.DataFrame(char_arrays)\n",
    "\n",
    "def states_per_char(network):\n",
    "    leaves = [n for n in network if network.out_degree(n) == 0]\n",
    "    cm = get_character_matrix(leaves)\n",
    "    unique_chars = [0 for n in range(0, cm.shape[1])]\n",
    "    seen = [[] for n in range(0, cm.shape[1])]\n",
    "    for j in range(0,cm.shape[1]):\n",
    "        for i in range(0,cm.shape[0]):\n",
    "            val = cm.iloc[i, j]\n",
    "            if val != '0' and val != '-' and val not in seen[j]:\n",
    "                unique_chars[j] += 1\n",
    "                seen[j].append(cm.iloc[i, j])\n",
    "    return unique_chars\n",
    "\n",
    "def prune_directed_graph(network):\n",
    "    root = [a for a in network.nodes()][0]\n",
    "    if network.out_degree(root) > 0:\n",
    "        for node in network.successors(root):\n",
    "            directed_graph_helper(network, node, root)\n",
    "    return\n",
    "    \n",
    "def directed_graph_helper(network, node, parent):\n",
    "    network.remove_edge(node, parent)\n",
    "    for i in network.successors(node):\n",
    "            directed_graph_helper(network, i, node)\n",
    "    return\n",
    "\n",
    "def balance_dist(network):\n",
    "    root = [n for n in network if network.in_degree(n) == 0][0]\n",
    "    height_diffs = []\n",
    "    max_ = [0]\n",
    "    balance_dist_helper(network, root, height_diffs, max_)\n",
    "    return height_diffs, sum(height_diffs)/len(height_diffs), max_[0]\n",
    "\n",
    "def balance_dist_helper(network, node, ans, max_): #tree height helper for distribution of height differences\n",
    "    if network.out_degree(node) == 0:\n",
    "        return 1\n",
    "    else:\n",
    "        depths = []\n",
    "        for i in network.successors(node):\n",
    "            depths.append(balance_dist_helper(network, i, ans, max_))\n",
    "        if len(depths) > 1:\n",
    "            ans.append(max(depths) - min(depths))\n",
    "            max_[0] = max(max_[0], max(depths) - min(depths))\n",
    "        return max(depths) + 1\n",
    "    \n",
    "def get_KL_from_vectors(vec1, vec2):\n",
    "\n",
    "    all_dist = []\n",
    "    all_dist.extend(vec1)\n",
    "    all_dist.extend(vec2)\n",
    "    hist1 = [0] * (max(all_dist) - min(all_dist) + 1)\n",
    "    hist2 = [0] * (max(all_dist) - min(all_dist) + 1)\n",
    "    for i in vec1:\n",
    "        hist1[i - min(all_dist)] += 1\n",
    "    for i in vec2:\n",
    "        hist2[i - min(all_dist)] += 1\n",
    "    dist1 = [x/sum(hist1) for x in hist1]\n",
    "    dist2 = [x/sum(hist2) for x in hist2]\n",
    "\n",
    "    return s_d.jensenshannon(dist1, dist2)\n",
    "\n",
    "def frange(start, stop, step):\n",
    "    res, n = start, 1\n",
    "\n",
    "    while res < stop:\n",
    "        yield res\n",
    "        res = start + n * step\n",
    "        n += 1"
   ]
  },
  {
   "cell_type": "code",
   "execution_count": 3,
   "metadata": {},
   "outputs": [],
   "source": [
    "def get_character_matrix(nodes):\n",
    "    \n",
    "    char_arrays = []\n",
    "    for n in nodes:\n",
    "        chars = n.char_string.split(\"_\")[0].split(\"|\")\n",
    "        char_arrays.append(chars)\n",
    "        \n",
    "    return pd.DataFrame(char_arrays)\n",
    "\n",
    "def compute_priors(C, S, p, mean=0.01, disp=0.1, skew_factor = 0.05, num_skew=1, empirical = np.array([]), mixture = 0):\n",
    "    \n",
    "    sp = {}\n",
    "    prior_probabilities = {}\n",
    "    for i in range(0, C):\n",
    "        if len(empirical) > 0:\n",
    "            sampled_probabilities = sorted(empirical)\n",
    "        else:\n",
    "            sampled_probabilities = sorted([np.random.negative_binomial(mean,disp) for _ in range(1,S+1)])\n",
    "        s = C % num_skew\n",
    "        mut_rate = p * (1 + num_skew * skew_factor)\n",
    "        prior_probabilities[i] = {'0': (1-mut_rate)}\n",
    "        total = np.sum(sampled_probabilities)\n",
    "\n",
    "        sampled_probabilities = list(map(lambda x: x / (1.0 * total), sampled_probabilities))\n",
    "        \n",
    "        if mixture > 0: \n",
    "            for s in range(len(sampled_probabilities)):\n",
    "                if np.random.uniform() <= mixture:\n",
    "                    sampled_probabilities[s] = np.random.uniform()\n",
    "            \n",
    "            sp[i] = sampled_probabilities \n",
    "            total = np.sum(sampled_probabilities)\n",
    "            sampled_probabilities = list(map(lambda x: x / (1.0 * total), sampled_probabilities))\n",
    "            \n",
    "            \n",
    "        for j in range(1, S+1):\n",
    "            prior_probabilities[i][str(j)] = (mut_rate)*sampled_probabilities[j-1]\n",
    "\n",
    "    return prior_probabilities, sp\n",
    "\n",
    "def count_all_dropouts_leaves(leaves):\n",
    "    count = 0\n",
    "    for node in leaves:\n",
    "        sample = node.get_character_string().split('|')\n",
    "        for i in sample:\n",
    "            if (i == '-' or i == '*'):\n",
    "                count += 1\n",
    "    return count"
   ]
  },
  {
   "cell_type": "code",
   "execution_count": 4,
   "metadata": {},
   "outputs": [],
   "source": [
    "def overlay_mutation(network, mutation_prob_map, basal_rate, cassette_size):\n",
    "    root = [n for n in network if network.in_degree(n) == 0][0]\n",
    "    mutation_cache = {}\n",
    "    \n",
    "    for i in mutation_prob_map: #edit the mutation map to only include the probs \n",
    "                                #of mutating to each state, given that character is chosen to mutate\n",
    "        sum = 0\n",
    "        mutation_prob_map[i].pop('0', None)\n",
    "        for j in mutation_prob_map[i]:\n",
    "            sum += mutation_prob_map[i][j]\n",
    "        new_probs = {}\n",
    "        for j in mutation_prob_map[i]:\n",
    "            new_probs[j] = mutation_prob_map[i][j]/sum\n",
    "        mutation_prob_map[i] = new_probs\n",
    "    \n",
    "    mutation_prob_map['basal_mut_rate'] = basal_rate\n",
    "    \n",
    "    mutation_helper(network, root, mutation_prob_map, mutation_cache, root.char_vec, [], cassette_size)\n",
    "\n",
    "def mutation_helper(network, node, mutation_prob_map, mutation_cache, curr_mutations, dropout_indices, cassette_size):\n",
    "    new_sample = curr_mutations.copy()\n",
    "    new_dropout_indices = dropout_indices.copy()\n",
    "    t = network.nodes[node]['lifespan']\n",
    "    if t == 0:\n",
    "        node.char_vec = new_sample\n",
    "        node.char_string = '|'.join([str(char) for char in new_sample])\n",
    "        network.nodes[node]['dropout'] = new_dropout_indices\n",
    "        return\n",
    "    mut_rate = mutation_prob_map['basal_mut_rate']\n",
    "    p = 0\n",
    "    \n",
    "    if len(mutation_cache) == 0:\n",
    "        mutation_cache[1] = mut_rate\n",
    "    \n",
    "    if t in mutation_cache:\n",
    "        p = mutation_cache[t]\n",
    "    else:\n",
    "        t_p = max(mutation_cache.keys())\n",
    "        p = mutation_cache[t_p]\n",
    "        for t_temp in range(t_p + 1, t + 1):\n",
    "            p += mut_rate * (1 - mut_rate) ** (t_temp - 1)\n",
    "            mutation_cache[t_temp] = p\n",
    "            \n",
    "    base_chars = []\n",
    "    for i in range(0, len(new_sample)):\n",
    "        if new_sample[i] == '0' and i not in new_dropout_indices:\n",
    "            base_chars.append(i)\n",
    "    \n",
    "    times = {}\n",
    "    draws = np.random.binomial(len(base_chars), p)\n",
    "    chosen_ind = np.random.choice(base_chars, draws)\n",
    "    for i in chosen_ind:\n",
    "        values, probabilities = zip(*mutation_prob_map[i].items())\n",
    "        new_character = np.random.choice(values, p=probabilities)\n",
    "        new_sample[i] = new_character\n",
    "        time = np.random.choice(range(1, t + 1))\n",
    "        for ti in range(time - 2, time + 3):\n",
    "            if ti >= 1 and ti <= t:\n",
    "                if ti in times:\n",
    "                    times[ti].append(i)\n",
    "                else:\n",
    "                    times[ti] = [i]\n",
    "    \n",
    "    for time in sorted(times.keys()):\n",
    "        if len(times[time]) > 1:\n",
    "            not_dropped = []\n",
    "            for i in times[time]:\n",
    "                if i not in new_dropout_indices:\n",
    "                    not_dropped.append(i)\n",
    "            for c in range(0, (len(new_sample)//cassette_size)):\n",
    "                cass_indices = []\n",
    "                for i in not_dropped:\n",
    "                    if (i >= c * cassette_size and i < (c + 1) * cassette_size):\n",
    "                        cass_indices.append(i)\n",
    "                if len(cass_indices) > 1:\n",
    "                    for e in range(min(cass_indices), max(cass_indices) + 1):\n",
    "                        new_dropout_indices.append(e)\n",
    "             \n",
    "    node.char_vec = new_sample\n",
    "    node.char_string = '|'.join([str(char) for char in new_sample])\n",
    "    network.nodes[node]['dropout'] = new_dropout_indices\n",
    "\n",
    "    if network.out_degree(node) > 0:\n",
    "        for i in network.successors(node):\n",
    "            mutation_helper(network, i, mutation_prob_map, mutation_cache, new_sample, new_dropout_indices, cassette_size)\n",
    "\n",
    "def overlay_heritable_dropout(network):\n",
    "    root = [n for n in network if network.in_degree(n) == 0][0]\n",
    "    h_dropout_helper(network, root)\n",
    "\n",
    "def h_dropout_helper(network, node):\n",
    "    new_sample = node.char_vec.copy()\n",
    "    for i in network.nodes[node]['dropout']:\n",
    "        new_sample[i] = '-'\n",
    "    node.char_vec = new_sample\n",
    "    node.char_string = '|'.join([str(char) for char in new_sample])\n",
    "\n",
    "    if network.out_degree(node) > 0:\n",
    "        for i in network.successors(node):\n",
    "            h_dropout_helper(network, i)\n",
    "            \n",
    "def add_stochastic_leaves(leaves, dropout_prob, cassette_size):\n",
    "    for node in leaves:\n",
    "        sample = node.char_vec.copy()\n",
    "        for i in range(0, len(sample)//cassette_size):\n",
    "            if random.uniform(0, 1) <= dropout_prob:\n",
    "                for j in range(i * cassette_size, (i + 1) * cassette_size):\n",
    "                    sample[j] = '-'\n",
    "        node.char_vec = sample\n",
    "        node.char_string = '|'.join([str(char) for char in sample])\n"
   ]
  },
  {
   "cell_type": "code",
   "execution_count": 147,
   "metadata": {},
   "outputs": [],
   "source": [
    "def phylo_forward_pass(\n",
    "    timesteps, \n",
    "    min_division_rate,\n",
    "    #U = lambda: np.random.exponential(1, 1),\n",
    "    fitness_rate,\n",
    "    epsilon,\n",
    "    cell_death,\n",
    "    cassette_size = 3,\n",
    "    cassette_number = 10\n",
    "):\n",
    "    \n",
    "    characters = cassette_size * cassette_number\n",
    "    \n",
    "#     division_rate = min_division_rate + np.random.exponential(1, 1) * (1 - min_division_rate) # probability that cell will double per time-step\n",
    "    division_rate = min_division_rate\n",
    "    \n",
    "    network = nx.DiGraph()\n",
    "    current_cells = [[['0' for _ in range(0, characters)], '0']]\n",
    "    \n",
    "    network.add_node(sim_utils.node_to_string(current_cells[0]))\n",
    "    network.nodes[sim_utils.node_to_string(current_cells[0])]['fitness'] = division_rate\n",
    "    network.nodes[sim_utils.node_to_string(current_cells[0])]['lifespan'] = 0\n",
    "    uniq = 1\n",
    "    \n",
    "    for t in range(0, timesteps + 1):\n",
    "        temp_current_cells = []\n",
    "#         if len(current_cells) == 0:\n",
    "#             print(\"all cells dead, terminating\")\n",
    "#             break\n",
    "#         current_fitnesses = [network.nodes[sim_utils.node_to_string(n)]['fitness'] for n in current_cells]\n",
    "#         norm = np.max(current_fitnesses)\n",
    "        \n",
    "        for node in current_cells:\n",
    "            fitness = network.nodes[sim_utils.node_to_string(node)]['fitness']\n",
    "            network.nodes[sim_utils.node_to_string(node)]['lifespan'] += 1\n",
    "            \n",
    "            if np.random.random() >= cell_death:\n",
    "                \n",
    "                if np.random.random() <= fitness_rate: #cell gains a fitness mutation\n",
    "#                     if t == (timesteps - 1):\n",
    "#                         network.node[node]['fitness'] = fitness\n",
    "#                     else:\n",
    "#                     s = max(1e-20, U()[0])\n",
    "                    if np.random.random() <= 0.5:\n",
    "                        fitness = fitness + epsilon\n",
    "                    else:\n",
    "                        fitness = fitness - epsilon\n",
    "                    network.nodes[sim_utils.node_to_string(node)]['fitness'] = fitness\n",
    "                \n",
    "                if np.random.random() <= fitness: #and t != (timesteps - 1): #cell divides\n",
    "                    for _ in range(0,2):\n",
    "                        temp_current_cells.append([node[0], str(uniq)])\n",
    "                        network.add_edge(sim_utils.node_to_string(node), sim_utils.node_to_string([node[0], str(uniq)]))\n",
    "                        network.nodes[sim_utils.node_to_string([node[0], str(uniq)])]['fitness'] = fitness\n",
    "                        network.nodes[sim_utils.node_to_string([node[0], str(uniq)])]['lifespan'] = 0\n",
    "                        uniq += 1\n",
    "                else: #cell does not divide\n",
    "                    temp_current_cells.append(node)\n",
    "                                    \n",
    "            else: #if cell dies\n",
    "                curr_parent = sim_utils.node_to_string(node)\n",
    "                while network.out_degree(curr_parent) < 1 and network.in_degree(curr_parent) > 0:\n",
    "                    next_parent = list(network.predecessors(curr_parent))[0]\n",
    "                    network.remove_node(curr_parent)\n",
    "                    curr_parent = next_parent\n",
    "                \n",
    "        current_cells = temp_current_cells\n",
    "#         print(\"timestep:\" + str(t))\n",
    "#         print(\"size:\" + str(len(current_cells)))\n",
    "        \n",
    "    rdict = {}\n",
    "    i = 0\n",
    "    for n in network.nodes:\n",
    "        nn = Node(\"StateNode\" + str(i), n.split(\"_\")[0].split(\"|\"), pid = n.split(\"_\")[1], is_target=False)\n",
    "        i += 1\n",
    "        rdict[n] = nn\n",
    "\n",
    "    network = nx.relabel_nodes(network, rdict)\n",
    "    \n",
    "#     source = [x for x in network.nodes() if network.in_degree(x)==0][0]\n",
    "\n",
    "#     max_depth = max(nx.shortest_path_length(network,source,node) for node in network.nodes())\n",
    "#     shortest_paths = nx.shortest_path_length(network,source)\n",
    "\n",
    "#     leaves = [x for x in network.nodes() if network.out_degree(x)==0 and network.in_degree(x) == 1 and shortest_paths[x] == max_depth]\n",
    "\n",
    "    leaves2 = [n for n in network if network.out_degree(n) == 0 and network.in_degree(n) == 1] \n",
    "    \n",
    "    state_tree = Cassiopeia_Tree('simulated', network = network)\n",
    "    return state_tree, leaves2"
   ]
  },
  {
   "cell_type": "code",
   "execution_count": 148,
   "metadata": {},
   "outputs": [],
   "source": [
    "path = \"/data/yosef2/users/richardz/projects/Yule/Chow_trees\"\n",
    "\n",
    "size_c = []\n",
    "max_heights_c = []\n",
    "avg_heights_c = []\n",
    "widths_c = []\n",
    "avg_deg_c = []\n",
    "avg_leaf_deg_c = []\n",
    "balances_c = []\n",
    "\n",
    "for i in range(1, 106):\n",
    "    tree = Phylo.read(path + \"/ground_\" + str(i) + \".nwk\", 'newick')\n",
    "    network = Phylo.to_networkx(tree)\n",
    "    network = network.to_directed()\n",
    "    prune_directed_graph(network)\n",
    "    \n",
    "    root = [a for a in network.nodes()][0]\n",
    "    leaves = [n for n in network if network.out_degree(n) == 0]\n",
    "    if len(leaves) == 0:\n",
    "        continue\n",
    "    size_c.append(len(leaves))\n",
    "    max_heights_c.append(maxDepth(network, root))\n",
    "    avg_heights_c.append(all_depths(network)[1])\n",
    "    widths_c.append(diameter(network))\n",
    "    avg_deg_c.append(degree_dist(network)[1])\n",
    "    avg_leaf_deg_c.append(degree_dist_leaves(network)[1])\n",
    "    balances_c.append(balance_dist(network)[1])"
   ]
  },
  {
   "cell_type": "code",
   "execution_count": 194,
   "metadata": {},
   "outputs": [
    {
     "name": "stdout",
     "output_type": "stream",
     "text": [
      "0.00026253 0.0\n",
      "size\n",
      "stat: 0.18095238095238095 p-value: 0.06409463149747963\n",
      "avg_height\n",
      "stat: 0.24761904761904763 p-value: 0.0030860143013870006\n"
     ]
    }
   ],
   "source": [
    "timesteps = 10000\n",
    "division_rate = 0.00026253\n",
    "#U = lambda: np.random.exponential(1, 1),\n",
    "fitness_rate = 0.000\n",
    "epsilon = 0.001\n",
    "cell_death = 0.000\n",
    "\n",
    "        \n",
    "# for division_rate in frange(0.004, 0.005, 0.0001):\n",
    "# #     for cell_death in frange(0, 0.00305, 0.0001):\n",
    "\n",
    "size = []\n",
    "#         max_heights = []\n",
    "avg_heights = []\n",
    "#         widths = []\n",
    "# avg_deg = []\n",
    "# avg_leaf_deg = []\n",
    "# avg_unique_chars = []\n",
    "balances = []\n",
    "for i in range(1, 106):\n",
    "    out, leaves = phylo_forward_pass(timesteps = timesteps, \n",
    "                                          min_division_rate = division_rate, \n",
    "                                          fitness_rate = fitness_rate, \n",
    "                                          epsilon = epsilon, \n",
    "                                          cell_death = cell_death)\n",
    "    while len(leaves) == 0:\n",
    "        out, leaves = phylo_forward_pass(timesteps = timesteps, \n",
    "                                              min_division_rate = division_rate, \n",
    "                                              fitness_rate = fitness_rate, \n",
    "                                              epsilon = epsilon,\n",
    "                                              cell_death = cell_death)\n",
    "\n",
    "    network = out.network\n",
    "    num_leaves = len(leaves)\n",
    "    size.append(num_leaves)\n",
    "\n",
    "    root = [n for n in network if network.in_degree(n) == 0][0]\n",
    "#             max_heights.append(maxDepth(network, root))\n",
    "    avg_heights.append(all_depths(network)[1])\n",
    "#             widths.append(diameter(network))\n",
    "\n",
    "#     avg_deg.append(degree_dist(network)[1])\n",
    "#     avg_leaf_deg.append(degree_dist_leaves(network)[1])\n",
    "    balances.append(balance_dist(network)[1])\n",
    "\n",
    "#         print(size)\n",
    "#         print(stats.ks_2samp(size, size_c)[1])\n",
    "if stats.ks_2samp(size, size_c)[1] > .00001:\n",
    "    print(division_rate, cell_death)\n",
    "    print(\"size\")\n",
    "    print(\"stat: \" + str(stats.ks_2samp(size, size_c)[0]), \"p-value: \" + str(stats.ks_2samp(size, size_c)[1]))\n",
    "    print(\"avg_height\")\n",
    "    print(\"stat: \" + str(stats.ks_2samp(avg_heights, avg_heights_c)[0]), \"p-value: \" + str(stats.ks_2samp(avg_heights, avg_heights_c)[1]))\n",
    "\n"
   ]
  },
  {
   "cell_type": "code",
   "execution_count": 195,
   "metadata": {},
   "outputs": [
    {
     "data": {
      "image/png": "[encoded data removed]",
      "text/plain": [
       "<Figure size 432x288 with 1 Axes>"
      ]
     },
     "metadata": {
      "needs_background": "light"
     },
     "output_type": "display_data"
    }
   ],
   "source": [
    "plt.scatter(sorted(size), sorted(size_c))\n",
    "# plt.plot(range(min(size),max(size) + 1), range(min(size),max(size) + 1), 'b')\n",
    "plt.plot([0, 80], [0, 80], 'b')\n",
    "plt.title(\"Sample Size (Number of Leaves)\")\n",
    "plt.xlabel(\"Simulated Trees\")\n",
    "plt.ylabel(\"Ground Truth Trees\")\n",
    "plt.show()"
   ]
  },
  {
   "cell_type": "code",
   "execution_count": 196,
   "metadata": {},
   "outputs": [
    {
     "name": "stdout",
     "output_type": "stream",
     "text": [
      "mean 14.380952380952381\n",
      "SD 12.433191427958032\n"
     ]
    }
   ],
   "source": [
    "import statistics as stat\n",
    "print(\"mean \" + str(stat.mean(size)) )\n",
    "print(\"SD \" + str((stat.variance(size)) ** (1/2)))\n"
   ]
  },
  {
   "cell_type": "code",
   "execution_count": 87,
   "metadata": {},
   "outputs": [],
   "source": [
    "# path = \"/data/yosef2/users/richardz/projects/Yule/topology/t7\"\n",
    "\n",
    "# size = []\n",
    "# max_heights = []\n",
    "# avg_heights = []\n",
    "# widths = []\n",
    "# avg_deg = []\n",
    "# avg_leaf_deg = []\n",
    "# balances = []\n",
    "\n",
    "# for i in range(1, 105):\n",
    "#     net = pic.load(open(path + \"/dropout_net\" + str(i) + \".pkl\", 'rb'))\n",
    "#     network = net.network\n",
    "    \n",
    "#     root = [a for a in network.nodes()][0]\n",
    "#     leaves = [n for n in network if network.out_degree(n) == 0 and network.in_degree(n) == 1]\n",
    "#     size.append(len(leaves))\n",
    "#     max_heights.append(maxDepth(network, root))\n",
    "#     avg_heights.append(all_depths(network)[1])\n",
    "#     widths.append(diameter(network))\n",
    "#     avg_deg.append(degree_dist(network)[1])\n",
    "#     avg_leaf_deg.append(degree_dist_leaves(network)[1])\n",
    "#     balances.append(balance_dist(network)[2])\n"
   ]
  },
  {
   "cell_type": "code",
   "execution_count": null,
   "metadata": {},
   "outputs": [],
   "source": [
    "# path = \"/data/yosef2/users/richardz/projects/Yule/topology/t7\"\n",
    "# if os.path.exists(path) == False:\n",
    "#     os.mkdir(path)  \n",
    "\n",
    "# timesteps = 7\n",
    "# division_rate = 0.55\n",
    "# #U = lambda: np.random.exponential(1, 1),\n",
    "# fitness_rate = 0.000\n",
    "# epsilon = 0.001\n",
    "# cell_death = 0.000    \n",
    "    \n",
    "# # counts = []\n",
    "# size = []\n",
    "# max_heights = []\n",
    "# avg_heights = []\n",
    "# widths = []\n",
    "# avg_deg = []\n",
    "# avg_leaf_deg = []\n",
    "# for i in range(1, 106):\n",
    "#     out, leaves = Yule.phylo_forward_pass(timesteps = timesteps, \n",
    "#                                           min_division_rate = division_rate, \n",
    "#                                           fitness_rate = fitness_rate, \n",
    "#                                           epsilon = epsilon, \n",
    "#                                           cell_death = cell_death)\n",
    "#     while len(leaves) == 0:\n",
    "#         out, leaves = Yule.phylo_forward_pass(timesteps = timesteps, \n",
    "#                                       min_division_rate = division_rate, \n",
    "#                                       fitness_rate = fitness_rate, \n",
    "#                                       epsilon = epsilon, \n",
    "#                                       cell_death = cell_death)\n",
    "    \n",
    "    \n",
    "#     network = out.network\n",
    "#     pic.dump(out, open(path + '/dropout_net' + str(i) + '.pkl', 'wb'))\n",
    "    \n",
    "#     root = [a for a in network.nodes()][0]\n",
    "#     size.append(len(leaves))\n",
    "#     max_heights.append(maxDepth(network, root))\n",
    "#     avg_heights.append(all_depths(network)[1])\n",
    "#     widths.append(adiameter(network))\n",
    "#     avg_deg.append(degree_dist(network)[1])\n",
    "#     avg_leaf_deg.append(degree_dist_leaves(network)[1])"
   ]
  },
  {
   "cell_type": "code",
   "execution_count": null,
   "metadata": {},
   "outputs": [],
   "source": [
    "plt.scatter(sorted(size), sorted(size_c))\n",
    "plt.plot(range(min(size),max(size) + 1), range(min(size),max(size) + 1), 'b')\n",
    "# plt.plot([0, 30], [0, 30], 'b')\n",
    "plt.title(\"Sample Size (Number of Leaves)\")\n",
    "plt.xlabel(\"Simulated Trees\")\n",
    "plt.ylabel(\"Ground Truth Trees\")\n",
    "plt.show()"
   ]
  },
  {
   "cell_type": "code",
   "execution_count": null,
   "metadata": {},
   "outputs": [],
   "source": [
    "plt.scatter(sorted(max_heights), sorted(max_heights_c))\n",
    "plt.plot(range(min(max_heights),max(max_heights) + 1), range(min(max_heights),max(max_heights) + 1), 'b')\n",
    "plt.title(\"Maximum Height of Trees\")\n",
    "plt.xlabel(\"Simulated Trees\")\n",
    "plt.ylabel(\"Ground Truth Trees\")\n",
    "plt.show()"
   ]
  },
  {
   "cell_type": "code",
   "execution_count": null,
   "metadata": {},
   "outputs": [],
   "source": [
    "plt.scatter(sorted(avg_heights), sorted(avg_heights_c))\n",
    "plt.plot([min(avg_heights),max(avg_heights)], [min(avg_heights),max(avg_heights)], 'b')\n",
    "plt.title(\"Average Height of Trees\")\n",
    "plt.xlabel(\"Simulated Trees\")\n",
    "plt.ylabel(\"Ground Truth Trees\")\n",
    "plt.show()"
   ]
  },
  {
   "cell_type": "code",
   "execution_count": null,
   "metadata": {},
   "outputs": [],
   "source": [
    "plt.scatter(sorted(widths), sorted(widths_c))\n",
    "plt.plot(range(min(widths),max(widths) + 1), range(min(widths),max(widths) + 1), 'b')\n",
    "plt.title(\"Diameter of Trees\")\n",
    "plt.xlabel(\"Simulated Trees\")\n",
    "plt.ylabel(\"Ground Truth Trees\")\n",
    "plt.show()"
   ]
  },
  {
   "cell_type": "code",
   "execution_count": null,
   "metadata": {},
   "outputs": [],
   "source": [
    "plt.scatter(sorted(avg_deg), sorted(avg_deg_c))\n",
    "plt.plot([0.9,1], [0.9,1], 'b')\n",
    "plt.title(\"Average Outdegree of Nodes\")\n",
    "plt.xlabel(\"Simulated Trees\")\n",
    "plt.ylabel(\"Ground Truth Trees\")\n",
    "plt.show()"
   ]
  },
  {
   "cell_type": "code",
   "execution_count": null,
   "metadata": {},
   "outputs": [],
   "source": [
    "plt.scatter(sorted(balances), sorted(balances_c))\n",
    "# plt.plot(range(min(balances),max(balances) + 1), range(min(balances),max(balances) + 1), 'b')\n",
    "plt.plot([0,8], [0,8], 'b')\n",
    "plt.title(\"Maximum Difference of Height of Subtrees Across Nodes with 2 Branches\")\n",
    "plt.xlabel(\"Simulated Trees\")\n",
    "plt.ylabel(\"Ground Truth Trees\")\n",
    "plt.show()"
   ]
  },
  {
   "cell_type": "code",
   "execution_count": null,
   "metadata": {},
   "outputs": [],
   "source": [
    "tree = Phylo.read('/data/yosef2/users/richardz/projects/DreamChallenge/subC1/sub1_train_' + str(6) + '.nwk', 'newick')\n",
    "network = Phylo.to_networkx(tree)\n",
    "network = network.to_directed()\n",
    "prune_directed_graph(network)\n",
    "\n",
    "root = [a for a in network.nodes()][0]\n",
    "maxDepth(network, root)\n",
    "\n",
    "nx.draw(network)"
   ]
  },
  {
   "cell_type": "code",
   "execution_count": null,
   "metadata": {},
   "outputs": [],
   "source": [
    "net = pic.load(open(path + \"/dropout_net\" + str(4) + \".pkl\", 'rb'))\n",
    "network = net.network\n",
    "\n",
    "nx.draw(network)"
   ]
  },
  {
   "cell_type": "code",
   "execution_count": 206,
   "metadata": {},
   "outputs": [],
   "source": [
    "path = \"/data/yosef2/users/richardz/projects/Yule/benchmarking/t500\"\n",
    "\n",
    "size = []\n",
    "max_heights = []\n",
    "avg_heights = []\n",
    "widths = []\n",
    "avg_deg = []\n",
    "avg_leaf_deg = []\n",
    "balances = []\n",
    "\n",
    "for i in range(1, 51):\n",
    "    net = pic.load(open(path + \"/dropout_net\" + str(i) + \".pkl\", 'rb'))\n",
    "    network = net.network\n",
    "    \n",
    "    root = [a for a in network.nodes()][0]\n",
    "    leaves = [n for n in network if network.out_degree(n) == 0 and network.in_degree(n) == 1]\n",
    "    size.append(len(leaves))\n",
    "    max_heights.append(maxDepth(network, root))\n",
    "    avg_heights.append(all_depths(network)[1])\n",
    "    widths.append(diameter(network))\n",
    "    avg_deg.append(degree_dist(network)[1])\n",
    "    avg_leaf_deg.append(degree_dist_leaves(network)[1])\n",
    "    balances.append(balance_dist(network)[1])"
   ]
  },
  {
   "cell_type": "code",
   "execution_count": 207,
   "metadata": {},
   "outputs": [],
   "source": [
    "path = \"/data/yosef2/users/richardz/projects/Yule/benchmarking/old_sim\"\n",
    "\n",
    "size2 = []\n",
    "max_heights2 = []\n",
    "avg_heights2 = []\n",
    "widths2 = []\n",
    "avg_deg2 = []\n",
    "avg_leaf_deg2 = []\n",
    "balances2 = []\n",
    "\n",
    "for i in range(0, 50):\n",
    "    net = pic.load(open(path + \"/dropout_net\" + str(i) + \".pkl\", 'rb'))\n",
    "    network = net.network\n",
    "    \n",
    "    root = [a for a in network.nodes()][0]\n",
    "    leaves = [n for n in network if network.out_degree(n) == 0 and network.in_degree(n) == 1]\n",
    "    size2.append(len(leaves))\n",
    "    max_heights2.append(maxDepth(network, root))\n",
    "    avg_heights2.append(all_depths(network)[1])\n",
    "    widths2.append(diameter(network))\n",
    "    avg_deg2.append(degree_dist(network)[1])\n",
    "    avg_leaf_deg2.append(degree_dist_leaves(network)[1])\n",
    "    balances2.append(balance_dist(network)[1])"
   ]
  },
  {
   "cell_type": "code",
   "execution_count": 211,
   "metadata": {},
   "outputs": [
    {
     "data": {
      "image/png": "[encoded data removed]",
      "text/plain": [
       "<Figure size 432x288 with 1 Axes>"
      ]
     },
     "metadata": {
      "needs_background": "light"
     },
     "output_type": "display_data"
    }
   ],
   "source": [
    "plt.scatter(sorted(size), sorted(size2))\n",
    "plt.plot(range(min(size),max(size) + 1), range(min(size),max(size) + 1), 'b')\n",
    "# plt.plot([0, 30], [0, 30], 'b')\n",
    "plt.title(\"Sample Size (Number of Leaves)\")\n",
    "plt.xlabel(\"Simulated Trees\")\n",
    "plt.ylabel(\"Ground Truth Trees\")\n",
    "plt.show()"
   ]
  },
  {
   "cell_type": "code",
   "execution_count": 210,
   "metadata": {},
   "outputs": [
    {
     "data": {
      "image/png": "[encoded data removed]",
      "text/plain": [
       "<Figure size 432x288 with 1 Axes>"
      ]
     },
     "metadata": {
      "needs_background": "light"
     },
     "output_type": "display_data"
    }
   ],
   "source": [
    "plt.scatter(sorted(balances), sorted(balances2))\n",
    "# plt.plot(range(min(balances),max(balances) + 1), range(min(balances),max(balances) + 1), 'b')\n",
    "plt.plot([0,2], [0,2], 'b')\n",
    "plt.title(\"Average Difference of Height of Subtrees Across Nodes with 2 Branches\")\n",
    "plt.xlabel(\"Simulated Trees\")\n",
    "plt.ylabel(\"Ground Truth Trees\")\n",
    "plt.show()"
   ]
  },
  {
   "cell_type": "code",
   "execution_count": 213,
   "metadata": {},
   "outputs": [
    {
     "data": {
      "image/png": "[encoded data removed]",
      "text/plain": [
       "<Figure size 432x288 with 1 Axes>"
      ]
     },
     "metadata": {
      "needs_background": "light"
     },
     "output_type": "display_data"
    }
   ],
   "source": [
    "plt.scatter(sorted(avg_heights), sorted(avg_heights2))\n",
    "# plt.plot([min(avg_heights),max(avg_heights)], [min(avg_heights),max(avg_heights)], 'b')\n",
    "plt.plot([0,20], [0,20], 'b')\n",
    "plt.title(\"Average Height of Trees\")\n",
    "plt.xlabel(\"Simulated Trees\")\n",
    "plt.ylabel(\"Ground Truth Trees\")\n",
    "plt.show()"
   ]
  },
  {
   "cell_type": "code",
   "execution_count": 219,
   "metadata": {},
   "outputs": [
    {
     "data": {
      "image/png": "[encoded data removed]",
      "text/plain": [
       "<Figure size 432x288 with 1 Axes>"
      ]
     },
     "metadata": {
      "needs_background": "light"
     },
     "output_type": "display_data"
    }
   ],
   "source": [
    "norm_widths = [widths[i]/size[i] for i in range(0, len(widths))]\n",
    "norm_widths2 = [widths2[i]/size2[i] for i in range(0, len(widths2))]\n",
    "plt.scatter(sorted(norm_widths), sorted(norm_widths2))\n",
    "plt.plot([0,0.2], [0,0.2], 'b')\n",
    "# plt.plot(range(min(widths),max(widths) + 1), range(min(widths),max(widths) + 1), 'b')\n",
    "plt.title(\"Normalized Diameter of Trees\")\n",
    "plt.xlabel(\"Simulated Trees\")\n",
    "plt.ylabel(\"Ground Truth Trees\")\n",
    "plt.show()"
   ]
  },
  {
   "cell_type": "code",
   "execution_count": null,
   "metadata": {},
   "outputs": [],
   "source": [
    "print(\"size\")\n",
    "print(\"stat: \" + str(stats.ks_2samp(size, size_c)[0]), \"p-value: \" + str(stats.ks_2samp(size, size_c)[1]))\n",
    "\n",
    "print(\"avg_heights\")\n",
    "print(\"stat: \" + str(stats.ks_2samp(avg_heights, avg_heights_c)[0]), \"p-value: \" + str(stats.ks_2samp(avg_heights, avg_heights_c)[1]))\n"
   ]
  },
  {
   "cell_type": "code",
   "execution_count": 131,
   "metadata": {},
   "outputs": [
    {
     "data": {
      "text/plain": [
       "7.59439980675948"
      ]
     },
     "execution_count": 131,
     "metadata": {},
     "output_type": "execute_result"
    }
   ],
   "source": [
    "import statistics as stat\n",
    "(stat.variance(size_c)) ** (1/2)\n",
    "# stat.mean(size_c)"
   ]
  },
  {
   "cell_type": "code",
   "execution_count": 295,
   "metadata": {},
   "outputs": [
    {
     "name": "stdout",
     "output_type": "stream",
     "text": [
      "0.26253 0\n",
      "size\n",
      "stat: 0.2857142857142857 p-value: 0.00035039653867457223\n"
     ]
    }
   ],
   "source": [
    "from dendropy.simulate import treesim\n",
    "\n",
    "birth_rate=0.26253\n",
    "death_rate=0\n",
    "max_time=10\n",
    "\n",
    "size = []\n",
    "#         max_heights = []\n",
    "avg_heights = []\n",
    "#         widths = []\n",
    "# avg_deg = []\n",
    "# avg_leaf_deg = []\n",
    "# avg_unique_chars = []\n",
    "# balances = []\n",
    "for i in range(1, 106):\n",
    "\n",
    "    t = treesim.birth_death_tree(birth_rate=birth_rate, death_rate=death_rate, max_time=max_time)\n",
    "    num_leaves = 0\n",
    "    for node in t.leaf_node_iter():\n",
    "        num_leaves += 1\n",
    "    size.append(num_leaves)\n",
    "\n",
    "if stats.ks_2samp(size, size_c)[1] > .00001:\n",
    "    print(birth_rate, death_rate)\n",
    "    print(\"size\")\n",
    "    print(\"stat: \" + str(stats.ks_2samp(size, size_c)[0]), \"p-value: \" + str(stats.ks_2samp(size, size_c)[1]))\n",
    "#     print(\"avg_height\")\n",
    "#     print(\"stat: \" + str(stats.ks_2samp(avg_heights, avg_heights_c)[0]), \"p-value: \" + str(stats.ks_2samp(avg_heights, avg_heights_c)[1]))\n",
    "\n"
   ]
  },
  {
   "cell_type": "code",
   "execution_count": 296,
   "metadata": {},
   "outputs": [
    {
     "data": {
      "image/png": "[encoded data removed]",
      "text/plain": [
       "<Figure size 432x288 with 1 Axes>"
      ]
     },
     "metadata": {
      "needs_background": "light"
     },
     "output_type": "display_data"
    }
   ],
   "source": [
    "plt.scatter(sorted(size), sorted(size_c))\n",
    "plt.plot(range(min(size),max(size) + 1), range(min(size),max(size) + 1), 'b')\n",
    "# plt.plot([0, 30], [0, 30], 'b')\n",
    "plt.title(\"Sample Size (Number of Leaves)\")\n",
    "plt.xlabel(\"Simulated Trees\")\n",
    "plt.ylabel(\"Ground Truth Trees\")\n",
    "plt.show()"
   ]
  },
  {
   "cell_type": "code",
   "execution_count": 297,
   "metadata": {},
   "outputs": [
    {
     "name": "stdout",
     "output_type": "stream",
     "text": [
      "mean 12.638095238095238\n",
      "SD 11.807855769590763\n"
     ]
    }
   ],
   "source": [
    "print(\"mean \" + str(stat.mean(size)) )\n",
    "print(\"SD \" + str((stat.variance(size)) ** (1/2)))"
   ]
  },
  {
   "cell_type": "code",
   "execution_count": 307,
   "metadata": {},
   "outputs": [],
   "source": [
    "t = treesim.birth_death_tree(birth_rate=1, death_rate=0, num_extant_tips = 4)"
   ]
  },
  {
   "cell_type": "code",
   "execution_count": 311,
   "metadata": {},
   "outputs": [
    {
     "name": "stdout",
     "output_type": "stream",
     "text": [
      "1.380862380806234\n",
      "0.22558014617335156\n",
      "0\n",
      "0\n",
      "0.20695403305189125\n",
      "0.018626113121460303\n",
      "0.018626113121460303\n"
     ]
    }
   ],
   "source": [
    "for i in t.edges():\n",
    "    print(i.length)"
   ]
  },
  {
   "cell_type": "code",
   "execution_count": null,
   "metadata": {},
   "outputs": [],
   "source": [
    "t.plot()"
   ]
  }
 ],
 "metadata": {
  "kernelspec": {
   "display_name": "Python 3",
   "language": "python",
   "name": "python3"
  },
  "language_info": {
   "codemirror_mode": {
    "name": "ipython",
    "version": 3
   },
   "file_extension": ".py",
   "mimetype": "text/x-python",
   "name": "python",
   "nbconvert_exporter": "python",
   "pygments_lexer": "ipython3",
   "version": "3.6.10"
  }
 },
 "nbformat": 4,
 "nbformat_minor": 2
}
