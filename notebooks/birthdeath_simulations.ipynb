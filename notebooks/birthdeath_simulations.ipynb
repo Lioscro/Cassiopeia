{
 "cells": [
  {
   "cell_type": "code",
   "execution_count": 1,
   "metadata": {},
   "outputs": [
    {
     "data": {
      "text/plain": [
       "<rpy2.rinterface_lib.sexp.NULLType object at 0x7f83d0f94248> [RTYPES.NILSXP]"
      ]
     },
     "execution_count": 1,
     "metadata": {},
     "output_type": "execute_result"
    }
   ],
   "source": [
    "import sys \n",
    "import networkx as nx\n",
    "import pandas as pd\n",
    "import numpy as np\n",
    "import pickle as pic\n",
    "import random\n",
    "import scipy.stats as stats\n",
    "import statistics\n",
    "\n",
    "import cassiopeia.TreeSolver.simulation_tools.simulation_utils as sim_utils\n",
    "import cassiopeia.TreeSolver.simulation_tools.dataset_generation as data_gen\n",
    "import cassiopeia.TreeSolver.simulation_tools.birthdeath_utils as bd\n",
    "from cassiopeia.TreeSolver.Node import Node\n",
    "from cassiopeia.TreeSolver.Cassiopeia_Tree import Cassiopeia_Tree\n",
    "\n",
    "\n",
    "from tqdm import tqdm_notebook\n",
    "import matplotlib.pyplot as plt\n",
    "\n",
    "import subprocess\n",
    "\n",
    "from Bio import Phylo as Phylo\n",
    "from io import StringIO\n",
    "\n",
    "#import seaborn as sns\n",
    "import os\n",
    "\n",
    "import rpy2\n",
    "import rpy2.robjects as robjects\n",
    "import rpy2.robjects.packages as rpackages\n",
    "utils = rpackages.importr('utils')\n",
    "utils.chooseCRANmirror(ind=1)\n",
    "\n",
    "# utils.install_packages('mnormt')\n",
    "# utils.install_packages('TreeSimGM')\n",
    "# utils.install_packages('ape')"
   ]
  },
  {
   "cell_type": "code",
   "execution_count": 4,
   "metadata": {},
   "outputs": [],
   "source": [
    "num_cells = 400\n",
    "num_cassettes = 10\n",
    "num_states = 1000\n",
    "\n",
    "mut_perc = 0.53\n",
    "sampling_prop = 0.5\n",
    "epsilon = 0.5\n",
    "total_dropout_perc = 0.225\n",
    "\n",
    "# while statistics.mean(silence_rates) < 0.02 or statistics.mean(silence_rates) > 0.0205:\n",
    "#     silence_rates = list(np.random.exponential(0.02, size=num_cassettes))\n",
    "\n",
    "    \n",
    "# silence_rates = list(np.random.normal(0.018, 0.012, size=num_cassettes))\n",
    "# silence_rates = list(np.random.uniform(0, 0.036, size=num_cassettes))\n",
    "# while statistics.mean(silence_rates) < 0.0175 or statistics.mean(silence_rates) > 0.0185:\n",
    "#     silence_rates = list(np.random.uniform(0, 0.038, size=num_cassettes))\n",
    "# silence_rates = [.015] * num_cassettes\n",
    "# silence_rates = [1/n for n in list(np.random.negative_binomial(2,.020, size=num_cassettes))]    \n",
    "    \n",
    "running_time = 100\n",
    "ratio = 0.15\n",
    "cassette_size = 3\n",
    "dist = 'empirical'\n",
    "\n",
    "# print(silence_rates)\n",
    "# print(statistics.mean(silence_rates))\n",
    "# plt.hist(silence_rates)"
   ]
  },
  {
   "cell_type": "code",
   "execution_count": 28,
   "metadata": {},
   "outputs": [
    {
     "name": "stdout",
     "output_type": "stream",
     "text": [
      "/data/yosef2/users/richardz/projects/heritable_prop_exp/400cells_exp_large_0_22/\n",
      "0\n"
     ]
    },
    {
     "ename": "KeyboardInterrupt",
     "evalue": "",
     "output_type": "error",
     "traceback": [
      "\u001b[0;31m---------------------------------------------------------------------------\u001b[0m",
      "\u001b[0;31mKeyboardInterrupt\u001b[0m                         Traceback (most recent call last)",
      "\u001b[0;32m<ipython-input-28-da17894bd723>\u001b[0m in \u001b[0;36m<module>\u001b[0;34m\u001b[0m\n\u001b[1;32m     52\u001b[0m             \u001b[0mbd\u001b[0m\u001b[0;34m.\u001b[0m\u001b[0moverlay_heritable_dropout\u001b[0m\u001b[0;34m(\u001b[0m\u001b[0mnetwork\u001b[0m\u001b[0;34m)\u001b[0m\u001b[0;34m\u001b[0m\u001b[0;34m\u001b[0m\u001b[0m\n\u001b[1;32m     53\u001b[0m             \u001b[0mdrops\u001b[0m \u001b[0;34m=\u001b[0m \u001b[0mbd\u001b[0m\u001b[0;34m.\u001b[0m\u001b[0mrecord_heritable_dropouts\u001b[0m\u001b[0;34m(\u001b[0m\u001b[0mnetwork\u001b[0m\u001b[0;34m)\u001b[0m\u001b[0;34m\u001b[0m\u001b[0;34m\u001b[0m\u001b[0m\n\u001b[0;32m---> 54\u001b[0;31m             \u001b[0mpic\u001b[0m\u001b[0;34m.\u001b[0m\u001b[0mdump\u001b[0m\u001b[0;34m(\u001b[0m\u001b[0mdrops\u001b[0m\u001b[0;34m,\u001b[0m \u001b[0mopen\u001b[0m\u001b[0;34m(\u001b[0m\u001b[0mpath\u001b[0m \u001b[0;34m+\u001b[0m \u001b[0;34m'drops'\u001b[0m \u001b[0;34m+\u001b[0m \u001b[0mstr\u001b[0m\u001b[0;34m(\u001b[0m\u001b[0mnum\u001b[0m\u001b[0;34m)\u001b[0m \u001b[0;34m+\u001b[0m \u001b[0;34m'.pkl'\u001b[0m\u001b[0;34m,\u001b[0m \u001b[0;34m'wb'\u001b[0m\u001b[0;34m)\u001b[0m\u001b[0;34m)\u001b[0m\u001b[0;34m\u001b[0m\u001b[0;34m\u001b[0m\u001b[0m\n\u001b[0m\u001b[1;32m     55\u001b[0m             \u001b[0mbd\u001b[0m\u001b[0;34m.\u001b[0m\u001b[0madd_stochastic_leaves\u001b[0m\u001b[0;34m(\u001b[0m\u001b[0msel_leaves\u001b[0m\u001b[0;34m,\u001b[0m \u001b[0mstoch_dropout\u001b[0m\u001b[0;34m,\u001b[0m \u001b[0mcassette_size\u001b[0m\u001b[0;34m)\u001b[0m\u001b[0;34m\u001b[0m\u001b[0;34m\u001b[0m\u001b[0m\n\u001b[1;32m     56\u001b[0m \u001b[0;34m\u001b[0m\u001b[0m\n",
      "\u001b[0;31mKeyboardInterrupt\u001b[0m: "
     ]
    }
   ],
   "source": [
    "# drop_map = {10: (0.012, 0.006), 20: (0.03, 0.014), 30: (0.062, 0.025), 40: (0.091, 0.038), 50: (0.125, 0.049)}\n",
    "# drop_map = {0: (0, 0)}\n",
    "# for drop in [10, 20, 30, 40, 50]:\n",
    "# for drop in [0]:    \n",
    "#     stoch_dropout = drop_map[drop][0]\n",
    "#     silence_rate_scale = drop_map[drop][1]\n",
    "    \n",
    "counter = 0\n",
    "for s_drop in range(11):\n",
    "    stoch_dropout = s_drop/100\n",
    "    silence_rate_center = round(np.log(1 - (total_dropout_perc - stoch_dropout))/(-1 * running_time), 4)\n",
    "    for silence_rate_scale in np.arange(silence_rate_center - 0.0003, silence_rate_center + 0.00031, 0.0001):\n",
    "        h_drop = int(round(silence_rate_scale * 10000))\n",
    "        path = \"/data/yosef2/users/richardz/projects/heritable_prop_exp/\" + str(num_cells) + \"cells_exp_large_\" + str(s_drop) + \"_\" + str(h_drop) + \"/\"\n",
    "        print(path)\n",
    "        if os.path.exists(path) == False:\n",
    "            os.mkdir(path)\n",
    "\n",
    "        mut_rate = np.log(1 - mut_perc)/(-1 * running_time)\n",
    "        samp_scale = 1/sampling_prop\n",
    "        vals = bd.get_net_div(100, round(num_cells * samp_scale), ratio)\n",
    "\n",
    "        prior_probabilities = bd.compute_priors(num_cassettes * cassette_size, num_states, mean = 1, disp = 0.5, dist = dist)\n",
    "        for num in range(0, 50):\n",
    "\n",
    "            silence_rates = list(np.random.exponential(silence_rate_scale, size=num_cassettes))\n",
    "    #         silence_rates = [silence_rate_scale] * num_cassettes\n",
    "\n",
    "            pic.dump(silence_rates, open(path + 'silence_rates' + str(num) + '.pkl', 'wb'))\n",
    "\n",
    "        #     tree, leaves = bd.construct_topology(num_cassettes * cassette_size, vals[0], vals[1], time = running_time)\n",
    "        #     while len(leaves) < num_cells:\n",
    "        #         tree, leaves = bd.construct_topology(num_cassettes * cassette_size, vals[0], vals[1], time = running_time)\n",
    "        #     print(len(leaves))\n",
    "\n",
    "            tree, leaves = bd.construct_topology(num_cassettes * cassette_size, vals[0], vals[1], num_leaves = round(num_cells * samp_scale))\n",
    "            network = tree.network\n",
    "            bd.overlay_mutation_continuous(network, prior_probabilities, mut_rate, cassette_size, epsilon, silence_rates)\n",
    "\n",
    "            sel_leaves = np.random.choice(leaves, round(sampling_prop * len(leaves)), replace = False)\n",
    "\n",
    "            to_remove = list(set(leaves) - set(sel_leaves))\n",
    "            for node in to_remove:\n",
    "                bd.remove_and_prune(node, network)\n",
    "            bd.post_process_tree(network)\n",
    "\n",
    "            pic.dump(prior_probabilities, open(path + 'priors' + str(num) + '.pkl', 'wb'))\n",
    "\n",
    "            ground_cm = bd.get_character_matrix(sel_leaves)\n",
    "            ground_cm.to_csv(path + 'ground_truth_cm' + str(num) + '.txt', sep = '\\t')\n",
    "\n",
    "            bd.overlay_heritable_dropout(network)\n",
    "            drops = bd.record_heritable_dropouts(network)\n",
    "            pic.dump(drops, open(path + 'drops' + str(num) + '.pkl', 'wb'))\n",
    "            bd.add_stochastic_leaves(sel_leaves, stoch_dropout, cassette_size)\n",
    "\n",
    "            dropout_cm = bd.get_character_matrix(sel_leaves)\n",
    "            dropout_cm = dropout_cm.astype(str)\n",
    "\n",
    "            row_names = ['c' + str(i) for i in range(dropout_cm.shape[0])]\n",
    "            dropout_cm.index = row_names\n",
    "            dropout_cm.to_csv(path + 'dropout_cm' + str(num) + '.txt', sep = '\\t')\n",
    "        #     dropout_cm.replace(\"*\", \"-\").to_csv(path + '/dropout_cm_edit' + str(num) + '.txt', sep = '\\t')\n",
    "            pic.dump(tree, open(path + 'dropout_net' + str(num) + '.pkl', 'wb'))\n",
    "\n",
    "            print(num)\n"
   ]
  },
  {
   "cell_type": "code",
   "execution_count": 13,
   "metadata": {},
   "outputs": [
    {
     "name": "stdout",
     "output_type": "stream",
     "text": [
      "0.20703666666666667\n",
      "0.22098833333333334\n",
      "0.21396166666666666\n",
      "0.20538333333333333\n",
      "0.20997\n",
      "0.19926\n",
      "0.21314833333333333\n",
      "0.208665\n",
      "0.21191166666666666\n",
      "0.204405\n",
      "0.20963333333333334\n",
      "0.20086833333333334\n",
      "0.211055\n",
      "0.21178833333333333\n",
      "0.21332333333333334\n",
      "0.21476666666666666\n",
      "0.207475\n",
      "0.21880833333333333\n",
      "0.22381166666666666\n",
      "0.22474\n"
     ]
    }
   ],
   "source": [
    "num_cells = 400\n",
    "for s_drop in range(20):\n",
    "    path = \"/data/yosef2/users/richardz/projects/heritable_prop_exp/\" + str(num_cells) + \"cells_exp_\" + str(s_drop) + \"/\"\n",
    "    # path = \"/data/yosef2/users/mattjones/projects/metastasis/JQ19/5k/trees/\"\n",
    "\n",
    "    drop_perc_i = []\n",
    "    stoch_perc_i = []\n",
    "    herit_perc_i = []\n",
    "    mut_perc_i = []\n",
    "    max_spc_i = []\n",
    "    avg_spc_i = []\n",
    "    size_i = []\n",
    "    num_chars_i = []\n",
    "\n",
    "    counter = 0\n",
    "    # for i in range(1, 101):\n",
    "    for i in range(0, 50):\n",
    "        cm = pd.read_csv(path + 'dropout_cm' + str(i) + '.txt', sep = '\\t', index_col = 0)\n",
    "    #     cm = pd.read_csv(path + 'lg' + str(i) + '/lg' + str(i) + '_character_matrix.txt', sep = '\\t', index_col = 0)\n",
    "\n",
    "    #     to_remove = []\n",
    "    #     for i in range(cm.shape[1]):\n",
    "    #         val = ((cm.iloc[:,i] == '-').sum() + (cm.iloc[:,i] == '*').sum())/cm.shape[0]\n",
    "    #         if val > 1:\n",
    "    #             to_remove.append('c' + str(i))\n",
    "\n",
    "    #     counter += len(to_remove)\n",
    "\n",
    "    # #     print(list(cm.index.values))\n",
    "    #     cm.drop(to_remove, inplace = True)\n",
    "\n",
    "        num_dropped = (cm.values == '-').sum() + (cm.values == '*').sum()\n",
    "        stoch_perc_i.append((cm.values == '-').sum()/num_dropped)\n",
    "        herit_perc_i.append((cm.values == '*').sum()/num_dropped)\n",
    "        num_mut = cm.shape[0] * cm.shape[1] - num_dropped - (cm.values == '0').sum()\n",
    "        drop_perc_i.append(num_dropped/(cm.shape[0] * cm.shape[1]))\n",
    "        mut_perc_i.append(num_mut/(cm.shape[0] * cm.shape[1] - num_dropped))\n",
    "\n",
    "        spc = bd.states_per_char(cm)\n",
    "        avg_spc_i.append(sum(spc)/len(spc))\n",
    "        max_spc_i.append(max(spc))\n",
    "\n",
    "        size_i.append(cm.shape[0])\n",
    "        num_chars_i.append(cm.shape[1])\n",
    "    print(statistics.mean(drop_perc_i))"
   ]
  },
  {
   "cell_type": "code",
   "execution_count": 14,
   "metadata": {},
   "outputs": [
    {
     "data": {
      "text/plain": [
       "0.22626490982901834"
      ]
     },
     "execution_count": 14,
     "metadata": {},
     "output_type": "execute_result"
    }
   ],
   "source": [
    "statistics.mean(drop_perc_i)"
   ]
  },
  {
   "cell_type": "code",
   "execution_count": 13,
   "metadata": {},
   "outputs": [
    {
     "data": {
      "text/plain": [
       "0.0"
      ]
     },
     "execution_count": 13,
     "metadata": {},
     "output_type": "execute_result"
    }
   ],
   "source": [
    "statistics.median(herit_perc_i)"
   ]
  },
  {
   "cell_type": "code",
   "execution_count": null,
   "metadata": {},
   "outputs": [],
   "source": [
    "mut_rate"
   ]
  },
  {
   "cell_type": "code",
   "execution_count": null,
   "metadata": {},
   "outputs": [],
   "source": [
    "sum([n > .15 and n < .33 for n in drop_perc_i])\n",
    "# max(drop_perc_i)"
   ]
  },
  {
   "cell_type": "code",
   "execution_count": null,
   "metadata": {},
   "outputs": [],
   "source": [
    "plt.hist(drop_perc_i)\n",
    "plt.title(\"Percentage of Dropouts\")\n",
    "plt.show"
   ]
  },
  {
   "cell_type": "code",
   "execution_count": null,
   "metadata": {},
   "outputs": [],
   "source": [
    "plt.hist(stoch_perc_i)\n",
    "plt.title(\"Percentage of Dropouts that are Stochastic for Trees of Size 400\")\n",
    "plt.show"
   ]
  },
  {
   "cell_type": "code",
   "execution_count": null,
   "metadata": {},
   "outputs": [],
   "source": [
    "plt.hist(herit_perc_i)\n",
    "plt.title(\"Percentage of Dropouts that are Heritable for Trees of Size 400\")\n",
    "plt.show"
   ]
  },
  {
   "cell_type": "code",
   "execution_count": null,
   "metadata": {},
   "outputs": [],
   "source": [
    "pars1 = pd.read_csv(\"/data/yosef2/users/richardz/projects/cont_birthdeath/onechar_test_parsimonies.txt\", sep = '\\t')\n",
    "pars2 = pd.read_csv(\"/data/yosef2/users/richardz/projects/cont_birthdeath/bothchar_test_parsimonies.txt\", sep = '\\t')"
   ]
  },
  {
   "cell_type": "code",
   "execution_count": null,
   "metadata": {},
   "outputs": [],
   "source": [
    "pars1 = pars1.sort_values([\"Type\", \"Run\"])\n",
    "pars2 = pars2.sort_values([\"Run\", \"Type\"])"
   ]
  },
  {
   "cell_type": "code",
   "execution_count": null,
   "metadata": {},
   "outputs": [],
   "source": [
    "with pd.option_context('display.max_rows', None, 'display.max_columns', None):  # more options can be specified also\n",
    "    print(pars1)"
   ]
  },
  {
   "cell_type": "code",
   "execution_count": null,
   "metadata": {},
   "outputs": [],
   "source": [
    "with pd.option_context('display.max_rows', None, 'display.max_columns', None):  # more options can be specified also\n",
    "    print(pars2)"
   ]
  },
  {
   "cell_type": "code",
   "execution_count": null,
   "metadata": {},
   "outputs": [],
   "source": []
  },
  {
   "cell_type": "code",
   "execution_count": null,
   "metadata": {},
   "outputs": [],
   "source": []
  }
 ],
 "metadata": {
  "kernelspec": {
   "display_name": "Python 3",
   "language": "python",
   "name": "python3"
  },
  "language_info": {
   "codemirror_mode": {
    "name": "ipython",
    "version": 3
   },
   "file_extension": ".py",
   "mimetype": "text/x-python",
   "name": "python",
   "nbconvert_exporter": "python",
   "pygments_lexer": "ipython3",
   "version": "3.6.10"
  }
 },
 "nbformat": 4,
 "nbformat_minor": 2
}
